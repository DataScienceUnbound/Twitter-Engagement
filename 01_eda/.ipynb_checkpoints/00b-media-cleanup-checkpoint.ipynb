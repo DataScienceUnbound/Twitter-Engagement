{
 "cells": [
  {
   "cell_type": "code",
   "execution_count": 1,
   "metadata": {
    "collapsed": true
   },
   "outputs": [],
   "source": [
    "import pandas as pd\n",
    "import numpy as np"
   ]
  },
  {
   "cell_type": "code",
   "execution_count": 2,
   "metadata": {
    "collapsed": true
   },
   "outputs": [],
   "source": [
    "df = pd.read_csv(\"cleanup_media.csv\")"
   ]
  },
  {
   "cell_type": "code",
   "execution_count": 3,
   "metadata": {
    "collapsed": true
   },
   "outputs": [],
   "source": [
    "import boto\n",
    "import boto3\n",
    "conn = boto.connect_s3()\n",
    "import requests"
   ]
  },
  {
   "cell_type": "code",
   "execution_count": 4,
   "metadata": {
    "collapsed": true
   },
   "outputs": [],
   "source": [
    "# Uses the creds in ~/.aws/credentials\n",
    "s3 = boto3.resource('s3')\n",
    "bucket_name_to_upload_image_to = 'mediacleanup'"
   ]
  },
  {
   "cell_type": "code",
   "execution_count": 5,
   "metadata": {
    "collapsed": false
   },
   "outputs": [
    {
     "name": "stdout",
     "output_type": "stream",
     "text": [
      "Good to go. Found the bucket to upload the image into.\n"
     ]
    }
   ],
   "source": [
    "# Do this as a quick and easy check to make sure your S3 access is OK\n",
    "for bucket in s3.buckets.all():\n",
    "    if bucket.name == bucket_name_to_upload_image_to:\n",
    "        print('Good to go. Found the bucket to upload the image into.')\n",
    "        good_to_go = True\n",
    "\n",
    "if not good_to_go:\n",
    "    print('Not seeing your s3 bucket, might want to double check permissions in IAM')"
   ]
  },
  {
   "cell_type": "code",
   "execution_count": 6,
   "metadata": {
    "collapsed": true
   },
   "outputs": [],
   "source": [
    "mapping_dict ={}\n",
    "for i, img_url in enumerate(df[\"image_url\"]):\n",
    "    img_name = \"mediacleanup_%05d\" % (i,)\n",
    "    mapping_dict[img_name] = img_url\n",
    "    \n",
    "    if (img_url == np.nan) | (str(img_url) == \"nan\"):\n",
    "        continue\n",
    "    else:\n",
    "        # Uses the creds in ~/.aws/credentials\n",
    "        s3_image_filename = img_name\n",
    "        internet_image_url = img_url\n",
    "\n",
    "        # Given an Internet-accessible URL, download the image and upload it to S3,\n",
    "        # without needing to persist the image to disk locally\n",
    "        req_for_image = requests.get(internet_image_url, stream=True)\n",
    "        file_object_from_req = req_for_image.raw\n",
    "        req_data = file_object_from_req.read()\n",
    "\n",
    "        # Do the actual upload to s3\n",
    "        s3.Bucket(bucket_name_to_upload_image_to).put_object(Key=s3_image_filename, Body=req_data)"
   ]
  },
  {
   "cell_type": "code",
   "execution_count": 7,
   "metadata": {
    "collapsed": true
   },
   "outputs": [],
   "source": [
    "md_01 = pd.DataFrame(mapping_dict, index = range(0,len(mapping_dict)))\n",
    "md_02 = pd.DataFrame(md_01.T[0])\n",
    "pd.DataFrame(md_02).to_csv('../assets/media_cleanup.csv', index = range(0,len(mapping_dict)))"
   ]
  },
  {
   "cell_type": "code",
   "execution_count": 23,
   "metadata": {
    "collapsed": true
   },
   "outputs": [],
   "source": [
    "-"
   ]
  },
  {
   "cell_type": "code",
   "execution_count": 24,
   "metadata": {
    "collapsed": false
   },
   "outputs": [
    {
     "data": {
      "text/html": [
       "<div>\n",
       "<style>\n",
       "    .dataframe thead tr:only-child th {\n",
       "        text-align: right;\n",
       "    }\n",
       "\n",
       "    .dataframe thead th {\n",
       "        text-align: left;\n",
       "    }\n",
       "\n",
       "    .dataframe tbody tr th {\n",
       "        vertical-align: top;\n",
       "    }\n",
       "</style>\n",
       "<table border=\"1\" class=\"dataframe\">\n",
       "  <thead>\n",
       "    <tr style=\"text-align: right;\">\n",
       "      <th></th>\n",
       "      <th>img</th>\n",
       "      <th>type</th>\n",
       "      <th>label</th>\n",
       "      <th>confidence</th>\n",
       "    </tr>\n",
       "  </thead>\n",
       "  <tbody>\n",
       "    <tr>\n",
       "      <th>0</th>\n",
       "      <td>mediacleanup_00000</td>\n",
       "      <td>Label</td>\n",
       "      <td>Human</td>\n",
       "      <td>99.283340</td>\n",
       "    </tr>\n",
       "    <tr>\n",
       "      <th>1</th>\n",
       "      <td>mediacleanup_00000</td>\n",
       "      <td>Label</td>\n",
       "      <td>People</td>\n",
       "      <td>99.283340</td>\n",
       "    </tr>\n",
       "    <tr>\n",
       "      <th>2</th>\n",
       "      <td>mediacleanup_00000</td>\n",
       "      <td>Label</td>\n",
       "      <td>Person</td>\n",
       "      <td>99.283340</td>\n",
       "    </tr>\n",
       "    <tr>\n",
       "      <th>3</th>\n",
       "      <td>mediacleanup_00000</td>\n",
       "      <td>Label</td>\n",
       "      <td>Architecture</td>\n",
       "      <td>75.759644</td>\n",
       "    </tr>\n",
       "    <tr>\n",
       "      <th>4</th>\n",
       "      <td>mediacleanup_00000</td>\n",
       "      <td>Label</td>\n",
       "      <td>Building</td>\n",
       "      <td>75.759644</td>\n",
       "    </tr>\n",
       "    <tr>\n",
       "      <th>5</th>\n",
       "      <td>mediacleanup_00000</td>\n",
       "      <td>Label</td>\n",
       "      <td>Skylight</td>\n",
       "      <td>75.759644</td>\n",
       "    </tr>\n",
       "    <tr>\n",
       "      <th>6</th>\n",
       "      <td>mediacleanup_00000</td>\n",
       "      <td>Label</td>\n",
       "      <td>Window</td>\n",
       "      <td>75.759644</td>\n",
       "    </tr>\n",
       "    <tr>\n",
       "      <th>7</th>\n",
       "      <td>mediacleanup_00000</td>\n",
       "      <td>Text</td>\n",
       "      <td>SELF</td>\n",
       "      <td>98.684273</td>\n",
       "    </tr>\n",
       "    <tr>\n",
       "      <th>8</th>\n",
       "      <td>mediacleanup_00000</td>\n",
       "      <td>Text</td>\n",
       "      <td>Instagram: @lilmistydiaz</td>\n",
       "      <td>93.729767</td>\n",
       "    </tr>\n",
       "    <tr>\n",
       "      <th>9</th>\n",
       "      <td>mediacleanup_00000</td>\n",
       "      <td>Text</td>\n",
       "      <td>SELF</td>\n",
       "      <td>98.684273</td>\n",
       "    </tr>\n",
       "    <tr>\n",
       "      <th>10</th>\n",
       "      <td>mediacleanup_00000</td>\n",
       "      <td>Text</td>\n",
       "      <td>Instagram:</td>\n",
       "      <td>95.474014</td>\n",
       "    </tr>\n",
       "    <tr>\n",
       "      <th>11</th>\n",
       "      <td>mediacleanup_00000</td>\n",
       "      <td>Text</td>\n",
       "      <td>@lilmistydiaz</td>\n",
       "      <td>91.985504</td>\n",
       "    </tr>\n",
       "    <tr>\n",
       "      <th>12</th>\n",
       "      <td>mediacleanup_00001</td>\n",
       "      <td>Label</td>\n",
       "      <td>Human</td>\n",
       "      <td>98.795891</td>\n",
       "    </tr>\n",
       "    <tr>\n",
       "      <th>13</th>\n",
       "      <td>mediacleanup_00001</td>\n",
       "      <td>Label</td>\n",
       "      <td>People</td>\n",
       "      <td>98.795853</td>\n",
       "    </tr>\n",
       "    <tr>\n",
       "      <th>14</th>\n",
       "      <td>mediacleanup_00001</td>\n",
       "      <td>Label</td>\n",
       "      <td>Person</td>\n",
       "      <td>98.795891</td>\n",
       "    </tr>\n",
       "    <tr>\n",
       "      <th>15</th>\n",
       "      <td>mediacleanup_00001</td>\n",
       "      <td>Label</td>\n",
       "      <td>Premiere</td>\n",
       "      <td>97.446404</td>\n",
       "    </tr>\n",
       "    <tr>\n",
       "      <th>16</th>\n",
       "      <td>mediacleanup_00001</td>\n",
       "      <td>Label</td>\n",
       "      <td>Red Carpet</td>\n",
       "      <td>97.446404</td>\n",
       "    </tr>\n",
       "    <tr>\n",
       "      <th>17</th>\n",
       "      <td>mediacleanup_00001</td>\n",
       "      <td>Label</td>\n",
       "      <td>Red Carpet Premiere</td>\n",
       "      <td>97.446404</td>\n",
       "    </tr>\n",
       "    <tr>\n",
       "      <th>18</th>\n",
       "      <td>mediacleanup_00001</td>\n",
       "      <td>Text</td>\n",
       "      <td>VM</td>\n",
       "      <td>54.882534</td>\n",
       "    </tr>\n",
       "    <tr>\n",
       "      <th>19</th>\n",
       "      <td>mediacleanup_00001</td>\n",
       "      <td>Text</td>\n",
       "      <td>VMA</td>\n",
       "      <td>74.930779</td>\n",
       "    </tr>\n",
       "    <tr>\n",
       "      <th>20</th>\n",
       "      <td>mediacleanup_00001</td>\n",
       "      <td>Text</td>\n",
       "      <td>penoom</td>\n",
       "      <td>54.614895</td>\n",
       "    </tr>\n",
       "    <tr>\n",
       "      <th>21</th>\n",
       "      <td>mediacleanup_00001</td>\n",
       "      <td>Text</td>\n",
       "      <td>VM</td>\n",
       "      <td>56.659592</td>\n",
       "    </tr>\n",
       "    <tr>\n",
       "      <th>22</th>\n",
       "      <td>mediacleanup_00001</td>\n",
       "      <td>Text</td>\n",
       "      <td>2017 VI0EO MUSIC</td>\n",
       "      <td>74.759949</td>\n",
       "    </tr>\n",
       "    <tr>\n",
       "      <th>23</th>\n",
       "      <td>mediacleanup_00001</td>\n",
       "      <td>Text</td>\n",
       "      <td>K VMA</td>\n",
       "      <td>61.509579</td>\n",
       "    </tr>\n",
       "    <tr>\n",
       "      <th>24</th>\n",
       "      <td>mediacleanup_00001</td>\n",
       "      <td>Text</td>\n",
       "      <td>V</td>\n",
       "      <td>47.271591</td>\n",
       "    </tr>\n",
       "    <tr>\n",
       "      <th>25</th>\n",
       "      <td>mediacleanup_00001</td>\n",
       "      <td>Text</td>\n",
       "      <td>VMA</td>\n",
       "      <td>74.930779</td>\n",
       "    </tr>\n",
       "    <tr>\n",
       "      <th>26</th>\n",
       "      <td>mediacleanup_00001</td>\n",
       "      <td>Text</td>\n",
       "      <td>VM</td>\n",
       "      <td>54.882534</td>\n",
       "    </tr>\n",
       "    <tr>\n",
       "      <th>27</th>\n",
       "      <td>mediacleanup_00001</td>\n",
       "      <td>Text</td>\n",
       "      <td>penoom</td>\n",
       "      <td>54.614895</td>\n",
       "    </tr>\n",
       "    <tr>\n",
       "      <th>28</th>\n",
       "      <td>mediacleanup_00001</td>\n",
       "      <td>Text</td>\n",
       "      <td>VM</td>\n",
       "      <td>56.659592</td>\n",
       "    </tr>\n",
       "    <tr>\n",
       "      <th>29</th>\n",
       "      <td>mediacleanup_00001</td>\n",
       "      <td>Text</td>\n",
       "      <td>K</td>\n",
       "      <td>43.518494</td>\n",
       "    </tr>\n",
       "    <tr>\n",
       "      <th>30</th>\n",
       "      <td>mediacleanup_00001</td>\n",
       "      <td>Text</td>\n",
       "      <td>2017 VI0EO MUSIC</td>\n",
       "      <td>74.759949</td>\n",
       "    </tr>\n",
       "    <tr>\n",
       "      <th>31</th>\n",
       "      <td>mediacleanup_00001</td>\n",
       "      <td>Text</td>\n",
       "      <td>VMA</td>\n",
       "      <td>79.500664</td>\n",
       "    </tr>\n",
       "    <tr>\n",
       "      <th>32</th>\n",
       "      <td>mediacleanup_00001</td>\n",
       "      <td>Text</td>\n",
       "      <td>V</td>\n",
       "      <td>47.271591</td>\n",
       "    </tr>\n",
       "  </tbody>\n",
       "</table>\n",
       "</div>"
      ],
      "text/plain": [
       "                   img   type                     label  confidence\n",
       "0   mediacleanup_00000  Label                     Human   99.283340\n",
       "1   mediacleanup_00000  Label                    People   99.283340\n",
       "2   mediacleanup_00000  Label                    Person   99.283340\n",
       "3   mediacleanup_00000  Label              Architecture   75.759644\n",
       "4   mediacleanup_00000  Label                  Building   75.759644\n",
       "5   mediacleanup_00000  Label                  Skylight   75.759644\n",
       "6   mediacleanup_00000  Label                    Window   75.759644\n",
       "7   mediacleanup_00000   Text                      SELF   98.684273\n",
       "8   mediacleanup_00000   Text  Instagram: @lilmistydiaz   93.729767\n",
       "9   mediacleanup_00000   Text                      SELF   98.684273\n",
       "10  mediacleanup_00000   Text                Instagram:   95.474014\n",
       "11  mediacleanup_00000   Text             @lilmistydiaz   91.985504\n",
       "12  mediacleanup_00001  Label                     Human   98.795891\n",
       "13  mediacleanup_00001  Label                    People   98.795853\n",
       "14  mediacleanup_00001  Label                    Person   98.795891\n",
       "15  mediacleanup_00001  Label                  Premiere   97.446404\n",
       "16  mediacleanup_00001  Label                Red Carpet   97.446404\n",
       "17  mediacleanup_00001  Label       Red Carpet Premiere   97.446404\n",
       "18  mediacleanup_00001   Text                        VM   54.882534\n",
       "19  mediacleanup_00001   Text                       VMA   74.930779\n",
       "20  mediacleanup_00001   Text                    penoom   54.614895\n",
       "21  mediacleanup_00001   Text                        VM   56.659592\n",
       "22  mediacleanup_00001   Text          2017 VI0EO MUSIC   74.759949\n",
       "23  mediacleanup_00001   Text                     K VMA   61.509579\n",
       "24  mediacleanup_00001   Text                         V   47.271591\n",
       "25  mediacleanup_00001   Text                       VMA   74.930779\n",
       "26  mediacleanup_00001   Text                        VM   54.882534\n",
       "27  mediacleanup_00001   Text                    penoom   54.614895\n",
       "28  mediacleanup_00001   Text                        VM   56.659592\n",
       "29  mediacleanup_00001   Text                         K   43.518494\n",
       "30  mediacleanup_00001   Text          2017 VI0EO MUSIC   74.759949\n",
       "31  mediacleanup_00001   Text                       VMA   79.500664\n",
       "32  mediacleanup_00001   Text                         V   47.271591"
      ]
     },
     "execution_count": 24,
     "metadata": {},
     "output_type": "execute_result"
    }
   ],
   "source": [
    "img_df_long"
   ]
  },
  {
   "cell_type": "code",
   "execution_count": 25,
   "metadata": {
    "collapsed": false
   },
   "outputs": [
    {
     "data": {
      "text/plain": [
       "33"
      ]
     },
     "execution_count": 25,
     "metadata": {},
     "output_type": "execute_result"
    }
   ],
   "source": [
    "len(img_df_long)"
   ]
  },
  {
   "cell_type": "code",
   "execution_count": 20,
   "metadata": {
    "collapsed": false
   },
   "outputs": [
    {
     "data": {
      "text/plain": [
       "14"
      ]
     },
     "execution_count": 20,
     "metadata": {},
     "output_type": "execute_result"
    }
   ],
   "source": [
    "len(mapping_dict)"
   ]
  },
  {
   "cell_type": "code",
   "execution_count": 21,
   "metadata": {
    "collapsed": false
   },
   "outputs": [
    {
     "data": {
      "text/plain": [
       "33"
      ]
     },
     "execution_count": 21,
     "metadata": {},
     "output_type": "execute_result"
    }
   ],
   "source": [
    "len(img_df_long)"
   ]
  },
  {
   "cell_type": "code",
   "execution_count": 13,
   "metadata": {
    "collapsed": false
   },
   "outputs": [],
   "source": [
    "# for-loop to drop all \"Human\", \"People\", \"Person\" Label rows where the image \n",
    "# contains a celebrity.\n",
    "for img in img_df_long[\"img\"]:\n",
    "    if len(img_df_long.loc[(img_df_long[\"img\"] == img) & (img_df_long[\"type\"]==\"Celebrity\")])>0:\n",
    "        img_df_long = img_df_long.loc[~((img_df_long['img'] == img) \n",
    "                          & (img_df_long['label'].isin(['Human', 'People', 'Person'])))]"
   ]
  },
  {
   "cell_type": "code",
   "execution_count": 14,
   "metadata": {
    "collapsed": true
   },
   "outputs": [],
   "source": [
    "# for-loop to drop all \"Label\" rows below 90% confidence if there is a celebrity\n",
    "for img in img_df_long[\"img\"]:\n",
    "    if len(img_df_long.loc[(img_df_long[\"img\"] == img) & (img_df_long[\"type\"]==\"Celebrity\")])>0:\n",
    "        img_df_long = img_df_long.loc[~((img_df_long['img'] == img) \n",
    "                          & (img_df_long['type'].isin(['Label'])) & (img_df_long['confidence']<90))]"
   ]
  },
  {
   "cell_type": "code",
   "execution_count": 15,
   "metadata": {
    "collapsed": true
   },
   "outputs": [],
   "source": [
    "# for loop to drop all \"Label\", \"Sticker\", \"Text\" label rows where image contains text.\n",
    "for img in img_df_long[\"img\"]:\n",
    "    if len(img_df_long.loc[(img_df_long[\"img\"] == img) & (img_df_long[\"type\"]==\"Text\")])>0:\n",
    "        img_df_long = img_df_long.loc[~((img_df_long['img'] == img) \n",
    "                          & (img_df_long['label'].isin(['Label', 'Sticker', 'Text'])))]"
   ]
  },
  {
   "cell_type": "code",
   "execution_count": 16,
   "metadata": {
    "collapsed": true
   },
   "outputs": [],
   "source": [
    "media_new = []\n",
    "for img in img_df_long['img'].unique():\n",
    "    img_dict = {'img': img}\n",
    "    if len(img_df_long[(img_df_long['img']==img) & (img_df_long['type']=='Label')])>0:\n",
    "        img_dict['label'] = ' '.join(img_df_long.loc[(img_df_long['img']==img) & (img_df_long['type']=='Label'), 'label'].tolist())\n",
    "    else:\n",
    "        img_dict['label'] = None\n",
    "    if len(img_df_long[(img_df_long['img']==img) & (img_df_long['type']=='Text')])>0:\n",
    "        text = [str(detected_text) \n",
    "                for detected_text in img_df_long.loc[(img_df_long['img']==img) & (img_df_long['type']=='Text'), 'label'].tolist()]\n",
    "        img_dict['text'] = ' '.join(text)\n",
    "    else:\n",
    "        img_dict['text'] = None\n",
    "    img_dict['celebrity'] = len(img_df_long[(img_df_long['img']==img) & (img_df_long['type']=='Celebrity')])>0\n",
    "    media_new.append(img_dict)\n",
    "media_new_df = pd.DataFrame(media_new)"
   ]
  },
  {
   "cell_type": "code",
   "execution_count": 18,
   "metadata": {
    "collapsed": false
   },
   "outputs": [
    {
     "data": {
      "text/html": [
       "<div>\n",
       "<style>\n",
       "    .dataframe thead tr:only-child th {\n",
       "        text-align: right;\n",
       "    }\n",
       "\n",
       "    .dataframe thead th {\n",
       "        text-align: left;\n",
       "    }\n",
       "\n",
       "    .dataframe tbody tr th {\n",
       "        vertical-align: top;\n",
       "    }\n",
       "</style>\n",
       "<table border=\"1\" class=\"dataframe\">\n",
       "  <thead>\n",
       "    <tr style=\"text-align: right;\">\n",
       "      <th></th>\n",
       "      <th>celebrity</th>\n",
       "      <th>img</th>\n",
       "      <th>label</th>\n",
       "      <th>text</th>\n",
       "    </tr>\n",
       "  </thead>\n",
       "  <tbody>\n",
       "    <tr>\n",
       "      <th>0</th>\n",
       "      <td>False</td>\n",
       "      <td>mediacleanup_00000</td>\n",
       "      <td>Human People Person Architecture Building Skyl...</td>\n",
       "      <td>SELF Instagram: @lilmistydiaz SELF Instagram: ...</td>\n",
       "    </tr>\n",
       "    <tr>\n",
       "      <th>1</th>\n",
       "      <td>False</td>\n",
       "      <td>mediacleanup_00001</td>\n",
       "      <td>Human People Person Premiere Red Carpet Red Ca...</td>\n",
       "      <td>VM VMA penoom VM 2017 VI0EO MUSIC K VMA V VMA ...</td>\n",
       "    </tr>\n",
       "  </tbody>\n",
       "</table>\n",
       "</div>"
      ],
      "text/plain": [
       "   celebrity                 img  \\\n",
       "0      False  mediacleanup_00000   \n",
       "1      False  mediacleanup_00001   \n",
       "\n",
       "                                               label  \\\n",
       "0  Human People Person Architecture Building Skyl...   \n",
       "1  Human People Person Premiere Red Carpet Red Ca...   \n",
       "\n",
       "                                                text  \n",
       "0  SELF Instagram: @lilmistydiaz SELF Instagram: ...  \n",
       "1  VM VMA penoom VM 2017 VI0EO MUSIC K VMA V VMA ...  "
      ]
     },
     "execution_count": 18,
     "metadata": {},
     "output_type": "execute_result"
    }
   ],
   "source": [
    "media_new_df"
   ]
  },
  {
   "cell_type": "code",
   "execution_count": 27,
   "metadata": {
    "collapsed": true
   },
   "outputs": [],
   "source": [
    "media_new_df.to_csv(\"01_media_cleanup_text_data.csv\")"
   ]
  },
  {
   "cell_type": "code",
   "execution_count": null,
   "metadata": {
    "collapsed": true
   },
   "outputs": [],
   "source": []
  }
 ],
 "metadata": {
  "anaconda-cloud": {},
  "kernelspec": {
   "display_name": "Python [conda root]",
   "language": "python",
   "name": "conda-root-py"
  },
  "language_info": {
   "codemirror_mode": {
    "name": "ipython",
    "version": 3
   },
   "file_extension": ".py",
   "mimetype": "text/x-python",
   "name": "python",
   "nbconvert_exporter": "python",
   "pygments_lexer": "ipython3",
   "version": "3.5.2"
  }
 },
 "nbformat": 4,
 "nbformat_minor": 2
}
