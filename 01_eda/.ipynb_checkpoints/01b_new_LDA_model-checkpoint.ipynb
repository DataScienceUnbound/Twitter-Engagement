{
 "cells": [
  {
   "cell_type": "markdown",
   "metadata": {
    "collapsed": true
   },
   "source": [
    "(0, '0.176*\"cloth\" + 0.099*\"coat\" + 0.080*\"face\" + 0.078*\"overcoat\" + 0.076*\"suit\"')<br>\n",
    "(1, '0.778*\"celebr\" + 0.022*\"produc\" + 0.021*\"cup\" + 0.018*\"food\" + 0.014*\"mountain\"')<br>\n",
    "(2, '0.342*\"text\" + 0.280*\"celebr\" + 0.073*\"carpet\" + 0.071*\"red\" + 0.071*\"premier\"')<br>\n",
    "(3, '0.098*\"hair\" + 0.096*\"food\" + 0.065*\"afro\" + 0.065*\"hairstyl\" + 0.064*\"hat\"')<br>\n",
    "(4, '0.226*\"plant\" + 0.135*\"flora\" + 0.095*\"jar\" + 0.094*\"potteri\" + 0.093*\"vase\"')<br>\n",
    "(5, '0.159*\"furnitur\" + 0.117*\"text\" + 0.081*\"chair\" + 0.071*\"couch\" + 0.048*\"trademark\"')<br>\n",
    "(6, '0.189*\"build\" + 0.131*\"hous\" + 0.066*\"architectur\" + 0.050*\"text\" + 0.045*\"town\"')<br>\n",
    "(7, '0.127*\"outdoor\" + 0.099*\"natur\" + 0.079*\"water\" + 0.058*\"sea\" + 0.054*\"ocean\"')<br>\n",
    "(8, '0.157*\"room\" + 0.100*\"indoor\" + 0.074*\"furnitur\" + 0.073*\"design\" + 0.073*\"interior\"')<br>\n",
    "(9, '0.107*\"vehicl\" + 0.094*\"transport\" + 0.079*\"car\" + 0.075*\"danc\" + 0.069*\"automobil\"')<br>\n",
    "(10, '0.100*\"text\" + 0.079*\"music\" + 0.072*\"cosmet\" + 0.049*\"perform\" + 0.045*\"art\"')<br>\n",
    "(11, '0.154*\"text\" + 0.144*\"poster\" + 0.084*\"collag\" + 0.083*\"paper\" + 0.056*\"flyer\"')<br>\n",
    "(12, '0.093*\"cloth\" + 0.091*\"text\" + 0.065*\"footwear\" + 0.058*\"glass\" + 0.053*\"shoe\"')<br>\n",
    "(13, '0.202*\"femal\" + 0.190*\"woman\" + 0.190*\"girl\" + 0.165*\"blond\" + 0.106*\"celebr\"')<br>\n",
    "(14, '0.280*\"human\" + 0.280*\"person\" + 0.274*\"peopl\" + 0.070*\"text\" + 0.019*\"crowd\"')]<br><br>\n",
    "Brought to you by Natalie Olivo\n",
    "<a href = https://www.linkedin.com/in/natalie-olivo-82548951/>LinkedIn</a>\n",
    "<a href = https://nmolivo.github.io/NMOstatic/>Website</a>\n",
    "<a href = https://medium.com/@NatalieOlivo>Blog</a>\n",
    "<a href = https://github.com/nmolivo>GitHub</a>"
   ]
  },
  {
   "cell_type": "code",
   "execution_count": 2,
   "metadata": {
    "collapsed": false
   },
   "outputs": [
    {
     "name": "stderr",
     "output_type": "stream",
     "text": [
      "Using Theano backend.\n"
     ]
    },
    {
     "name": "stdout",
     "output_type": "stream",
     "text": [
      "Couldn't import dot_parser, loading of dot files will not be possible.\n"
     ]
    }
   ],
   "source": [
    "import pandas as pd\n",
    "import numpy as np\n",
    "from nltk.tokenize import RegexpTokenizer\n",
    "from stop_words import get_stop_words\n",
    "from nltk.stem.porter import PorterStemmer\n",
    "from gensim import corpora, models\n",
    "import gensim\n",
    "import pyLDAvis.gensim"
   ]
  },
  {
   "cell_type": "code",
   "execution_count": 3,
   "metadata": {
    "collapsed": true
   },
   "outputs": [],
   "source": [
    "med_a = pd.read_csv(\"../assets/01_media_text_data.csv\")\n",
    "med_b = pd.read_csv(\"../assets/01_media_cleanup_text_data.csv\")"
   ]
  },
  {
   "cell_type": "code",
   "execution_count": 4,
   "metadata": {
    "collapsed": false
   },
   "outputs": [],
   "source": [
    "med_a = med_a.drop(\"Unnamed: 0\", axis =1)\n",
    "med_b = med_b.drop(\"Unnamed: 0\", axis =1)"
   ]
  },
  {
   "cell_type": "code",
   "execution_count": 5,
   "metadata": {
    "collapsed": true
   },
   "outputs": [],
   "source": [
    "map_med_a = pd.read_csv(\"../assets/mapping_dict_mediaurl.csv\")\n",
    "map_med_b = pd.read_csv(\"../assets/mapping_dict_media_cleanup.csv\")"
   ]
  },
  {
   "cell_type": "code",
   "execution_count": 6,
   "metadata": {
    "collapsed": false
   },
   "outputs": [
    {
     "data": {
      "text/html": [
       "<div>\n",
       "<style>\n",
       "    .dataframe thead tr:only-child th {\n",
       "        text-align: right;\n",
       "    }\n",
       "\n",
       "    .dataframe thead th {\n",
       "        text-align: left;\n",
       "    }\n",
       "\n",
       "    .dataframe tbody tr th {\n",
       "        vertical-align: top;\n",
       "    }\n",
       "</style>\n",
       "<table border=\"1\" class=\"dataframe\">\n",
       "  <thead>\n",
       "    <tr style=\"text-align: right;\">\n",
       "      <th></th>\n",
       "      <th>Unnamed: 0</th>\n",
       "      <th>media_url</th>\n",
       "    </tr>\n",
       "  </thead>\n",
       "  <tbody>\n",
       "    <tr>\n",
       "      <th>0</th>\n",
       "      <td>img_00005</td>\n",
       "      <td>https://pbs.twimg.com/media/DOtY4hsXUAAParB.jpg</td>\n",
       "    </tr>\n",
       "    <tr>\n",
       "      <th>1</th>\n",
       "      <td>img_00010</td>\n",
       "      <td>https://pbs.twimg.com/media/DOssiD7X0AALTfj.jpg</td>\n",
       "    </tr>\n",
       "    <tr>\n",
       "      <th>2</th>\n",
       "      <td>img_00016</td>\n",
       "      <td>https://pbs.twimg.com/media/DOpJmmHW0AE50Tc.jpg</td>\n",
       "    </tr>\n",
       "    <tr>\n",
       "      <th>3</th>\n",
       "      <td>img_00021</td>\n",
       "      <td>https://pbs.twimg.com/ext_tw_video_thumb/93055...</td>\n",
       "    </tr>\n",
       "    <tr>\n",
       "      <th>4</th>\n",
       "      <td>img_00025</td>\n",
       "      <td>https://pbs.twimg.com/media/DOnT5hiXUAA75_s.jpg</td>\n",
       "    </tr>\n",
       "  </tbody>\n",
       "</table>\n",
       "</div>"
      ],
      "text/plain": [
       "  Unnamed: 0                                          media_url\n",
       "0  img_00005    https://pbs.twimg.com/media/DOtY4hsXUAAParB.jpg\n",
       "1  img_00010    https://pbs.twimg.com/media/DOssiD7X0AALTfj.jpg\n",
       "2  img_00016    https://pbs.twimg.com/media/DOpJmmHW0AE50Tc.jpg\n",
       "3  img_00021  https://pbs.twimg.com/ext_tw_video_thumb/93055...\n",
       "4  img_00025    https://pbs.twimg.com/media/DOnT5hiXUAA75_s.jpg"
      ]
     },
     "execution_count": 6,
     "metadata": {},
     "output_type": "execute_result"
    }
   ],
   "source": [
    "map_med_a.head()"
   ]
  },
  {
   "cell_type": "code",
   "execution_count": 7,
   "metadata": {
    "collapsed": false
   },
   "outputs": [
    {
     "data": {
      "text/html": [
       "<div>\n",
       "<style>\n",
       "    .dataframe thead tr:only-child th {\n",
       "        text-align: right;\n",
       "    }\n",
       "\n",
       "    .dataframe thead th {\n",
       "        text-align: left;\n",
       "    }\n",
       "\n",
       "    .dataframe tbody tr th {\n",
       "        vertical-align: top;\n",
       "    }\n",
       "</style>\n",
       "<table border=\"1\" class=\"dataframe\">\n",
       "  <thead>\n",
       "    <tr style=\"text-align: right;\">\n",
       "      <th></th>\n",
       "      <th>celebrity</th>\n",
       "      <th>img</th>\n",
       "      <th>label</th>\n",
       "      <th>text</th>\n",
       "    </tr>\n",
       "  </thead>\n",
       "  <tbody>\n",
       "    <tr>\n",
       "      <th>0</th>\n",
       "      <td>False</td>\n",
       "      <td>img_00000</td>\n",
       "      <td>Human People Person</td>\n",
       "      <td>False</td>\n",
       "    </tr>\n",
       "    <tr>\n",
       "      <th>1</th>\n",
       "      <td>True</td>\n",
       "      <td>img_00001</td>\n",
       "      <td>NaN</td>\n",
       "      <td>True</td>\n",
       "    </tr>\n",
       "    <tr>\n",
       "      <th>2</th>\n",
       "      <td>True</td>\n",
       "      <td>img_00005</td>\n",
       "      <td>NaN</td>\n",
       "      <td>True</td>\n",
       "    </tr>\n",
       "    <tr>\n",
       "      <th>3</th>\n",
       "      <td>False</td>\n",
       "      <td>img_00008</td>\n",
       "      <td>Human People Person Lip Mouth</td>\n",
       "      <td>False</td>\n",
       "    </tr>\n",
       "    <tr>\n",
       "      <th>4</th>\n",
       "      <td>False</td>\n",
       "      <td>img_00010</td>\n",
       "      <td>Cosmetics Mascara</td>\n",
       "      <td>True</td>\n",
       "    </tr>\n",
       "  </tbody>\n",
       "</table>\n",
       "</div>"
      ],
      "text/plain": [
       "   celebrity        img                          label   text\n",
       "0      False  img_00000            Human People Person  False\n",
       "1       True  img_00001                            NaN   True\n",
       "2       True  img_00005                            NaN   True\n",
       "3      False  img_00008  Human People Person Lip Mouth  False\n",
       "4      False  img_00010              Cosmetics Mascara   True"
      ]
     },
     "execution_count": 7,
     "metadata": {},
     "output_type": "execute_result"
    }
   ],
   "source": [
    "med_a.head()"
   ]
  },
  {
   "cell_type": "code",
   "execution_count": 8,
   "metadata": {
    "collapsed": false
   },
   "outputs": [],
   "source": [
    "map_med_a.columns=[\"img\", \"media_url\"]\n",
    "map_med_b.columns=[\"img\", \"med_cleanup_url\"]"
   ]
  },
  {
   "cell_type": "code",
   "execution_count": 9,
   "metadata": {
    "collapsed": false
   },
   "outputs": [],
   "source": [
    "med_a = med_a.merge(map_med_a, on = \"img\")\n",
    "med_b = med_b.merge(map_med_b, on = \"img\")"
   ]
  },
  {
   "cell_type": "code",
   "execution_count": 10,
   "metadata": {
    "collapsed": false
   },
   "outputs": [
    {
     "data": {
      "text/html": [
       "<div>\n",
       "<style>\n",
       "    .dataframe thead tr:only-child th {\n",
       "        text-align: right;\n",
       "    }\n",
       "\n",
       "    .dataframe thead th {\n",
       "        text-align: left;\n",
       "    }\n",
       "\n",
       "    .dataframe tbody tr th {\n",
       "        vertical-align: top;\n",
       "    }\n",
       "</style>\n",
       "<table border=\"1\" class=\"dataframe\">\n",
       "  <thead>\n",
       "    <tr style=\"text-align: right;\">\n",
       "      <th></th>\n",
       "      <th>celebrity</th>\n",
       "      <th>img</th>\n",
       "      <th>label</th>\n",
       "      <th>text</th>\n",
       "      <th>media_url</th>\n",
       "    </tr>\n",
       "  </thead>\n",
       "  <tbody>\n",
       "    <tr>\n",
       "      <th>0</th>\n",
       "      <td>True</td>\n",
       "      <td>img_00005</td>\n",
       "      <td>NaN</td>\n",
       "      <td>True</td>\n",
       "      <td>https://pbs.twimg.com/media/DOtY4hsXUAAParB.jpg</td>\n",
       "    </tr>\n",
       "    <tr>\n",
       "      <th>1</th>\n",
       "      <td>False</td>\n",
       "      <td>img_00010</td>\n",
       "      <td>Cosmetics Mascara</td>\n",
       "      <td>True</td>\n",
       "      <td>https://pbs.twimg.com/media/DOssiD7X0AALTfj.jpg</td>\n",
       "    </tr>\n",
       "    <tr>\n",
       "      <th>2</th>\n",
       "      <td>False</td>\n",
       "      <td>img_00016</td>\n",
       "      <td>Sailboat Transportation Vessel Watercraft Boat...</td>\n",
       "      <td>False</td>\n",
       "      <td>https://pbs.twimg.com/media/DOpJmmHW0AE50Tc.jpg</td>\n",
       "    </tr>\n",
       "    <tr>\n",
       "      <th>3</th>\n",
       "      <td>False</td>\n",
       "      <td>img_00021</td>\n",
       "      <td>Human People Person Face Portrait Blonde Femal...</td>\n",
       "      <td>True</td>\n",
       "      <td>https://pbs.twimg.com/ext_tw_video_thumb/93055...</td>\n",
       "    </tr>\n",
       "    <tr>\n",
       "      <th>4</th>\n",
       "      <td>True</td>\n",
       "      <td>img_00025</td>\n",
       "      <td>NaN</td>\n",
       "      <td>True</td>\n",
       "      <td>https://pbs.twimg.com/media/DOnT5hiXUAA75_s.jpg</td>\n",
       "    </tr>\n",
       "  </tbody>\n",
       "</table>\n",
       "</div>"
      ],
      "text/plain": [
       "   celebrity        img                                              label  \\\n",
       "0       True  img_00005                                                NaN   \n",
       "1      False  img_00010                                  Cosmetics Mascara   \n",
       "2      False  img_00016  Sailboat Transportation Vessel Watercraft Boat...   \n",
       "3      False  img_00021  Human People Person Face Portrait Blonde Femal...   \n",
       "4       True  img_00025                                                NaN   \n",
       "\n",
       "    text                                          media_url  \n",
       "0   True    https://pbs.twimg.com/media/DOtY4hsXUAAParB.jpg  \n",
       "1   True    https://pbs.twimg.com/media/DOssiD7X0AALTfj.jpg  \n",
       "2  False    https://pbs.twimg.com/media/DOpJmmHW0AE50Tc.jpg  \n",
       "3   True  https://pbs.twimg.com/ext_tw_video_thumb/93055...  \n",
       "4   True    https://pbs.twimg.com/media/DOnT5hiXUAA75_s.jpg  "
      ]
     },
     "execution_count": 10,
     "metadata": {},
     "output_type": "execute_result"
    }
   ],
   "source": [
    "med_a.head()"
   ]
  },
  {
   "cell_type": "code",
   "execution_count": 11,
   "metadata": {
    "collapsed": false
   },
   "outputs": [
    {
     "data": {
      "text/html": [
       "<div>\n",
       "<style>\n",
       "    .dataframe thead tr:only-child th {\n",
       "        text-align: right;\n",
       "    }\n",
       "\n",
       "    .dataframe thead th {\n",
       "        text-align: left;\n",
       "    }\n",
       "\n",
       "    .dataframe tbody tr th {\n",
       "        vertical-align: top;\n",
       "    }\n",
       "</style>\n",
       "<table border=\"1\" class=\"dataframe\">\n",
       "  <thead>\n",
       "    <tr style=\"text-align: right;\">\n",
       "      <th></th>\n",
       "      <th>celebrity</th>\n",
       "      <th>img</th>\n",
       "      <th>label</th>\n",
       "      <th>text</th>\n",
       "      <th>med_cleanup_url</th>\n",
       "    </tr>\n",
       "  </thead>\n",
       "  <tbody>\n",
       "    <tr>\n",
       "      <th>0</th>\n",
       "      <td>False</td>\n",
       "      <td>mediacleanup_00000</td>\n",
       "      <td>Human People Person Architecture Building Skyl...</td>\n",
       "      <td>SELF Instagram: @lilmistydiaz SELF Instagram: ...</td>\n",
       "      <td>https://pbs.twimg.com/media/DLx4L0kVwAAkOvo.jpg</td>\n",
       "    </tr>\n",
       "    <tr>\n",
       "      <th>1</th>\n",
       "      <td>False</td>\n",
       "      <td>mediacleanup_00001</td>\n",
       "      <td>Human People Person Premiere Red Carpet Red Ca...</td>\n",
       "      <td>VM VMA penoom VM 2017 VI0EO MUSIC K VMA V VMA ...</td>\n",
       "      <td>https://pbs.twimg.com/media/DIRynecV4AAr4lN.jpg</td>\n",
       "    </tr>\n",
       "  </tbody>\n",
       "</table>\n",
       "</div>"
      ],
      "text/plain": [
       "   celebrity                 img  \\\n",
       "0      False  mediacleanup_00000   \n",
       "1      False  mediacleanup_00001   \n",
       "\n",
       "                                               label  \\\n",
       "0  Human People Person Architecture Building Skyl...   \n",
       "1  Human People Person Premiere Red Carpet Red Ca...   \n",
       "\n",
       "                                                text  \\\n",
       "0  SELF Instagram: @lilmistydiaz SELF Instagram: ...   \n",
       "1  VM VMA penoom VM 2017 VI0EO MUSIC K VMA V VMA ...   \n",
       "\n",
       "                                   med_cleanup_url  \n",
       "0  https://pbs.twimg.com/media/DLx4L0kVwAAkOvo.jpg  \n",
       "1  https://pbs.twimg.com/media/DIRynecV4AAr4lN.jpg  "
      ]
     },
     "execution_count": 11,
     "metadata": {},
     "output_type": "execute_result"
    }
   ],
   "source": [
    "med_b.head()"
   ]
  },
  {
   "cell_type": "code",
   "execution_count": 12,
   "metadata": {
    "collapsed": false
   },
   "outputs": [],
   "source": [
    "med_b.text = [True if len(x) > 0 else False for x in med_b.text]"
   ]
  },
  {
   "cell_type": "code",
   "execution_count": 13,
   "metadata": {
    "collapsed": true
   },
   "outputs": [],
   "source": [
    "med_b.columns = [\"celebrity\", \"img\", \"label\", \"text\", \"media_url\"]"
   ]
  },
  {
   "cell_type": "code",
   "execution_count": 14,
   "metadata": {
    "collapsed": false
   },
   "outputs": [],
   "source": [
    "all_media = med_a.append(med_b).drop_duplicates(subset=\"media_url\")"
   ]
  },
  {
   "cell_type": "code",
   "execution_count": 15,
   "metadata": {
    "collapsed": false
   },
   "outputs": [],
   "source": [
    "all_media.columns = [\"celebrity\", \"img\", \"label\", \"text\", \"url\"]"
   ]
  },
  {
   "cell_type": "code",
   "execution_count": 16,
   "metadata": {
    "collapsed": true
   },
   "outputs": [],
   "source": [
    "all_media[\"img_class\"] = \"media\""
   ]
  },
  {
   "cell_type": "code",
   "execution_count": 17,
   "metadata": {
    "collapsed": false
   },
   "outputs": [
    {
     "data": {
      "text/html": [
       "<div>\n",
       "<style>\n",
       "    .dataframe thead tr:only-child th {\n",
       "        text-align: right;\n",
       "    }\n",
       "\n",
       "    .dataframe thead th {\n",
       "        text-align: left;\n",
       "    }\n",
       "\n",
       "    .dataframe tbody tr th {\n",
       "        vertical-align: top;\n",
       "    }\n",
       "</style>\n",
       "<table border=\"1\" class=\"dataframe\">\n",
       "  <thead>\n",
       "    <tr style=\"text-align: right;\">\n",
       "      <th></th>\n",
       "      <th>celebrity</th>\n",
       "      <th>img</th>\n",
       "      <th>label</th>\n",
       "      <th>text</th>\n",
       "      <th>url</th>\n",
       "      <th>img_class</th>\n",
       "    </tr>\n",
       "  </thead>\n",
       "  <tbody>\n",
       "    <tr>\n",
       "      <th>0</th>\n",
       "      <td>True</td>\n",
       "      <td>img_00005</td>\n",
       "      <td>NaN</td>\n",
       "      <td>True</td>\n",
       "      <td>https://pbs.twimg.com/media/DOtY4hsXUAAParB.jpg</td>\n",
       "      <td>media</td>\n",
       "    </tr>\n",
       "    <tr>\n",
       "      <th>1</th>\n",
       "      <td>False</td>\n",
       "      <td>img_00010</td>\n",
       "      <td>Cosmetics Mascara</td>\n",
       "      <td>True</td>\n",
       "      <td>https://pbs.twimg.com/media/DOssiD7X0AALTfj.jpg</td>\n",
       "      <td>media</td>\n",
       "    </tr>\n",
       "    <tr>\n",
       "      <th>2</th>\n",
       "      <td>False</td>\n",
       "      <td>img_00016</td>\n",
       "      <td>Sailboat Transportation Vessel Watercraft Boat...</td>\n",
       "      <td>False</td>\n",
       "      <td>https://pbs.twimg.com/media/DOpJmmHW0AE50Tc.jpg</td>\n",
       "      <td>media</td>\n",
       "    </tr>\n",
       "    <tr>\n",
       "      <th>3</th>\n",
       "      <td>False</td>\n",
       "      <td>img_00021</td>\n",
       "      <td>Human People Person Face Portrait Blonde Femal...</td>\n",
       "      <td>True</td>\n",
       "      <td>https://pbs.twimg.com/ext_tw_video_thumb/93055...</td>\n",
       "      <td>media</td>\n",
       "    </tr>\n",
       "    <tr>\n",
       "      <th>4</th>\n",
       "      <td>True</td>\n",
       "      <td>img_00025</td>\n",
       "      <td>NaN</td>\n",
       "      <td>True</td>\n",
       "      <td>https://pbs.twimg.com/media/DOnT5hiXUAA75_s.jpg</td>\n",
       "      <td>media</td>\n",
       "    </tr>\n",
       "  </tbody>\n",
       "</table>\n",
       "</div>"
      ],
      "text/plain": [
       "   celebrity        img                                              label  \\\n",
       "0       True  img_00005                                                NaN   \n",
       "1      False  img_00010                                  Cosmetics Mascara   \n",
       "2      False  img_00016  Sailboat Transportation Vessel Watercraft Boat...   \n",
       "3      False  img_00021  Human People Person Face Portrait Blonde Femal...   \n",
       "4       True  img_00025                                                NaN   \n",
       "\n",
       "    text                                                url img_class  \n",
       "0   True    https://pbs.twimg.com/media/DOtY4hsXUAAParB.jpg     media  \n",
       "1   True    https://pbs.twimg.com/media/DOssiD7X0AALTfj.jpg     media  \n",
       "2  False    https://pbs.twimg.com/media/DOpJmmHW0AE50Tc.jpg     media  \n",
       "3   True  https://pbs.twimg.com/ext_tw_video_thumb/93055...     media  \n",
       "4   True    https://pbs.twimg.com/media/DOnT5hiXUAA75_s.jpg     media  "
      ]
     },
     "execution_count": 17,
     "metadata": {},
     "output_type": "execute_result"
    }
   ],
   "source": [
    "all_media.head()"
   ]
  },
  {
   "cell_type": "code",
   "execution_count": 18,
   "metadata": {
    "collapsed": true
   },
   "outputs": [],
   "source": [
    "#thumbnail work"
   ]
  },
  {
   "cell_type": "code",
   "execution_count": 19,
   "metadata": {
    "collapsed": true
   },
   "outputs": [],
   "source": [
    "thumb_a = pd.read_csv(\"../assets/01_thumb_text_data.csv\")\n",
    "thumb_b = pd.read_csv(\"../assets/01_thumb_cleanup_text_data.csv\")"
   ]
  },
  {
   "cell_type": "code",
   "execution_count": 20,
   "metadata": {
    "collapsed": true
   },
   "outputs": [],
   "source": [
    "thumb_a = thumb_a.drop(\"Unnamed: 0\", axis =1)\n",
    "thumb_b = thumb_b.drop(\"Unnamed: 0\", axis =1)"
   ]
  },
  {
   "cell_type": "code",
   "execution_count": 21,
   "metadata": {
    "collapsed": false
   },
   "outputs": [],
   "source": [
    "thumb_b[\"text\"] = thumb_b.apply(lambda x: x.isnull())"
   ]
  },
  {
   "cell_type": "code",
   "execution_count": 22,
   "metadata": {
    "collapsed": true
   },
   "outputs": [],
   "source": [
    "map_thumb_a = pd.read_csv(\"../assets/mapping_dict_thumbnail.csv\")\n",
    "map_thumb_b = pd.read_csv(\"../assets/mapping_dict_thumb_cleanup.csv\")"
   ]
  },
  {
   "cell_type": "code",
   "execution_count": 23,
   "metadata": {
    "collapsed": true
   },
   "outputs": [],
   "source": [
    "map_thumb_a.columns=[\"img\", \"thumb_url\"]\n",
    "map_thumb_b.columns=[\"img\", \"thumb_url\"]"
   ]
  },
  {
   "cell_type": "code",
   "execution_count": 24,
   "metadata": {
    "collapsed": false
   },
   "outputs": [],
   "source": [
    "thumb_a = thumb_a.merge(map_thumb_a, on = \"img\")\n",
    "thumb_b = thumb_b.merge(map_thumb_b, on = \"img\")"
   ]
  },
  {
   "cell_type": "code",
   "execution_count": 25,
   "metadata": {
    "collapsed": false
   },
   "outputs": [],
   "source": [
    "all_thumb = thumb_a.append(thumb_b).drop_duplicates(subset=\"thumb_url\")"
   ]
  },
  {
   "cell_type": "code",
   "execution_count": 26,
   "metadata": {
    "collapsed": false
   },
   "outputs": [],
   "source": [
    "all_thumb.columns = [\"celebrity\", \"img\", \"label\", \"text\", \"url\"]"
   ]
  },
  {
   "cell_type": "code",
   "execution_count": 27,
   "metadata": {
    "collapsed": true
   },
   "outputs": [],
   "source": [
    "all_thumb[\"img_class\"] = \"thumb\""
   ]
  },
  {
   "cell_type": "code",
   "execution_count": 28,
   "metadata": {
    "collapsed": true
   },
   "outputs": [],
   "source": [
    "all_images = all_media.append(all_thumb)"
   ]
  },
  {
   "cell_type": "code",
   "execution_count": 29,
   "metadata": {
    "collapsed": false
   },
   "outputs": [],
   "source": [
    "all_images['label'].fillna('', inplace=True)\n",
    "all_images['label'] = all_images.apply(lambda x: ' '.join([str(x['label']), 'Celebrity']) if x['celebrity'] \n",
    "                                                        else str(x['label']), axis=1)\n",
    "all_images['label'] = all_images.apply(lambda x: ' '.join([str(x['label']), 'Text']) if x['text'] \n",
    "                                                        else str(x['label']), axis=1)"
   ]
  },
  {
   "cell_type": "code",
   "execution_count": 30,
   "metadata": {
    "collapsed": false
   },
   "outputs": [
    {
     "data": {
      "text/html": [
       "<div>\n",
       "<style>\n",
       "    .dataframe thead tr:only-child th {\n",
       "        text-align: right;\n",
       "    }\n",
       "\n",
       "    .dataframe thead th {\n",
       "        text-align: left;\n",
       "    }\n",
       "\n",
       "    .dataframe tbody tr th {\n",
       "        vertical-align: top;\n",
       "    }\n",
       "</style>\n",
       "<table border=\"1\" class=\"dataframe\">\n",
       "  <thead>\n",
       "    <tr style=\"text-align: right;\">\n",
       "      <th></th>\n",
       "      <th>celebrity</th>\n",
       "      <th>img</th>\n",
       "      <th>label</th>\n",
       "      <th>text</th>\n",
       "      <th>url</th>\n",
       "      <th>img_class</th>\n",
       "    </tr>\n",
       "  </thead>\n",
       "  <tbody>\n",
       "    <tr>\n",
       "      <th>0</th>\n",
       "      <td>True</td>\n",
       "      <td>img_00005</td>\n",
       "      <td>Celebrity Text</td>\n",
       "      <td>True</td>\n",
       "      <td>https://pbs.twimg.com/media/DOtY4hsXUAAParB.jpg</td>\n",
       "      <td>media</td>\n",
       "    </tr>\n",
       "    <tr>\n",
       "      <th>1</th>\n",
       "      <td>False</td>\n",
       "      <td>img_00010</td>\n",
       "      <td>Cosmetics Mascara Text</td>\n",
       "      <td>True</td>\n",
       "      <td>https://pbs.twimg.com/media/DOssiD7X0AALTfj.jpg</td>\n",
       "      <td>media</td>\n",
       "    </tr>\n",
       "    <tr>\n",
       "      <th>2</th>\n",
       "      <td>False</td>\n",
       "      <td>img_00016</td>\n",
       "      <td>Sailboat Transportation Vessel Watercraft Boat...</td>\n",
       "      <td>False</td>\n",
       "      <td>https://pbs.twimg.com/media/DOpJmmHW0AE50Tc.jpg</td>\n",
       "      <td>media</td>\n",
       "    </tr>\n",
       "    <tr>\n",
       "      <th>3</th>\n",
       "      <td>False</td>\n",
       "      <td>img_00021</td>\n",
       "      <td>Human People Person Face Portrait Blonde Femal...</td>\n",
       "      <td>True</td>\n",
       "      <td>https://pbs.twimg.com/ext_tw_video_thumb/93055...</td>\n",
       "      <td>media</td>\n",
       "    </tr>\n",
       "    <tr>\n",
       "      <th>4</th>\n",
       "      <td>True</td>\n",
       "      <td>img_00025</td>\n",
       "      <td>Celebrity Text</td>\n",
       "      <td>True</td>\n",
       "      <td>https://pbs.twimg.com/media/DOnT5hiXUAA75_s.jpg</td>\n",
       "      <td>media</td>\n",
       "    </tr>\n",
       "  </tbody>\n",
       "</table>\n",
       "</div>"
      ],
      "text/plain": [
       "   celebrity        img                                              label  \\\n",
       "0       True  img_00005                                     Celebrity Text   \n",
       "1      False  img_00010                             Cosmetics Mascara Text   \n",
       "2      False  img_00016  Sailboat Transportation Vessel Watercraft Boat...   \n",
       "3      False  img_00021  Human People Person Face Portrait Blonde Femal...   \n",
       "4       True  img_00025                                     Celebrity Text   \n",
       "\n",
       "    text                                                url img_class  \n",
       "0   True    https://pbs.twimg.com/media/DOtY4hsXUAAParB.jpg     media  \n",
       "1   True    https://pbs.twimg.com/media/DOssiD7X0AALTfj.jpg     media  \n",
       "2  False    https://pbs.twimg.com/media/DOpJmmHW0AE50Tc.jpg     media  \n",
       "3   True  https://pbs.twimg.com/ext_tw_video_thumb/93055...     media  \n",
       "4   True    https://pbs.twimg.com/media/DOnT5hiXUAA75_s.jpg     media  "
      ]
     },
     "execution_count": 30,
     "metadata": {},
     "output_type": "execute_result"
    }
   ],
   "source": [
    "all_images.head()"
   ]
  },
  {
   "cell_type": "code",
   "execution_count": 31,
   "metadata": {
    "collapsed": false
   },
   "outputs": [],
   "source": [
    "all_images.drop([\"celebrity\", \"text\"], axis = 1, inplace=True)"
   ]
  },
  {
   "cell_type": "code",
   "execution_count": 32,
   "metadata": {
    "collapsed": false
   },
   "outputs": [
    {
     "data": {
      "text/html": [
       "<div>\n",
       "<style>\n",
       "    .dataframe thead tr:only-child th {\n",
       "        text-align: right;\n",
       "    }\n",
       "\n",
       "    .dataframe thead th {\n",
       "        text-align: left;\n",
       "    }\n",
       "\n",
       "    .dataframe tbody tr th {\n",
       "        vertical-align: top;\n",
       "    }\n",
       "</style>\n",
       "<table border=\"1\" class=\"dataframe\">\n",
       "  <thead>\n",
       "    <tr style=\"text-align: right;\">\n",
       "      <th></th>\n",
       "      <th>img</th>\n",
       "      <th>label</th>\n",
       "      <th>url</th>\n",
       "      <th>img_class</th>\n",
       "    </tr>\n",
       "  </thead>\n",
       "  <tbody>\n",
       "    <tr>\n",
       "      <th>0</th>\n",
       "      <td>img_00005</td>\n",
       "      <td>Celebrity Text</td>\n",
       "      <td>https://pbs.twimg.com/media/DOtY4hsXUAAParB.jpg</td>\n",
       "      <td>media</td>\n",
       "    </tr>\n",
       "    <tr>\n",
       "      <th>1</th>\n",
       "      <td>img_00010</td>\n",
       "      <td>Cosmetics Mascara Text</td>\n",
       "      <td>https://pbs.twimg.com/media/DOssiD7X0AALTfj.jpg</td>\n",
       "      <td>media</td>\n",
       "    </tr>\n",
       "    <tr>\n",
       "      <th>2</th>\n",
       "      <td>img_00016</td>\n",
       "      <td>Sailboat Transportation Vessel Watercraft Boat...</td>\n",
       "      <td>https://pbs.twimg.com/media/DOpJmmHW0AE50Tc.jpg</td>\n",
       "      <td>media</td>\n",
       "    </tr>\n",
       "    <tr>\n",
       "      <th>3</th>\n",
       "      <td>img_00021</td>\n",
       "      <td>Human People Person Face Portrait Blonde Femal...</td>\n",
       "      <td>https://pbs.twimg.com/ext_tw_video_thumb/93055...</td>\n",
       "      <td>media</td>\n",
       "    </tr>\n",
       "    <tr>\n",
       "      <th>4</th>\n",
       "      <td>img_00025</td>\n",
       "      <td>Celebrity Text</td>\n",
       "      <td>https://pbs.twimg.com/media/DOnT5hiXUAA75_s.jpg</td>\n",
       "      <td>media</td>\n",
       "    </tr>\n",
       "    <tr>\n",
       "      <th>5</th>\n",
       "      <td>img_00027</td>\n",
       "      <td>Premiere Red Carpet Red Carpet Premiere Celebr...</td>\n",
       "      <td>https://pbs.twimg.com/media/DOm3p0FXcAAj3TF.jpg</td>\n",
       "      <td>media</td>\n",
       "    </tr>\n",
       "    <tr>\n",
       "      <th>6</th>\n",
       "      <td>img_00029</td>\n",
       "      <td>Premiere Red Carpet Red Carpet Premiere Clothi...</td>\n",
       "      <td>https://pbs.twimg.com/media/DOmfvnXW4AII7RV.jpg</td>\n",
       "      <td>media</td>\n",
       "    </tr>\n",
       "    <tr>\n",
       "      <th>7</th>\n",
       "      <td>img_00038</td>\n",
       "      <td>Luggage Suitcase Subway Terminal Train Train S...</td>\n",
       "      <td>https://pbs.twimg.com/media/DOjmPYrUIAEQhsb.jpg</td>\n",
       "      <td>media</td>\n",
       "    </tr>\n",
       "    <tr>\n",
       "      <th>8</th>\n",
       "      <td>img_00039</td>\n",
       "      <td>Celebrity Text</td>\n",
       "      <td>https://pbs.twimg.com/tweet_video_thumb/DOjcwa...</td>\n",
       "      <td>media</td>\n",
       "    </tr>\n",
       "    <tr>\n",
       "      <th>9</th>\n",
       "      <td>img_00040</td>\n",
       "      <td>Text</td>\n",
       "      <td>https://pbs.twimg.com/media/DOjb62IXkAAr6_s.jpg</td>\n",
       "      <td>media</td>\n",
       "    </tr>\n",
       "    <tr>\n",
       "      <th>10</th>\n",
       "      <td>img_00045</td>\n",
       "      <td>Celebrity</td>\n",
       "      <td>https://pbs.twimg.com/tweet_video_thumb/DOiR-1...</td>\n",
       "      <td>media</td>\n",
       "    </tr>\n",
       "    <tr>\n",
       "      <th>11</th>\n",
       "      <td>img_00046</td>\n",
       "      <td>Human People Person Automobile Car Transportat...</td>\n",
       "      <td>https://pbs.twimg.com/tweet_video_thumb/DOiSde...</td>\n",
       "      <td>media</td>\n",
       "    </tr>\n",
       "    <tr>\n",
       "      <th>12</th>\n",
       "      <td>img_00047</td>\n",
       "      <td>Team Celebrity Text</td>\n",
       "      <td>https://pbs.twimg.com/media/DOiM87SXkAAkeYi.jpg</td>\n",
       "      <td>media</td>\n",
       "    </tr>\n",
       "    <tr>\n",
       "      <th>13</th>\n",
       "      <td>img_00054</td>\n",
       "      <td>Blackboard Celebrity Text</td>\n",
       "      <td>https://pbs.twimg.com/media/DOhjzFEWAAEDpNw.jpg</td>\n",
       "      <td>media</td>\n",
       "    </tr>\n",
       "    <tr>\n",
       "      <th>14</th>\n",
       "      <td>img_00055</td>\n",
       "      <td>Chair Furniture Celebrity Text</td>\n",
       "      <td>https://pbs.twimg.com/media/DOhd6w0XUAA8fax.jpg</td>\n",
       "      <td>media</td>\n",
       "    </tr>\n",
       "    <tr>\n",
       "      <th>15</th>\n",
       "      <td>img_00062</td>\n",
       "      <td>Human People Person</td>\n",
       "      <td>https://pbs.twimg.com/media/DOeknjdW4AUKAQ2.jpg</td>\n",
       "      <td>media</td>\n",
       "    </tr>\n",
       "    <tr>\n",
       "      <th>16</th>\n",
       "      <td>img_00070</td>\n",
       "      <td>Human People Person Bed Furniture Toilet Bedro...</td>\n",
       "      <td>https://pbs.twimg.com/media/DOaqGgXUIAU6Vua.jpg</td>\n",
       "      <td>media</td>\n",
       "    </tr>\n",
       "    <tr>\n",
       "      <th>17</th>\n",
       "      <td>img_00073</td>\n",
       "      <td>Paint Container Palette Text</td>\n",
       "      <td>https://pbs.twimg.com/media/DOZPKnZVoAAEwqr.jpg</td>\n",
       "      <td>media</td>\n",
       "    </tr>\n",
       "    <tr>\n",
       "      <th>18</th>\n",
       "      <td>img_00080</td>\n",
       "      <td>Celebrity</td>\n",
       "      <td>https://pbs.twimg.com/media/DOYG_pQWAAE0iFe.jpg</td>\n",
       "      <td>media</td>\n",
       "    </tr>\n",
       "    <tr>\n",
       "      <th>19</th>\n",
       "      <td>img_00081</td>\n",
       "      <td>Celebrity</td>\n",
       "      <td>https://pbs.twimg.com/media/DOXrK_jXUAI3zFM.jpg</td>\n",
       "      <td>media</td>\n",
       "    </tr>\n",
       "    <tr>\n",
       "      <th>20</th>\n",
       "      <td>img_00089</td>\n",
       "      <td>Celebrity</td>\n",
       "      <td>https://pbs.twimg.com/media/DOVlndNUEAAc7Zp.jpg</td>\n",
       "      <td>media</td>\n",
       "    </tr>\n",
       "    <tr>\n",
       "      <th>21</th>\n",
       "      <td>img_00096</td>\n",
       "      <td>Celebrity</td>\n",
       "      <td>https://pbs.twimg.com/media/DOSsxDPWAAQXuib.jpg</td>\n",
       "      <td>media</td>\n",
       "    </tr>\n",
       "    <tr>\n",
       "      <th>22</th>\n",
       "      <td>img_00097</td>\n",
       "      <td>Crowd Celebrity Text</td>\n",
       "      <td>https://pbs.twimg.com/media/DOSpT6uXUAA3dF-.jpg</td>\n",
       "      <td>media</td>\n",
       "    </tr>\n",
       "    <tr>\n",
       "      <th>23</th>\n",
       "      <td>img_00099</td>\n",
       "      <td>Animal Coral Reef Nature Ocean Outdoors Reef S...</td>\n",
       "      <td>https://pbs.twimg.com/media/DOSXM1LXkAUcZvl.jpg</td>\n",
       "      <td>media</td>\n",
       "    </tr>\n",
       "    <tr>\n",
       "      <th>24</th>\n",
       "      <td>img_00102</td>\n",
       "      <td>Text</td>\n",
       "      <td>https://pbs.twimg.com/media/DORm_jNWkAAm9l3.jpg</td>\n",
       "      <td>media</td>\n",
       "    </tr>\n",
       "    <tr>\n",
       "      <th>25</th>\n",
       "      <td>img_00103</td>\n",
       "      <td>Cosmetics Deodorant Text</td>\n",
       "      <td>https://pbs.twimg.com/media/DOQsdjHXcAABjn6.jpg</td>\n",
       "      <td>media</td>\n",
       "    </tr>\n",
       "    <tr>\n",
       "      <th>26</th>\n",
       "      <td>img_00105</td>\n",
       "      <td>Afro Hairstyle Hair Celebrity</td>\n",
       "      <td>https://pbs.twimg.com/media/DOQQktkWkAEeCpU.jpg</td>\n",
       "      <td>media</td>\n",
       "    </tr>\n",
       "    <tr>\n",
       "      <th>27</th>\n",
       "      <td>img_00106</td>\n",
       "      <td>Face Portrait Celebrity</td>\n",
       "      <td>https://pbs.twimg.com/media/DOP4srYX0AIJfZu.jpg</td>\n",
       "      <td>media</td>\n",
       "    </tr>\n",
       "    <tr>\n",
       "      <th>28</th>\n",
       "      <td>img_00108</td>\n",
       "      <td>Celebrity Text</td>\n",
       "      <td>https://pbs.twimg.com/media/DOOQqPGXcAAmGEJ.jpg</td>\n",
       "      <td>media</td>\n",
       "    </tr>\n",
       "    <tr>\n",
       "      <th>29</th>\n",
       "      <td>img_00116</td>\n",
       "      <td>Human People Person</td>\n",
       "      <td>https://pbs.twimg.com/media/DONHsm-WkAEcAu6.jpg</td>\n",
       "      <td>media</td>\n",
       "    </tr>\n",
       "    <tr>\n",
       "      <th>...</th>\n",
       "      <td>...</td>\n",
       "      <td>...</td>\n",
       "      <td>...</td>\n",
       "      <td>...</td>\n",
       "    </tr>\n",
       "    <tr>\n",
       "      <th>0</th>\n",
       "      <td>thumbcleanup_00046</td>\n",
       "      <td>Finger Hand</td>\n",
       "      <td>http://assets.vogue.com/photos/595fa4a80dd8723...</td>\n",
       "      <td>thumb</td>\n",
       "    </tr>\n",
       "    <tr>\n",
       "      <th>1</th>\n",
       "      <td>thumbcleanup_00047</td>\n",
       "      <td>Road</td>\n",
       "      <td>http://media.architecturaldigest.com/photos/59...</td>\n",
       "      <td>thumb</td>\n",
       "    </tr>\n",
       "    <tr>\n",
       "      <th>2</th>\n",
       "      <td>thumbcleanup_00048</td>\n",
       "      <td>Human People Person Female Girl Woman</td>\n",
       "      <td>http://assets.vogue.com/photos/58f0de413579593...</td>\n",
       "      <td>thumb</td>\n",
       "    </tr>\n",
       "    <tr>\n",
       "      <th>3</th>\n",
       "      <td>thumbcleanup_00049</td>\n",
       "      <td>Celebrity</td>\n",
       "      <td>http://assets.vogue.com/photos/595e5db278e1b74...</td>\n",
       "      <td>thumb</td>\n",
       "    </tr>\n",
       "    <tr>\n",
       "      <th>4</th>\n",
       "      <td>thumbcleanup_00050</td>\n",
       "      <td></td>\n",
       "      <td>http://assets.vogue.com/photos/595d843178e1b74...</td>\n",
       "      <td>thumb</td>\n",
       "    </tr>\n",
       "    <tr>\n",
       "      <th>5</th>\n",
       "      <td>thumbcleanup_00051</td>\n",
       "      <td>Flora Jar Plant Potted Plant Pottery Vase Cele...</td>\n",
       "      <td>http://assets.vogue.com/photos/595aa1a2773ef13...</td>\n",
       "      <td>thumb</td>\n",
       "    </tr>\n",
       "    <tr>\n",
       "      <th>6</th>\n",
       "      <td>thumbcleanup_00052</td>\n",
       "      <td>Bikini Clothing Swimwear Celebrity</td>\n",
       "      <td>http://media.vanityfair.com/photos/55942e3efa1...</td>\n",
       "      <td>thumb</td>\n",
       "    </tr>\n",
       "    <tr>\n",
       "      <th>7</th>\n",
       "      <td>thumbcleanup_00053</td>\n",
       "      <td>Knot Apartment Building Building City High Ris...</td>\n",
       "      <td>http://assets.teenvogue.com/photos/595e40a9495...</td>\n",
       "      <td>thumb</td>\n",
       "    </tr>\n",
       "    <tr>\n",
       "      <th>8</th>\n",
       "      <td>thumbcleanup_00054</td>\n",
       "      <td>Human People Person</td>\n",
       "      <td>https://media.allure.com/photos/595d652ec7982f...</td>\n",
       "      <td>thumb</td>\n",
       "    </tr>\n",
       "    <tr>\n",
       "      <th>9</th>\n",
       "      <td>thumbcleanup_00055</td>\n",
       "      <td>Clothing Maillot Swimwear Bikini Celebrity</td>\n",
       "      <td>https://media.self.com/photos/595568d9fee81a06...</td>\n",
       "      <td>thumb</td>\n",
       "    </tr>\n",
       "    <tr>\n",
       "      <th>10</th>\n",
       "      <td>thumbcleanup_00056</td>\n",
       "      <td>Human People Person</td>\n",
       "      <td>http://media.vanityfair.com/photos/557e3480320...</td>\n",
       "      <td>thumb</td>\n",
       "    </tr>\n",
       "    <tr>\n",
       "      <th>11</th>\n",
       "      <td>thumbcleanup_00057</td>\n",
       "      <td>Human People Person</td>\n",
       "      <td>https://media.wmagazine.com/photos/5952a7ea921...</td>\n",
       "      <td>thumb</td>\n",
       "    </tr>\n",
       "    <tr>\n",
       "      <th>12</th>\n",
       "      <td>thumbcleanup_00058</td>\n",
       "      <td>Cosmetics Aftershave</td>\n",
       "      <td>https://media.allure.com/photos/5771ae888d432b...</td>\n",
       "      <td>thumb</td>\n",
       "    </tr>\n",
       "    <tr>\n",
       "      <th>13</th>\n",
       "      <td>thumbcleanup_00059</td>\n",
       "      <td>Celebrity</td>\n",
       "      <td>http://media.vanityfair.com/photos/59528f56710...</td>\n",
       "      <td>thumb</td>\n",
       "    </tr>\n",
       "    <tr>\n",
       "      <th>14</th>\n",
       "      <td>thumbcleanup_00060</td>\n",
       "      <td>Chair Furniture</td>\n",
       "      <td>https://media.wmagazine.com/photos/585374a0c71...</td>\n",
       "      <td>thumb</td>\n",
       "    </tr>\n",
       "    <tr>\n",
       "      <th>15</th>\n",
       "      <td>thumbcleanup_00061</td>\n",
       "      <td>Guitar Guitarist Leisure Activities Music Musi...</td>\n",
       "      <td>https://media.wmagazine.com/photos/595a7e86070...</td>\n",
       "      <td>thumb</td>\n",
       "    </tr>\n",
       "    <tr>\n",
       "      <th>16</th>\n",
       "      <td>thumbcleanup_00062</td>\n",
       "      <td>Human People Person Blonde Female Girl Woman A...</td>\n",
       "      <td>https://media.wmagazine.com/photos/595a6722ffe...</td>\n",
       "      <td>thumb</td>\n",
       "    </tr>\n",
       "    <tr>\n",
       "      <th>17</th>\n",
       "      <td>thumbcleanup_00063</td>\n",
       "      <td>Celebrity</td>\n",
       "      <td>https://media.wmagazine.com/photos/5956739effe...</td>\n",
       "      <td>thumb</td>\n",
       "    </tr>\n",
       "    <tr>\n",
       "      <th>18</th>\n",
       "      <td>thumbcleanup_00064</td>\n",
       "      <td>Celebrity</td>\n",
       "      <td>http://assets.vogue.com/photos/59528ae44abb957...</td>\n",
       "      <td>thumb</td>\n",
       "    </tr>\n",
       "    <tr>\n",
       "      <th>19</th>\n",
       "      <td>thumbcleanup_00066</td>\n",
       "      <td>Flora Jar Plant Potted Plant Pottery Vase Phot...</td>\n",
       "      <td>https://media.wmagazine.com/photos/591e2cab2e3...</td>\n",
       "      <td>thumb</td>\n",
       "    </tr>\n",
       "    <tr>\n",
       "      <th>20</th>\n",
       "      <td>thumbcleanup_00067</td>\n",
       "      <td>Blanket Home Decor</td>\n",
       "      <td>http://assets.teenvogue.com/photos/594ad75e78e...</td>\n",
       "      <td>thumb</td>\n",
       "    </tr>\n",
       "    <tr>\n",
       "      <th>21</th>\n",
       "      <td>thumbcleanup_00068</td>\n",
       "      <td>Celebrity</td>\n",
       "      <td>http://media.vanityfair.com/photos/595a4f98bd2...</td>\n",
       "      <td>thumb</td>\n",
       "    </tr>\n",
       "    <tr>\n",
       "      <th>22</th>\n",
       "      <td>thumbcleanup_00069</td>\n",
       "      <td>Human People Person</td>\n",
       "      <td>https://media.allure.com/photos/595a5327bcfcdb...</td>\n",
       "      <td>thumb</td>\n",
       "    </tr>\n",
       "    <tr>\n",
       "      <th>23</th>\n",
       "      <td>thumbcleanup_00070</td>\n",
       "      <td>Indoors Room Chair Furniture Dining Room Inter...</td>\n",
       "      <td>http://media.architecturaldigest.com/photos/58...</td>\n",
       "      <td>thumb</td>\n",
       "    </tr>\n",
       "    <tr>\n",
       "      <th>24</th>\n",
       "      <td>thumbcleanup_00071</td>\n",
       "      <td>Human People Person Cosmetics Mascara</td>\n",
       "      <td>https://media.allure.com/photos/58f75b2af39db9...</td>\n",
       "      <td>thumb</td>\n",
       "    </tr>\n",
       "    <tr>\n",
       "      <th>25</th>\n",
       "      <td>thumbcleanup_00072</td>\n",
       "      <td>Celebrity</td>\n",
       "      <td>http://assets.vogue.com/photos/595550e87dec923...</td>\n",
       "      <td>thumb</td>\n",
       "    </tr>\n",
       "    <tr>\n",
       "      <th>26</th>\n",
       "      <td>thumbcleanup_00073</td>\n",
       "      <td>Celebrity</td>\n",
       "      <td>http://assets.vogue.com/photos/5955886d0158410...</td>\n",
       "      <td>thumb</td>\n",
       "    </tr>\n",
       "    <tr>\n",
       "      <th>27</th>\n",
       "      <td>thumbcleanup_00074</td>\n",
       "      <td>Blonde Female Girl Woman Celebrity</td>\n",
       "      <td>http://assets.vogue.com/photos/59568c3a439e182...</td>\n",
       "      <td>thumb</td>\n",
       "    </tr>\n",
       "    <tr>\n",
       "      <th>28</th>\n",
       "      <td>thumbcleanup_00075</td>\n",
       "      <td>Celebrity</td>\n",
       "      <td>http://assets.vogue.com/photos/59595b3e3c5e815...</td>\n",
       "      <td>thumb</td>\n",
       "    </tr>\n",
       "    <tr>\n",
       "      <th>29</th>\n",
       "      <td>thumbcleanup_00076</td>\n",
       "      <td>Human People Person Reading</td>\n",
       "      <td>https://media.wmagazine.com/photos/5956843f070...</td>\n",
       "      <td>thumb</td>\n",
       "    </tr>\n",
       "  </tbody>\n",
       "</table>\n",
       "<p>12420 rows × 4 columns</p>\n",
       "</div>"
      ],
      "text/plain": [
       "                   img                                              label  \\\n",
       "0            img_00005                                     Celebrity Text   \n",
       "1            img_00010                             Cosmetics Mascara Text   \n",
       "2            img_00016  Sailboat Transportation Vessel Watercraft Boat...   \n",
       "3            img_00021  Human People Person Face Portrait Blonde Femal...   \n",
       "4            img_00025                                     Celebrity Text   \n",
       "5            img_00027  Premiere Red Carpet Red Carpet Premiere Celebr...   \n",
       "6            img_00029  Premiere Red Carpet Red Carpet Premiere Clothi...   \n",
       "7            img_00038  Luggage Suitcase Subway Terminal Train Train S...   \n",
       "8            img_00039                                     Celebrity Text   \n",
       "9            img_00040                                               Text   \n",
       "10           img_00045                                          Celebrity   \n",
       "11           img_00046  Human People Person Automobile Car Transportat...   \n",
       "12           img_00047                                Team Celebrity Text   \n",
       "13           img_00054                          Blackboard Celebrity Text   \n",
       "14           img_00055                     Chair Furniture Celebrity Text   \n",
       "15           img_00062                                Human People Person   \n",
       "16           img_00070  Human People Person Bed Furniture Toilet Bedro...   \n",
       "17           img_00073                       Paint Container Palette Text   \n",
       "18           img_00080                                          Celebrity   \n",
       "19           img_00081                                          Celebrity   \n",
       "20           img_00089                                          Celebrity   \n",
       "21           img_00096                                          Celebrity   \n",
       "22           img_00097                               Crowd Celebrity Text   \n",
       "23           img_00099  Animal Coral Reef Nature Ocean Outdoors Reef S...   \n",
       "24           img_00102                                               Text   \n",
       "25           img_00103                           Cosmetics Deodorant Text   \n",
       "26           img_00105                      Afro Hairstyle Hair Celebrity   \n",
       "27           img_00106                            Face Portrait Celebrity   \n",
       "28           img_00108                                     Celebrity Text   \n",
       "29           img_00116                                Human People Person   \n",
       "..                 ...                                                ...   \n",
       "0   thumbcleanup_00046                                        Finger Hand   \n",
       "1   thumbcleanup_00047                                               Road   \n",
       "2   thumbcleanup_00048              Human People Person Female Girl Woman   \n",
       "3   thumbcleanup_00049                                          Celebrity   \n",
       "4   thumbcleanup_00050                                                      \n",
       "5   thumbcleanup_00051  Flora Jar Plant Potted Plant Pottery Vase Cele...   \n",
       "6   thumbcleanup_00052                 Bikini Clothing Swimwear Celebrity   \n",
       "7   thumbcleanup_00053  Knot Apartment Building Building City High Ris...   \n",
       "8   thumbcleanup_00054                                Human People Person   \n",
       "9   thumbcleanup_00055         Clothing Maillot Swimwear Bikini Celebrity   \n",
       "10  thumbcleanup_00056                                Human People Person   \n",
       "11  thumbcleanup_00057                                Human People Person   \n",
       "12  thumbcleanup_00058                               Cosmetics Aftershave   \n",
       "13  thumbcleanup_00059                                          Celebrity   \n",
       "14  thumbcleanup_00060                                    Chair Furniture   \n",
       "15  thumbcleanup_00061  Guitar Guitarist Leisure Activities Music Musi...   \n",
       "16  thumbcleanup_00062  Human People Person Blonde Female Girl Woman A...   \n",
       "17  thumbcleanup_00063                                          Celebrity   \n",
       "18  thumbcleanup_00064                                          Celebrity   \n",
       "19  thumbcleanup_00066  Flora Jar Plant Potted Plant Pottery Vase Phot...   \n",
       "20  thumbcleanup_00067                                 Blanket Home Decor   \n",
       "21  thumbcleanup_00068                                          Celebrity   \n",
       "22  thumbcleanup_00069                                Human People Person   \n",
       "23  thumbcleanup_00070  Indoors Room Chair Furniture Dining Room Inter...   \n",
       "24  thumbcleanup_00071              Human People Person Cosmetics Mascara   \n",
       "25  thumbcleanup_00072                                          Celebrity   \n",
       "26  thumbcleanup_00073                                          Celebrity   \n",
       "27  thumbcleanup_00074                 Blonde Female Girl Woman Celebrity   \n",
       "28  thumbcleanup_00075                                          Celebrity   \n",
       "29  thumbcleanup_00076                        Human People Person Reading   \n",
       "\n",
       "                                                  url img_class  \n",
       "0     https://pbs.twimg.com/media/DOtY4hsXUAAParB.jpg     media  \n",
       "1     https://pbs.twimg.com/media/DOssiD7X0AALTfj.jpg     media  \n",
       "2     https://pbs.twimg.com/media/DOpJmmHW0AE50Tc.jpg     media  \n",
       "3   https://pbs.twimg.com/ext_tw_video_thumb/93055...     media  \n",
       "4     https://pbs.twimg.com/media/DOnT5hiXUAA75_s.jpg     media  \n",
       "5     https://pbs.twimg.com/media/DOm3p0FXcAAj3TF.jpg     media  \n",
       "6     https://pbs.twimg.com/media/DOmfvnXW4AII7RV.jpg     media  \n",
       "7     https://pbs.twimg.com/media/DOjmPYrUIAEQhsb.jpg     media  \n",
       "8   https://pbs.twimg.com/tweet_video_thumb/DOjcwa...     media  \n",
       "9     https://pbs.twimg.com/media/DOjb62IXkAAr6_s.jpg     media  \n",
       "10  https://pbs.twimg.com/tweet_video_thumb/DOiR-1...     media  \n",
       "11  https://pbs.twimg.com/tweet_video_thumb/DOiSde...     media  \n",
       "12    https://pbs.twimg.com/media/DOiM87SXkAAkeYi.jpg     media  \n",
       "13    https://pbs.twimg.com/media/DOhjzFEWAAEDpNw.jpg     media  \n",
       "14    https://pbs.twimg.com/media/DOhd6w0XUAA8fax.jpg     media  \n",
       "15    https://pbs.twimg.com/media/DOeknjdW4AUKAQ2.jpg     media  \n",
       "16    https://pbs.twimg.com/media/DOaqGgXUIAU6Vua.jpg     media  \n",
       "17    https://pbs.twimg.com/media/DOZPKnZVoAAEwqr.jpg     media  \n",
       "18    https://pbs.twimg.com/media/DOYG_pQWAAE0iFe.jpg     media  \n",
       "19    https://pbs.twimg.com/media/DOXrK_jXUAI3zFM.jpg     media  \n",
       "20    https://pbs.twimg.com/media/DOVlndNUEAAc7Zp.jpg     media  \n",
       "21    https://pbs.twimg.com/media/DOSsxDPWAAQXuib.jpg     media  \n",
       "22    https://pbs.twimg.com/media/DOSpT6uXUAA3dF-.jpg     media  \n",
       "23    https://pbs.twimg.com/media/DOSXM1LXkAUcZvl.jpg     media  \n",
       "24    https://pbs.twimg.com/media/DORm_jNWkAAm9l3.jpg     media  \n",
       "25    https://pbs.twimg.com/media/DOQsdjHXcAABjn6.jpg     media  \n",
       "26    https://pbs.twimg.com/media/DOQQktkWkAEeCpU.jpg     media  \n",
       "27    https://pbs.twimg.com/media/DOP4srYX0AIJfZu.jpg     media  \n",
       "28    https://pbs.twimg.com/media/DOOQqPGXcAAmGEJ.jpg     media  \n",
       "29    https://pbs.twimg.com/media/DONHsm-WkAEcAu6.jpg     media  \n",
       "..                                                ...       ...  \n",
       "0   http://assets.vogue.com/photos/595fa4a80dd8723...     thumb  \n",
       "1   http://media.architecturaldigest.com/photos/59...     thumb  \n",
       "2   http://assets.vogue.com/photos/58f0de413579593...     thumb  \n",
       "3   http://assets.vogue.com/photos/595e5db278e1b74...     thumb  \n",
       "4   http://assets.vogue.com/photos/595d843178e1b74...     thumb  \n",
       "5   http://assets.vogue.com/photos/595aa1a2773ef13...     thumb  \n",
       "6   http://media.vanityfair.com/photos/55942e3efa1...     thumb  \n",
       "7   http://assets.teenvogue.com/photos/595e40a9495...     thumb  \n",
       "8   https://media.allure.com/photos/595d652ec7982f...     thumb  \n",
       "9   https://media.self.com/photos/595568d9fee81a06...     thumb  \n",
       "10  http://media.vanityfair.com/photos/557e3480320...     thumb  \n",
       "11  https://media.wmagazine.com/photos/5952a7ea921...     thumb  \n",
       "12  https://media.allure.com/photos/5771ae888d432b...     thumb  \n",
       "13  http://media.vanityfair.com/photos/59528f56710...     thumb  \n",
       "14  https://media.wmagazine.com/photos/585374a0c71...     thumb  \n",
       "15  https://media.wmagazine.com/photos/595a7e86070...     thumb  \n",
       "16  https://media.wmagazine.com/photos/595a6722ffe...     thumb  \n",
       "17  https://media.wmagazine.com/photos/5956739effe...     thumb  \n",
       "18  http://assets.vogue.com/photos/59528ae44abb957...     thumb  \n",
       "19  https://media.wmagazine.com/photos/591e2cab2e3...     thumb  \n",
       "20  http://assets.teenvogue.com/photos/594ad75e78e...     thumb  \n",
       "21  http://media.vanityfair.com/photos/595a4f98bd2...     thumb  \n",
       "22  https://media.allure.com/photos/595a5327bcfcdb...     thumb  \n",
       "23  http://media.architecturaldigest.com/photos/58...     thumb  \n",
       "24  https://media.allure.com/photos/58f75b2af39db9...     thumb  \n",
       "25  http://assets.vogue.com/photos/595550e87dec923...     thumb  \n",
       "26  http://assets.vogue.com/photos/5955886d0158410...     thumb  \n",
       "27  http://assets.vogue.com/photos/59568c3a439e182...     thumb  \n",
       "28  http://assets.vogue.com/photos/59595b3e3c5e815...     thumb  \n",
       "29  https://media.wmagazine.com/photos/5956843f070...     thumb  \n",
       "\n",
       "[12420 rows x 4 columns]"
      ]
     },
     "execution_count": 32,
     "metadata": {},
     "output_type": "execute_result"
    }
   ],
   "source": [
    "all_images"
   ]
  },
  {
   "cell_type": "code",
   "execution_count": 33,
   "metadata": {
    "collapsed": false
   },
   "outputs": [],
   "source": [
    "#all_images.to_csv(\"01_lda_data.csv\")"
   ]
  },
  {
   "cell_type": "code",
   "execution_count": 34,
   "metadata": {
    "collapsed": true
   },
   "outputs": [],
   "source": [
    "all_images = pd.read_csv(\"01_lda_data.csv\")"
   ]
  },
  {
   "cell_type": "code",
   "execution_count": 35,
   "metadata": {
    "collapsed": false
   },
   "outputs": [
    {
     "data": {
      "text/html": [
       "<div>\n",
       "<style>\n",
       "    .dataframe thead tr:only-child th {\n",
       "        text-align: right;\n",
       "    }\n",
       "\n",
       "    .dataframe thead th {\n",
       "        text-align: left;\n",
       "    }\n",
       "\n",
       "    .dataframe tbody tr th {\n",
       "        vertical-align: top;\n",
       "    }\n",
       "</style>\n",
       "<table border=\"1\" class=\"dataframe\">\n",
       "  <thead>\n",
       "    <tr style=\"text-align: right;\">\n",
       "      <th></th>\n",
       "      <th>Unnamed: 0</th>\n",
       "      <th>img</th>\n",
       "      <th>label</th>\n",
       "      <th>url</th>\n",
       "      <th>img_class</th>\n",
       "    </tr>\n",
       "  </thead>\n",
       "  <tbody>\n",
       "    <tr>\n",
       "      <th>0</th>\n",
       "      <td>0</td>\n",
       "      <td>img_00005</td>\n",
       "      <td>Celebrity Text</td>\n",
       "      <td>https://pbs.twimg.com/media/DOtY4hsXUAAParB.jpg</td>\n",
       "      <td>media</td>\n",
       "    </tr>\n",
       "    <tr>\n",
       "      <th>1</th>\n",
       "      <td>1</td>\n",
       "      <td>img_00010</td>\n",
       "      <td>Cosmetics Mascara Text</td>\n",
       "      <td>https://pbs.twimg.com/media/DOssiD7X0AALTfj.jpg</td>\n",
       "      <td>media</td>\n",
       "    </tr>\n",
       "    <tr>\n",
       "      <th>2</th>\n",
       "      <td>2</td>\n",
       "      <td>img_00016</td>\n",
       "      <td>Sailboat Transportation Vessel Watercraft Boat...</td>\n",
       "      <td>https://pbs.twimg.com/media/DOpJmmHW0AE50Tc.jpg</td>\n",
       "      <td>media</td>\n",
       "    </tr>\n",
       "    <tr>\n",
       "      <th>3</th>\n",
       "      <td>3</td>\n",
       "      <td>img_00021</td>\n",
       "      <td>Human People Person Face Portrait Blonde Femal...</td>\n",
       "      <td>https://pbs.twimg.com/ext_tw_video_thumb/93055...</td>\n",
       "      <td>media</td>\n",
       "    </tr>\n",
       "    <tr>\n",
       "      <th>4</th>\n",
       "      <td>4</td>\n",
       "      <td>img_00025</td>\n",
       "      <td>Celebrity Text</td>\n",
       "      <td>https://pbs.twimg.com/media/DOnT5hiXUAA75_s.jpg</td>\n",
       "      <td>media</td>\n",
       "    </tr>\n",
       "  </tbody>\n",
       "</table>\n",
       "</div>"
      ],
      "text/plain": [
       "   Unnamed: 0        img                                              label  \\\n",
       "0           0  img_00005                                     Celebrity Text   \n",
       "1           1  img_00010                             Cosmetics Mascara Text   \n",
       "2           2  img_00016  Sailboat Transportation Vessel Watercraft Boat...   \n",
       "3           3  img_00021  Human People Person Face Portrait Blonde Femal...   \n",
       "4           4  img_00025                                     Celebrity Text   \n",
       "\n",
       "                                                 url img_class  \n",
       "0    https://pbs.twimg.com/media/DOtY4hsXUAAParB.jpg     media  \n",
       "1    https://pbs.twimg.com/media/DOssiD7X0AALTfj.jpg     media  \n",
       "2    https://pbs.twimg.com/media/DOpJmmHW0AE50Tc.jpg     media  \n",
       "3  https://pbs.twimg.com/ext_tw_video_thumb/93055...     media  \n",
       "4    https://pbs.twimg.com/media/DOnT5hiXUAA75_s.jpg     media  "
      ]
     },
     "execution_count": 35,
     "metadata": {},
     "output_type": "execute_result"
    }
   ],
   "source": [
    "all_images.head()"
   ]
  },
  {
   "cell_type": "code",
   "execution_count": 36,
   "metadata": {
    "collapsed": false
   },
   "outputs": [
    {
     "data": {
      "text/plain": [
       "12420"
      ]
     },
     "execution_count": 36,
     "metadata": {},
     "output_type": "execute_result"
    }
   ],
   "source": [
    "len(all_images)"
   ]
  },
  {
   "cell_type": "markdown",
   "metadata": {},
   "source": [
    "LDA model construct"
   ]
  },
  {
   "cell_type": "code",
   "execution_count": 37,
   "metadata": {
    "collapsed": true
   },
   "outputs": [],
   "source": [
    "tokenizer = RegexpTokenizer(r'\\w+')"
   ]
  },
  {
   "cell_type": "code",
   "execution_count": 38,
   "metadata": {
    "collapsed": true
   },
   "outputs": [],
   "source": [
    "# create English stop words list\n",
    "en_stop = get_stop_words('en')"
   ]
  },
  {
   "cell_type": "code",
   "execution_count": 39,
   "metadata": {
    "collapsed": true
   },
   "outputs": [],
   "source": [
    "# Create p_stemmer of class PorterStemmer\n",
    "p_stemmer = PorterStemmer()  "
   ]
  },
  {
   "cell_type": "code",
   "execution_count": 40,
   "metadata": {
    "collapsed": true
   },
   "outputs": [],
   "source": [
    "doc_set = all_images.loc[:,[\"img\", \"label\"]]"
   ]
  },
  {
   "cell_type": "code",
   "execution_count": 41,
   "metadata": {
    "collapsed": false
   },
   "outputs": [],
   "source": [
    "# compile sample documents into a list\n",
    "doc_set.dropna(inplace=True)"
   ]
  },
  {
   "cell_type": "code",
   "execution_count": 42,
   "metadata": {
    "collapsed": true
   },
   "outputs": [],
   "source": [
    "doc_set.drop_duplicates(inplace=True)"
   ]
  },
  {
   "cell_type": "code",
   "execution_count": 43,
   "metadata": {
    "collapsed": true
   },
   "outputs": [],
   "source": [
    "texts = []\n",
    "\n",
    "# loop through document list\n",
    "for i in doc_set.label:\n",
    "    \n",
    "    # clean and tokenize document string\n",
    "    raw = i.lower()\n",
    "    tokens = tokenizer.tokenize(raw)\n",
    "\n",
    "    # remove stop words from tokens\n",
    "    stopped_tokens = [i for i in tokens if not i in en_stop]\n",
    "    \n",
    "    # stem tokens\n",
    "    stemmed_tokens = [p_stemmer.stem(i) for i in stopped_tokens]\n",
    "    \n",
    "    # add tokens to list\n",
    "    texts.append(stemmed_tokens)"
   ]
  },
  {
   "cell_type": "code",
   "execution_count": 44,
   "metadata": {
    "collapsed": true
   },
   "outputs": [],
   "source": [
    "# turn our tokenized documents into a id <-> term dictionary\n",
    "dictionary = corpora.Dictionary(texts)"
   ]
  },
  {
   "cell_type": "code",
   "execution_count": 45,
   "metadata": {
    "collapsed": true
   },
   "outputs": [],
   "source": [
    "corpus = [dictionary.doc2bow(text) for text in texts]"
   ]
  },
  {
   "cell_type": "code",
   "execution_count": 46,
   "metadata": {
    "collapsed": true
   },
   "outputs": [],
   "source": [
    "# Save\n",
    "corpora.MmCorpus.serialize('label_corpus.mm', corpus)\n",
    "dictionary.save('label_corpus.dict')"
   ]
  },
  {
   "cell_type": "code",
   "execution_count": 47,
   "metadata": {
    "collapsed": true
   },
   "outputs": [],
   "source": [
    "import random\n",
    "random.seed = 128"
   ]
  },
  {
   "cell_type": "code",
   "execution_count": 43,
   "metadata": {
    "collapsed": false
   },
   "outputs": [],
   "source": [
    "# generate LDA model\n",
    "#ldamodel = gensim.models.ldamodel.LdaModel(corpus, num_topics=15, id2word = dictionary, passes=20)"
   ]
  },
  {
   "cell_type": "code",
   "execution_count": 58,
   "metadata": {
    "collapsed": true
   },
   "outputs": [],
   "source": [
    "model = models.ldamodel.LdaModel.load('labels_lda_15.model')\n",
    "dictionary = corpora.Dictionary.load('label_corpus.dict')\n",
    "corpus = corpora.MmCorpus('label_corpus.mm')"
   ]
  },
  {
   "cell_type": "code",
   "execution_count": 59,
   "metadata": {
    "collapsed": false
   },
   "outputs": [
    {
     "name": "stdout",
     "output_type": "stream",
     "text": [
      "[(0, '0.176*\"cloth\" + 0.099*\"coat\" + 0.080*\"face\" + 0.078*\"overcoat\" + 0.076*\"suit\"'), (1, '0.778*\"celebr\" + 0.022*\"produc\" + 0.021*\"cup\" + 0.018*\"food\" + 0.014*\"mountain\"'), (2, '0.342*\"text\" + 0.280*\"celebr\" + 0.073*\"carpet\" + 0.071*\"red\" + 0.071*\"premier\"'), (3, '0.098*\"hair\" + 0.096*\"food\" + 0.065*\"afro\" + 0.065*\"hairstyl\" + 0.064*\"hat\"'), (4, '0.226*\"plant\" + 0.135*\"flora\" + 0.095*\"jar\" + 0.094*\"potteri\" + 0.093*\"vase\"'), (5, '0.159*\"furnitur\" + 0.117*\"text\" + 0.081*\"chair\" + 0.071*\"couch\" + 0.048*\"trademark\"'), (6, '0.189*\"build\" + 0.131*\"hous\" + 0.066*\"architectur\" + 0.050*\"text\" + 0.045*\"town\"'), (7, '0.127*\"outdoor\" + 0.099*\"natur\" + 0.079*\"water\" + 0.058*\"sea\" + 0.054*\"ocean\"'), (8, '0.157*\"room\" + 0.100*\"indoor\" + 0.074*\"furnitur\" + 0.073*\"design\" + 0.073*\"interior\"'), (9, '0.107*\"vehicl\" + 0.094*\"transport\" + 0.079*\"car\" + 0.075*\"danc\" + 0.069*\"automobil\"'), (10, '0.100*\"text\" + 0.079*\"music\" + 0.072*\"cosmet\" + 0.049*\"perform\" + 0.045*\"art\"'), (11, '0.154*\"text\" + 0.144*\"poster\" + 0.084*\"collag\" + 0.083*\"paper\" + 0.056*\"flyer\"'), (12, '0.093*\"cloth\" + 0.091*\"text\" + 0.065*\"footwear\" + 0.058*\"glass\" + 0.053*\"shoe\"'), (13, '0.202*\"femal\" + 0.190*\"woman\" + 0.190*\"girl\" + 0.165*\"blond\" + 0.106*\"celebr\"'), (14, '0.280*\"human\" + 0.280*\"person\" + 0.274*\"peopl\" + 0.070*\"text\" + 0.019*\"crowd\"')]\n"
     ]
    }
   ],
   "source": [
    "print(model.print_topics(num_topics=15, num_words=5))"
   ]
  },
  {
   "cell_type": "code",
   "execution_count": 15,
   "metadata": {
    "collapsed": false
   },
   "outputs": [
    {
     "name": "stdout",
     "output_type": "stream",
     "text": [
      "[(0, '0.176*\"cloth\" + 0.099*\"coat\" + 0.080*\"face\" + 0.078*\"overcoat\" + 0.076*\"suit\"'), (1, '0.778*\"celebr\" + 0.022*\"produc\" + 0.021*\"cup\" + 0.018*\"food\" + 0.014*\"mountain\"'), (2, '0.342*\"text\" + 0.280*\"celebr\" + 0.073*\"carpet\" + 0.071*\"red\" + 0.071*\"premier\"'), (3, '0.098*\"hair\" + 0.096*\"food\" + 0.065*\"afro\" + 0.065*\"hairstyl\" + 0.064*\"hat\"'), (4, '0.226*\"plant\" + 0.135*\"flora\" + 0.095*\"jar\" + 0.094*\"potteri\" + 0.093*\"vase\"'), (5, '0.159*\"furnitur\" + 0.117*\"text\" + 0.081*\"chair\" + 0.071*\"couch\" + 0.048*\"trademark\"'), (6, '0.189*\"build\" + 0.131*\"hous\" + 0.066*\"architectur\" + 0.050*\"text\" + 0.045*\"town\"'), (7, '0.127*\"outdoor\" + 0.099*\"natur\" + 0.079*\"water\" + 0.058*\"sea\" + 0.054*\"ocean\"'), (8, '0.157*\"room\" + 0.100*\"indoor\" + 0.074*\"furnitur\" + 0.073*\"design\" + 0.073*\"interior\"'), (9, '0.107*\"vehicl\" + 0.094*\"transport\" + 0.079*\"car\" + 0.075*\"danc\" + 0.069*\"automobil\"'), (10, '0.100*\"text\" + 0.079*\"music\" + 0.072*\"cosmet\" + 0.049*\"perform\" + 0.045*\"art\"'), (11, '0.154*\"text\" + 0.144*\"poster\" + 0.084*\"collag\" + 0.083*\"paper\" + 0.056*\"flyer\"'), (12, '0.093*\"cloth\" + 0.091*\"text\" + 0.065*\"footwear\" + 0.058*\"glass\" + 0.053*\"shoe\"'), (13, '0.202*\"femal\" + 0.190*\"woman\" + 0.190*\"girl\" + 0.165*\"blond\" + 0.106*\"celebr\"'), (14, '0.280*\"human\" + 0.280*\"person\" + 0.274*\"peopl\" + 0.070*\"text\" + 0.019*\"crowd\"')]\n"
     ]
    }
   ],
   "source": [
    "#print(ldamodel.print_topics(num_topics=15, num_words=5))"
   ]
  },
  {
   "cell_type": "code",
   "execution_count": 49,
   "metadata": {
    "collapsed": false
   },
   "outputs": [],
   "source": [
    "#this line is commented out so we don't re-save over our LDA model on images.\n",
    "#ldamodel.save('labels_lda_15.model')"
   ]
  },
  {
   "cell_type": "code",
   "execution_count": 60,
   "metadata": {
    "collapsed": false
   },
   "outputs": [],
   "source": [
    "doc_set.reset_index(inplace=True)\n",
    "doc_label_topic = []\n",
    "for i, text in enumerate(corpus):\n",
    "    topics = sorted(ldamodel[text], key=lambda x: -x[1])\n",
    "    doc_label_topic.append({'img': doc_set['img'][i], 'label_topic': topics[0][0], 'label_topic_prob': topics[0][1]})\n",
    "doc_label_topic_df = pd.DataFrame(doc_label_topic)"
   ]
  },
  {
   "cell_type": "code",
   "execution_count": 61,
   "metadata": {
    "collapsed": false
   },
   "outputs": [
    {
     "data": {
      "text/plain": [
       "[(0, 0.022222222222222233),\n",
       " (1, 0.022222333368475448),\n",
       " (2, 0.68888866710522434),\n",
       " (3, 0.022222226493950659),\n",
       " (4, 0.022222230300234624),\n",
       " (5, 0.02222223587630532),\n",
       " (6, 0.022222228099079672),\n",
       " (7, 0.022222222222222261),\n",
       " (8, 0.022222226822125497),\n",
       " (9, 0.022222227851262523),\n",
       " (10, 0.022222233939728976),\n",
       " (11, 0.022222240246953219),\n",
       " (12, 0.022222232866991334),\n",
       " (13, 0.02222224224162506),\n",
       " (14, 0.022222230343598968)]"
      ]
     },
     "execution_count": 61,
     "metadata": {},
     "output_type": "execute_result"
    }
   ],
   "source": [
    "model[corpus[0]]"
   ]
  },
  {
   "cell_type": "code",
   "execution_count": 62,
   "metadata": {
    "collapsed": false
   },
   "outputs": [
    {
     "data": {
      "text/plain": [
       "1346"
      ]
     },
     "execution_count": 62,
     "metadata": {},
     "output_type": "execute_result"
    }
   ],
   "source": [
    "len(dictionary)"
   ]
  },
  {
   "cell_type": "code",
   "execution_count": 63,
   "metadata": {
    "collapsed": false
   },
   "outputs": [
    {
     "data": {
      "text/plain": [
       "11415"
      ]
     },
     "execution_count": 63,
     "metadata": {},
     "output_type": "execute_result"
    }
   ],
   "source": [
    "len(model[corpus])"
   ]
  },
  {
   "cell_type": "code",
   "execution_count": 64,
   "metadata": {
    "collapsed": false
   },
   "outputs": [],
   "source": [
    "all_images = all_images[[\"img\", \"label\", \"url\", \"img_class\"]]"
   ]
  },
  {
   "cell_type": "code",
   "execution_count": 65,
   "metadata": {
    "collapsed": true
   },
   "outputs": [],
   "source": [
    "#all_images.to_csv(\"image_data_w_lda_topics.csv\")"
   ]
  },
  {
   "cell_type": "code",
   "execution_count": 66,
   "metadata": {
    "collapsed": false
   },
   "outputs": [
    {
     "name": "stderr",
     "output_type": "stream",
     "text": [
      "/Users/nmolivo/anaconda/lib/python3.5/site-packages/pyLDAvis/_prepare.py:387: DeprecationWarning: \n",
      ".ix is deprecated. Please use\n",
      ".loc for label based indexing or\n",
      ".iloc for positional indexing\n",
      "\n",
      "See the documentation here:\n",
      "http://pandas.pydata.org/pandas-docs/stable/indexing.html#ix-indexer-is-deprecated\n",
      "  topic_term_dists = topic_term_dists.ix[topic_order]\n"
     ]
    },
    {
     "ename": "KeyboardInterrupt",
     "evalue": "",
     "output_type": "error",
     "traceback": [
      "\u001b[0;31m---------------------------------------------------------------------------\u001b[0m",
      "\u001b[0;31mKeyboardInterrupt\u001b[0m                         Traceback (most recent call last)",
      "\u001b[0;32m<ipython-input-66-e1019b567e0a>\u001b[0m in \u001b[0;36m<module>\u001b[0;34m()\u001b[0m\n\u001b[0;32m----> 1\u001b[0;31m \u001b[0mvis\u001b[0m \u001b[0;34m=\u001b[0m \u001b[0mpyLDAvis\u001b[0m\u001b[0;34m.\u001b[0m\u001b[0mgensim\u001b[0m\u001b[0;34m.\u001b[0m\u001b[0mprepare\u001b[0m\u001b[0;34m(\u001b[0m\u001b[0mmodel\u001b[0m\u001b[0;34m,\u001b[0m \u001b[0mcorpus\u001b[0m\u001b[0;34m,\u001b[0m \u001b[0mdictionary\u001b[0m\u001b[0;34m)\u001b[0m\u001b[0;34m\u001b[0m\u001b[0m\n\u001b[0m",
      "\u001b[0;32m/Users/nmolivo/anaconda/lib/python3.5/site-packages/pyLDAvis/gensim.py\u001b[0m in \u001b[0;36mprepare\u001b[0;34m(topic_model, corpus, dictionary, doc_topic_dist, **kwargs)\u001b[0m\n\u001b[1;32m    110\u001b[0m     \"\"\"\n\u001b[1;32m    111\u001b[0m     \u001b[0mopts\u001b[0m \u001b[0;34m=\u001b[0m \u001b[0mfp\u001b[0m\u001b[0;34m.\u001b[0m\u001b[0mmerge\u001b[0m\u001b[0;34m(\u001b[0m\u001b[0m_extract_data\u001b[0m\u001b[0;34m(\u001b[0m\u001b[0mtopic_model\u001b[0m\u001b[0;34m,\u001b[0m \u001b[0mcorpus\u001b[0m\u001b[0;34m,\u001b[0m \u001b[0mdictionary\u001b[0m\u001b[0;34m,\u001b[0m \u001b[0mdoc_topic_dist\u001b[0m\u001b[0;34m)\u001b[0m\u001b[0;34m,\u001b[0m \u001b[0mkwargs\u001b[0m\u001b[0;34m)\u001b[0m\u001b[0;34m\u001b[0m\u001b[0m\n\u001b[0;32m--> 112\u001b[0;31m     \u001b[0;32mreturn\u001b[0m \u001b[0mvis_prepare\u001b[0m\u001b[0;34m(\u001b[0m\u001b[0;34m**\u001b[0m\u001b[0mopts\u001b[0m\u001b[0;34m)\u001b[0m\u001b[0;34m\u001b[0m\u001b[0m\n\u001b[0m",
      "\u001b[0;32m/Users/nmolivo/anaconda/lib/python3.5/site-packages/pyLDAvis/_prepare.py\u001b[0m in \u001b[0;36mprepare\u001b[0;34m(topic_term_dists, doc_topic_dists, doc_lengths, vocab, term_frequency, R, lambda_step, mds, n_jobs, plot_opts, sort_topics)\u001b[0m\n\u001b[1;32m    396\u001b[0m    \u001b[0mterm_frequency\u001b[0m \u001b[0;34m=\u001b[0m \u001b[0mnp\u001b[0m\u001b[0;34m.\u001b[0m\u001b[0msum\u001b[0m\u001b[0;34m(\u001b[0m\u001b[0mterm_topic_freq\u001b[0m\u001b[0;34m,\u001b[0m \u001b[0maxis\u001b[0m\u001b[0;34m=\u001b[0m\u001b[0;36m0\u001b[0m\u001b[0;34m)\u001b[0m\u001b[0;34m\u001b[0m\u001b[0m\n\u001b[1;32m    397\u001b[0m \u001b[0;34m\u001b[0m\u001b[0m\n\u001b[0;32m--> 398\u001b[0;31m    \u001b[0mtopic_info\u001b[0m         \u001b[0;34m=\u001b[0m \u001b[0m_topic_info\u001b[0m\u001b[0;34m(\u001b[0m\u001b[0mtopic_term_dists\u001b[0m\u001b[0;34m,\u001b[0m \u001b[0mtopic_proportion\u001b[0m\u001b[0;34m,\u001b[0m \u001b[0mterm_frequency\u001b[0m\u001b[0;34m,\u001b[0m \u001b[0mterm_topic_freq\u001b[0m\u001b[0;34m,\u001b[0m \u001b[0mvocab\u001b[0m\u001b[0;34m,\u001b[0m \u001b[0mlambda_step\u001b[0m\u001b[0;34m,\u001b[0m \u001b[0mR\u001b[0m\u001b[0;34m,\u001b[0m \u001b[0mn_jobs\u001b[0m\u001b[0;34m)\u001b[0m\u001b[0;34m\u001b[0m\u001b[0m\n\u001b[0m\u001b[1;32m    399\u001b[0m    \u001b[0mtoken_table\u001b[0m        \u001b[0;34m=\u001b[0m \u001b[0m_token_table\u001b[0m\u001b[0;34m(\u001b[0m\u001b[0mtopic_info\u001b[0m\u001b[0;34m,\u001b[0m \u001b[0mterm_topic_freq\u001b[0m\u001b[0;34m,\u001b[0m \u001b[0mvocab\u001b[0m\u001b[0;34m,\u001b[0m \u001b[0mterm_frequency\u001b[0m\u001b[0;34m)\u001b[0m\u001b[0;34m\u001b[0m\u001b[0m\n\u001b[1;32m    400\u001b[0m    \u001b[0mtopic_coordinates\u001b[0m \u001b[0;34m=\u001b[0m \u001b[0m_topic_coordinates\u001b[0m\u001b[0;34m(\u001b[0m\u001b[0mmds\u001b[0m\u001b[0;34m,\u001b[0m \u001b[0mtopic_term_dists\u001b[0m\u001b[0;34m,\u001b[0m \u001b[0mtopic_proportion\u001b[0m\u001b[0;34m)\u001b[0m\u001b[0;34m\u001b[0m\u001b[0m\n",
      "\u001b[0;32m/Users/nmolivo/anaconda/lib/python3.5/site-packages/pyLDAvis/_prepare.py\u001b[0m in \u001b[0;36m_topic_info\u001b[0;34m(topic_term_dists, topic_proportion, term_frequency, term_topic_freq, vocab, lambda_step, R, n_jobs)\u001b[0m\n\u001b[1;32m    253\u001b[0m \u001b[0;34m\u001b[0m\u001b[0m\n\u001b[1;32m    254\u001b[0m    top_terms = pd.concat(Parallel(n_jobs=n_jobs)(delayed(_find_relevance_chunks)(log_ttd, log_lift, R, ls) \\\n\u001b[0;32m--> 255\u001b[0;31m                                                  for ls in _job_chunks(lambda_seq, n_jobs)))\n\u001b[0m\u001b[1;32m    256\u001b[0m    \u001b[0mtopic_dfs\u001b[0m \u001b[0;34m=\u001b[0m \u001b[0mmap\u001b[0m\u001b[0;34m(\u001b[0m\u001b[0mtopic_top_term_df\u001b[0m\u001b[0;34m,\u001b[0m \u001b[0menumerate\u001b[0m\u001b[0;34m(\u001b[0m\u001b[0mtop_terms\u001b[0m\u001b[0;34m.\u001b[0m\u001b[0mT\u001b[0m\u001b[0;34m.\u001b[0m\u001b[0miterrows\u001b[0m\u001b[0;34m(\u001b[0m\u001b[0;34m)\u001b[0m\u001b[0;34m,\u001b[0m \u001b[0;36m1\u001b[0m\u001b[0;34m)\u001b[0m\u001b[0;34m)\u001b[0m\u001b[0;34m\u001b[0m\u001b[0m\n\u001b[1;32m    257\u001b[0m    \u001b[0;32mreturn\u001b[0m \u001b[0mpd\u001b[0m\u001b[0;34m.\u001b[0m\u001b[0mconcat\u001b[0m\u001b[0;34m(\u001b[0m\u001b[0;34m[\u001b[0m\u001b[0mdefault_term_info\u001b[0m\u001b[0;34m]\u001b[0m \u001b[0;34m+\u001b[0m \u001b[0mlist\u001b[0m\u001b[0;34m(\u001b[0m\u001b[0mtopic_dfs\u001b[0m\u001b[0;34m)\u001b[0m\u001b[0;34m)\u001b[0m\u001b[0;34m\u001b[0m\u001b[0m\n",
      "\u001b[0;32m/Users/nmolivo/anaconda/lib/python3.5/site-packages/joblib/parallel.py\u001b[0m in \u001b[0;36m__call__\u001b[0;34m(self, iterable)\u001b[0m\n\u001b[1;32m    787\u001b[0m                 \u001b[0;31m# consumption.\u001b[0m\u001b[0;34m\u001b[0m\u001b[0;34m\u001b[0m\u001b[0m\n\u001b[1;32m    788\u001b[0m                 \u001b[0mself\u001b[0m\u001b[0;34m.\u001b[0m\u001b[0m_iterating\u001b[0m \u001b[0;34m=\u001b[0m \u001b[0;32mFalse\u001b[0m\u001b[0;34m\u001b[0m\u001b[0m\n\u001b[0;32m--> 789\u001b[0;31m             \u001b[0mself\u001b[0m\u001b[0;34m.\u001b[0m\u001b[0mretrieve\u001b[0m\u001b[0;34m(\u001b[0m\u001b[0;34m)\u001b[0m\u001b[0;34m\u001b[0m\u001b[0m\n\u001b[0m\u001b[1;32m    790\u001b[0m             \u001b[0;31m# Make sure that we get a last message telling us we are done\u001b[0m\u001b[0;34m\u001b[0m\u001b[0;34m\u001b[0m\u001b[0m\n\u001b[1;32m    791\u001b[0m             \u001b[0melapsed_time\u001b[0m \u001b[0;34m=\u001b[0m \u001b[0mtime\u001b[0m\u001b[0;34m.\u001b[0m\u001b[0mtime\u001b[0m\u001b[0;34m(\u001b[0m\u001b[0;34m)\u001b[0m \u001b[0;34m-\u001b[0m \u001b[0mself\u001b[0m\u001b[0;34m.\u001b[0m\u001b[0m_start_time\u001b[0m\u001b[0;34m\u001b[0m\u001b[0m\n",
      "\u001b[0;32m/Users/nmolivo/anaconda/lib/python3.5/site-packages/joblib/parallel.py\u001b[0m in \u001b[0;36mretrieve\u001b[0;34m(self)\u001b[0m\n\u001b[1;32m    697\u001b[0m             \u001b[0;32mtry\u001b[0m\u001b[0;34m:\u001b[0m\u001b[0;34m\u001b[0m\u001b[0m\n\u001b[1;32m    698\u001b[0m                 \u001b[0;32mif\u001b[0m \u001b[0mgetattr\u001b[0m\u001b[0;34m(\u001b[0m\u001b[0mself\u001b[0m\u001b[0;34m.\u001b[0m\u001b[0m_backend\u001b[0m\u001b[0;34m,\u001b[0m \u001b[0;34m'supports_timeout'\u001b[0m\u001b[0;34m,\u001b[0m \u001b[0;32mFalse\u001b[0m\u001b[0;34m)\u001b[0m\u001b[0;34m:\u001b[0m\u001b[0;34m\u001b[0m\u001b[0m\n\u001b[0;32m--> 699\u001b[0;31m                     \u001b[0mself\u001b[0m\u001b[0;34m.\u001b[0m\u001b[0m_output\u001b[0m\u001b[0;34m.\u001b[0m\u001b[0mextend\u001b[0m\u001b[0;34m(\u001b[0m\u001b[0mjob\u001b[0m\u001b[0;34m.\u001b[0m\u001b[0mget\u001b[0m\u001b[0;34m(\u001b[0m\u001b[0mtimeout\u001b[0m\u001b[0;34m=\u001b[0m\u001b[0mself\u001b[0m\u001b[0;34m.\u001b[0m\u001b[0mtimeout\u001b[0m\u001b[0;34m)\u001b[0m\u001b[0;34m)\u001b[0m\u001b[0;34m\u001b[0m\u001b[0m\n\u001b[0m\u001b[1;32m    700\u001b[0m                 \u001b[0;32melse\u001b[0m\u001b[0;34m:\u001b[0m\u001b[0;34m\u001b[0m\u001b[0m\n\u001b[1;32m    701\u001b[0m                     \u001b[0mself\u001b[0m\u001b[0;34m.\u001b[0m\u001b[0m_output\u001b[0m\u001b[0;34m.\u001b[0m\u001b[0mextend\u001b[0m\u001b[0;34m(\u001b[0m\u001b[0mjob\u001b[0m\u001b[0;34m.\u001b[0m\u001b[0mget\u001b[0m\u001b[0;34m(\u001b[0m\u001b[0;34m)\u001b[0m\u001b[0;34m)\u001b[0m\u001b[0;34m\u001b[0m\u001b[0m\n",
      "\u001b[0;32m/Users/nmolivo/anaconda/lib/python3.5/multiprocessing/pool.py\u001b[0m in \u001b[0;36mget\u001b[0;34m(self, timeout)\u001b[0m\n\u001b[1;32m    600\u001b[0m \u001b[0;34m\u001b[0m\u001b[0m\n\u001b[1;32m    601\u001b[0m     \u001b[0;32mdef\u001b[0m \u001b[0mget\u001b[0m\u001b[0;34m(\u001b[0m\u001b[0mself\u001b[0m\u001b[0;34m,\u001b[0m \u001b[0mtimeout\u001b[0m\u001b[0;34m=\u001b[0m\u001b[0;32mNone\u001b[0m\u001b[0;34m)\u001b[0m\u001b[0;34m:\u001b[0m\u001b[0;34m\u001b[0m\u001b[0m\n\u001b[0;32m--> 602\u001b[0;31m         \u001b[0mself\u001b[0m\u001b[0;34m.\u001b[0m\u001b[0mwait\u001b[0m\u001b[0;34m(\u001b[0m\u001b[0mtimeout\u001b[0m\u001b[0;34m)\u001b[0m\u001b[0;34m\u001b[0m\u001b[0m\n\u001b[0m\u001b[1;32m    603\u001b[0m         \u001b[0;32mif\u001b[0m \u001b[0;32mnot\u001b[0m \u001b[0mself\u001b[0m\u001b[0;34m.\u001b[0m\u001b[0mready\u001b[0m\u001b[0;34m(\u001b[0m\u001b[0;34m)\u001b[0m\u001b[0;34m:\u001b[0m\u001b[0;34m\u001b[0m\u001b[0m\n\u001b[1;32m    604\u001b[0m             \u001b[0;32mraise\u001b[0m \u001b[0mTimeoutError\u001b[0m\u001b[0;34m\u001b[0m\u001b[0m\n",
      "\u001b[0;32m/Users/nmolivo/anaconda/lib/python3.5/multiprocessing/pool.py\u001b[0m in \u001b[0;36mwait\u001b[0;34m(self, timeout)\u001b[0m\n\u001b[1;32m    597\u001b[0m \u001b[0;34m\u001b[0m\u001b[0m\n\u001b[1;32m    598\u001b[0m     \u001b[0;32mdef\u001b[0m \u001b[0mwait\u001b[0m\u001b[0;34m(\u001b[0m\u001b[0mself\u001b[0m\u001b[0;34m,\u001b[0m \u001b[0mtimeout\u001b[0m\u001b[0;34m=\u001b[0m\u001b[0;32mNone\u001b[0m\u001b[0;34m)\u001b[0m\u001b[0;34m:\u001b[0m\u001b[0;34m\u001b[0m\u001b[0m\n\u001b[0;32m--> 599\u001b[0;31m         \u001b[0mself\u001b[0m\u001b[0;34m.\u001b[0m\u001b[0m_event\u001b[0m\u001b[0;34m.\u001b[0m\u001b[0mwait\u001b[0m\u001b[0;34m(\u001b[0m\u001b[0mtimeout\u001b[0m\u001b[0;34m)\u001b[0m\u001b[0;34m\u001b[0m\u001b[0m\n\u001b[0m\u001b[1;32m    600\u001b[0m \u001b[0;34m\u001b[0m\u001b[0m\n\u001b[1;32m    601\u001b[0m     \u001b[0;32mdef\u001b[0m \u001b[0mget\u001b[0m\u001b[0;34m(\u001b[0m\u001b[0mself\u001b[0m\u001b[0;34m,\u001b[0m \u001b[0mtimeout\u001b[0m\u001b[0;34m=\u001b[0m\u001b[0;32mNone\u001b[0m\u001b[0;34m)\u001b[0m\u001b[0;34m:\u001b[0m\u001b[0;34m\u001b[0m\u001b[0m\n",
      "\u001b[0;32m/Users/nmolivo/anaconda/lib/python3.5/threading.py\u001b[0m in \u001b[0;36mwait\u001b[0;34m(self, timeout)\u001b[0m\n\u001b[1;32m    547\u001b[0m             \u001b[0msignaled\u001b[0m \u001b[0;34m=\u001b[0m \u001b[0mself\u001b[0m\u001b[0;34m.\u001b[0m\u001b[0m_flag\u001b[0m\u001b[0;34m\u001b[0m\u001b[0m\n\u001b[1;32m    548\u001b[0m             \u001b[0;32mif\u001b[0m \u001b[0;32mnot\u001b[0m \u001b[0msignaled\u001b[0m\u001b[0;34m:\u001b[0m\u001b[0;34m\u001b[0m\u001b[0m\n\u001b[0;32m--> 549\u001b[0;31m                 \u001b[0msignaled\u001b[0m \u001b[0;34m=\u001b[0m \u001b[0mself\u001b[0m\u001b[0;34m.\u001b[0m\u001b[0m_cond\u001b[0m\u001b[0;34m.\u001b[0m\u001b[0mwait\u001b[0m\u001b[0;34m(\u001b[0m\u001b[0mtimeout\u001b[0m\u001b[0;34m)\u001b[0m\u001b[0;34m\u001b[0m\u001b[0m\n\u001b[0m\u001b[1;32m    550\u001b[0m             \u001b[0;32mreturn\u001b[0m \u001b[0msignaled\u001b[0m\u001b[0;34m\u001b[0m\u001b[0m\n\u001b[1;32m    551\u001b[0m \u001b[0;34m\u001b[0m\u001b[0m\n",
      "\u001b[0;32m/Users/nmolivo/anaconda/lib/python3.5/threading.py\u001b[0m in \u001b[0;36mwait\u001b[0;34m(self, timeout)\u001b[0m\n\u001b[1;32m    291\u001b[0m         \u001b[0;32mtry\u001b[0m\u001b[0;34m:\u001b[0m    \u001b[0;31m# restore state no matter what (e.g., KeyboardInterrupt)\u001b[0m\u001b[0;34m\u001b[0m\u001b[0m\n\u001b[1;32m    292\u001b[0m             \u001b[0;32mif\u001b[0m \u001b[0mtimeout\u001b[0m \u001b[0;32mis\u001b[0m \u001b[0;32mNone\u001b[0m\u001b[0;34m:\u001b[0m\u001b[0;34m\u001b[0m\u001b[0m\n\u001b[0;32m--> 293\u001b[0;31m                 \u001b[0mwaiter\u001b[0m\u001b[0;34m.\u001b[0m\u001b[0macquire\u001b[0m\u001b[0;34m(\u001b[0m\u001b[0;34m)\u001b[0m\u001b[0;34m\u001b[0m\u001b[0m\n\u001b[0m\u001b[1;32m    294\u001b[0m                 \u001b[0mgotit\u001b[0m \u001b[0;34m=\u001b[0m \u001b[0;32mTrue\u001b[0m\u001b[0;34m\u001b[0m\u001b[0m\n\u001b[1;32m    295\u001b[0m             \u001b[0;32melse\u001b[0m\u001b[0;34m:\u001b[0m\u001b[0;34m\u001b[0m\u001b[0m\n",
      "\u001b[0;31mKeyboardInterrupt\u001b[0m: "
     ]
    }
   ],
   "source": [
    "vis = pyLDAvis.gensim.prepare(model, corpus, dictionary)"
   ]
  },
  {
   "cell_type": "code",
   "execution_count": 67,
   "metadata": {
    "collapsed": false
   },
   "outputs": [
    {
     "ename": "NameError",
     "evalue": "name 'vis' is not defined",
     "output_type": "error",
     "traceback": [
      "\u001b[0;31m---------------------------------------------------------------------------\u001b[0m",
      "\u001b[0;31mNameError\u001b[0m                                 Traceback (most recent call last)",
      "\u001b[0;32m<ipython-input-67-1336fb8e5a79>\u001b[0m in \u001b[0;36m<module>\u001b[0;34m()\u001b[0m\n\u001b[0;32m----> 1\u001b[0;31m \u001b[0mpyLDAvis\u001b[0m\u001b[0;34m.\u001b[0m\u001b[0mdisplay\u001b[0m\u001b[0;34m(\u001b[0m\u001b[0mvis\u001b[0m\u001b[0;34m)\u001b[0m\u001b[0;34m\u001b[0m\u001b[0m\n\u001b[0m",
      "\u001b[0;31mNameError\u001b[0m: name 'vis' is not defined"
     ]
    }
   ],
   "source": [
    "pyLDAvis.display(vis)"
   ]
  },
  {
   "cell_type": "code",
   "execution_count": null,
   "metadata": {
    "collapsed": true
   },
   "outputs": [],
   "source": []
  }
 ],
 "metadata": {
  "anaconda-cloud": {},
  "kernelspec": {
   "display_name": "Python [conda root]",
   "language": "python",
   "name": "conda-root-py"
  },
  "language_info": {
   "codemirror_mode": {
    "name": "ipython",
    "version": 3
   },
   "file_extension": ".py",
   "mimetype": "text/x-python",
   "name": "python",
   "nbconvert_exporter": "python",
   "pygments_lexer": "ipython3",
   "version": "3.5.2"
  }
 },
 "nbformat": 4,
 "nbformat_minor": 2
}
