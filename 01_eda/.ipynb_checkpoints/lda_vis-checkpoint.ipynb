{
 "cells": [
  {
   "cell_type": "code",
   "execution_count": 1,
   "metadata": {
    "collapsed": true
   },
   "outputs": [],
   "source": [
    "import pandas as pd\n",
    "from nltk.tokenize import RegexpTokenizer\n",
    "from stop_words import get_stop_words\n",
    "from nltk.stem.porter import PorterStemmer\n",
    "from gensim import corpora, models\n",
    "import pyLDAvis.gensim"
   ]
  },
  {
   "cell_type": "markdown",
   "metadata": {},
   "source": [
    "### Media"
   ]
  },
  {
   "cell_type": "code",
   "execution_count": 3,
   "metadata": {
    "collapsed": true
   },
   "outputs": [],
   "source": [
    "med_a = pd.read_csv(\"LDA/01_media_text_data.csv\")\n",
    "med_b = pd.read_csv(\"LDA/01_media_cleanup_text_data.csv\")\n",
    "\n",
    "med_a = med_a.drop(\"Unnamed: 0\", axis =1)\n",
    "med_b = med_b.drop(\"Unnamed: 0\", axis =1)\n",
    "\n",
    "map_med_a = pd.read_csv(\"LDA/mapping_dict_mediaurl.csv\")\n",
    "map_med_b = pd.read_csv(\"LDA/mapping_dict_media_cleanup.csv\")\n",
    "\n",
    "map_med_a.columns=[\"img\", \"media_url\"]\n",
    "map_med_b.columns=[\"img\", \"med_cleanup_url\"]\n",
    "\n",
    "med_a = med_a.merge(map_med_a, on = \"img\")\n",
    "med_b = med_b.merge(map_med_b, on = \"img\")"
   ]
  },
  {
   "cell_type": "code",
   "execution_count": 4,
   "metadata": {
    "collapsed": true
   },
   "outputs": [],
   "source": [
    "med_b.text = [True if len(x) > 0 else False for x in med_b.text]\n",
    "med_b.columns = [\"celebrity\", \"img\", \"label\", \"text\", \"media_url\"]\n",
    "\n",
    "all_media = med_a.append(med_b).drop_duplicates(subset=\"media_url\")\n",
    "\n",
    "all_media.columns = [\"celebrity\", \"img\", \"label\", \"text\", \"url\"]\n",
    "\n",
    "all_media[\"img_class\"] = \"media\""
   ]
  },
  {
   "cell_type": "markdown",
   "metadata": {},
   "source": [
    "### Thumbs"
   ]
  },
  {
   "cell_type": "code",
   "execution_count": 5,
   "metadata": {
    "collapsed": true
   },
   "outputs": [],
   "source": [
    "thumb_a = pd.read_csv(\"LDA/01_thumb_text_data.csv\")\n",
    "thumb_b = pd.read_csv(\"LDA/01_thumb_cleanup_text_data.csv\")\n",
    "\n",
    "thumb_a = thumb_a.drop(\"Unnamed: 0\", axis =1)\n",
    "thumb_b = thumb_b.drop(\"Unnamed: 0\", axis =1)\n",
    "\n",
    "thumb_b[\"text\"] = thumb_b.apply(lambda x: x.isnull())"
   ]
  },
  {
   "cell_type": "code",
   "execution_count": 6,
   "metadata": {
    "collapsed": true
   },
   "outputs": [],
   "source": [
    "map_thumb_a = pd.read_csv(\"LDA/mapping_dict_thumbnail.csv\")\n",
    "map_thumb_b = pd.read_csv(\"LDA/mapping_dict_thumb_cleanup.csv\")\n",
    "\n",
    "map_thumb_a.columns=[\"img\", \"thumb_url\"]\n",
    "map_thumb_b.columns=[\"img\", \"thumb_url\"]\n",
    "\n",
    "thumb_a = thumb_a.merge(map_thumb_a, on = \"img\")\n",
    "thumb_b = thumb_b.merge(map_thumb_b, on = \"img\")\n",
    "\n",
    "all_thumb = thumb_a.append(thumb_b).drop_duplicates(subset=\"thumb_url\")\n",
    "all_thumb.columns = [\"celebrity\", \"img\", \"label\", \"text\", \"url\"]\n",
    "all_thumb[\"img_class\"] = \"thumb\""
   ]
  },
  {
   "cell_type": "markdown",
   "metadata": {},
   "source": [
    "### All Images"
   ]
  },
  {
   "cell_type": "code",
   "execution_count": 7,
   "metadata": {
    "collapsed": true
   },
   "outputs": [],
   "source": [
    "all_images = all_media.append(all_thumb)"
   ]
  },
  {
   "cell_type": "code",
   "execution_count": 8,
   "metadata": {
    "collapsed": true
   },
   "outputs": [],
   "source": [
    "all_images['label'].fillna('', inplace=True)\n",
    "all_images['label'] = all_images.apply(lambda x: ' '.join([str(x['label']), 'Celebrity']) if x['celebrity'] \n",
    "                                                        else str(x['label']), axis=1)\n",
    "all_images['label'] = all_images.apply(lambda x: ' '.join([str(x['label']), 'Text']) if x['text'] \n",
    "                                                        else str(x['label']), axis=1)"
   ]
  },
  {
   "cell_type": "code",
   "execution_count": 9,
   "metadata": {
    "collapsed": true
   },
   "outputs": [],
   "source": [
    "all_images.drop([\"celebrity\", \"text\"], axis = 1, inplace=True)"
   ]
  },
  {
   "cell_type": "code",
   "execution_count": 10,
   "metadata": {
    "collapsed": true
   },
   "outputs": [],
   "source": [
    "all_images.to_csv(\"LDA/01_lda_data.csv\")"
   ]
  },
  {
   "cell_type": "markdown",
   "metadata": {},
   "source": [
    "### LDA Model"
   ]
  },
  {
   "cell_type": "code",
   "execution_count": 11,
   "metadata": {
    "collapsed": true
   },
   "outputs": [],
   "source": [
    "tokenizer = RegexpTokenizer(r'\\w+')\n",
    "en_stop = get_stop_words('en')\n",
    "p_stemmer = PorterStemmer()  "
   ]
  },
  {
   "cell_type": "code",
   "execution_count": 12,
   "metadata": {
    "collapsed": true
   },
   "outputs": [],
   "source": [
    "doc_set = all_images.loc[:,[\"img\", \"label\"]]\n",
    "doc_set.dropna(inplace=True)\n",
    "doc_set.drop_duplicates(inplace=True)"
   ]
  },
  {
   "cell_type": "code",
   "execution_count": 13,
   "metadata": {
    "collapsed": true
   },
   "outputs": [],
   "source": [
    "texts = []\n",
    "\n",
    "# loop through document list\n",
    "for i in doc_set.label:\n",
    "    \n",
    "    # clean and tokenize document string\n",
    "    raw = i.lower()\n",
    "    tokens = tokenizer.tokenize(raw)\n",
    "\n",
    "    # remove stop words from tokens\n",
    "    stopped_tokens = [i for i in tokens if not i in en_stop]\n",
    "    \n",
    "    # stem tokens\n",
    "    stemmed_tokens = [p_stemmer.stem(i) for i in stopped_tokens]\n",
    "    \n",
    "    # add tokens to list\n",
    "    texts.append(stemmed_tokens)"
   ]
  },
  {
   "cell_type": "code",
   "execution_count": 14,
   "metadata": {
    "collapsed": false
   },
   "outputs": [
    {
     "data": {
      "text/plain": [
       "[['celebr', 'text'],\n",
       " ['cosmet', 'mascara', 'text'],\n",
       " ['sailboat', 'transport', 'vessel', 'watercraft', 'boat', 'yacht', 'dinghi'],\n",
       " ['human',\n",
       "  'peopl',\n",
       "  'person',\n",
       "  'face',\n",
       "  'portrait',\n",
       "  'blond',\n",
       "  'femal',\n",
       "  'girl',\n",
       "  'woman',\n",
       "  'text'],\n",
       " ['celebr', 'text']]"
      ]
     },
     "execution_count": 14,
     "metadata": {},
     "output_type": "execute_result"
    }
   ],
   "source": [
    "texts[:5]"
   ]
  },
  {
   "cell_type": "code",
   "execution_count": 15,
   "metadata": {
    "collapsed": true
   },
   "outputs": [],
   "source": [
    "dictionary = corpora.Dictionary(texts)\n",
    "corpus = [dictionary.doc2bow(text) for text in texts]"
   ]
  },
  {
   "cell_type": "code",
   "execution_count": 16,
   "metadata": {
    "collapsed": false
   },
   "outputs": [
    {
     "name": "stdout",
     "output_type": "stream",
     "text": [
      "[(0, 1), (1, 1)]\n"
     ]
    }
   ],
   "source": [
    "print(corpus[0])"
   ]
  },
  {
   "cell_type": "code",
   "execution_count": 17,
   "metadata": {
    "collapsed": true
   },
   "outputs": [],
   "source": [
    "# Save\n",
    "corpora.MmCorpus.serialize('LDA/label_corpus.mm', corpus)\n",
    "dictionary.save('LDA/label_corpus.dict')"
   ]
  },
  {
   "cell_type": "code",
   "execution_count": 19,
   "metadata": {
    "collapsed": false
   },
   "outputs": [],
   "source": [
    "model = models.ldamodel.LdaModel(corpus, num_topics=15, id2word=dictionary, passes=20, random_state=128)\n",
    "model.save('LDA/labels_lda_15.model')"
   ]
  },
  {
   "cell_type": "markdown",
   "metadata": {},
   "source": [
    "### Load saved model, corpus, dictionary and visualize"
   ]
  },
  {
   "cell_type": "code",
   "execution_count": 2,
   "metadata": {
    "collapsed": true
   },
   "outputs": [],
   "source": [
    "dictionary = corpora.Dictionary.load('LDA/label_corpus.dict')\n",
    "corpus = corpora.MmCorpus('LDA/label_corpus.mm')\n",
    "model = models.ldamodel.LdaModel.load('LDA/labels_lda_15.model')"
   ]
  },
  {
   "cell_type": "code",
   "execution_count": 3,
   "metadata": {
    "collapsed": false
   },
   "outputs": [
    {
     "name": "stderr",
     "output_type": "stream",
     "text": [
      "/Library/Frameworks/Python.framework/Versions/3.5/lib/python3.5/site-packages/pyLDAvis/_prepare.py:387: DeprecationWarning: \n",
      ".ix is deprecated. Please use\n",
      ".loc for label based indexing or\n",
      ".iloc for positional indexing\n",
      "\n",
      "See the documentation here:\n",
      "http://pandas.pydata.org/pandas-docs/stable/indexing.html#ix-indexer-is-deprecated\n",
      "  topic_term_dists = topic_term_dists.ix[topic_order]\n"
     ]
    },
    {
     "data": {
      "text/html": [
       "\n",
       "<link rel=\"stylesheet\" type=\"text/css\" href=\"https://cdn.rawgit.com/bmabey/pyLDAvis/files/ldavis.v1.0.0.css\">\n",
       "\n",
       "\n",
       "<div id=\"ldavis_el8681545177559043346392083\"></div>\n",
       "<script type=\"text/javascript\">\n",
       "\n",
       "var ldavis_el8681545177559043346392083_data = {\"tinfo\": {\"Category\": [\"Default\", \"Default\", \"Default\", \"Default\", \"Default\", \"Default\", \"Default\", \"Default\", \"Default\", \"Default\", \"Default\", \"Default\", \"Default\", \"Default\", \"Default\", \"Default\", \"Default\", \"Default\", \"Default\", \"Default\", \"Default\", \"Default\", \"Default\", \"Default\", \"Default\", \"Default\", \"Default\", \"Default\", \"Default\", \"Default\", \"Topic1\", \"Topic1\", \"Topic1\", \"Topic1\", \"Topic1\", \"Topic1\", \"Topic1\", \"Topic1\", \"Topic1\", \"Topic1\", \"Topic1\", \"Topic1\", \"Topic1\", \"Topic1\", \"Topic1\", \"Topic1\", \"Topic1\", \"Topic1\", \"Topic1\", \"Topic1\", \"Topic1\", \"Topic1\", \"Topic1\", \"Topic1\", \"Topic1\", \"Topic1\", \"Topic1\", \"Topic1\", \"Topic1\", \"Topic1\", \"Topic1\", \"Topic1\", \"Topic1\", \"Topic1\", \"Topic1\", \"Topic1\", \"Topic1\", \"Topic1\", \"Topic1\", \"Topic1\", \"Topic1\", \"Topic1\", \"Topic2\", \"Topic2\", \"Topic2\", \"Topic2\", \"Topic2\", \"Topic2\", \"Topic2\", \"Topic2\", \"Topic2\", \"Topic2\", \"Topic2\", \"Topic2\", \"Topic2\", \"Topic2\", \"Topic2\", \"Topic2\", \"Topic2\", \"Topic2\", \"Topic2\", \"Topic2\", \"Topic2\", \"Topic2\", \"Topic2\", \"Topic2\", \"Topic2\", \"Topic2\", \"Topic2\", \"Topic2\", \"Topic2\", \"Topic2\", \"Topic2\", \"Topic2\", \"Topic2\", \"Topic2\", \"Topic2\", \"Topic2\", \"Topic2\", \"Topic2\", \"Topic3\", \"Topic3\", \"Topic3\", \"Topic3\", \"Topic3\", \"Topic3\", \"Topic3\", \"Topic3\", \"Topic3\", \"Topic3\", \"Topic3\", \"Topic3\", \"Topic3\", \"Topic3\", \"Topic3\", \"Topic3\", \"Topic3\", \"Topic3\", \"Topic3\", \"Topic3\", \"Topic3\", \"Topic3\", \"Topic3\", \"Topic3\", \"Topic3\", \"Topic3\", \"Topic3\", \"Topic3\", \"Topic3\", \"Topic3\", \"Topic3\", \"Topic3\", \"Topic3\", \"Topic3\", \"Topic4\", \"Topic4\", \"Topic4\", \"Topic4\", \"Topic4\", \"Topic4\", \"Topic4\", \"Topic4\", \"Topic4\", \"Topic4\", \"Topic4\", \"Topic4\", \"Topic4\", \"Topic4\", \"Topic4\", \"Topic4\", \"Topic4\", \"Topic4\", \"Topic4\", \"Topic4\", \"Topic4\", \"Topic4\", \"Topic4\", \"Topic4\", \"Topic4\", \"Topic4\", \"Topic4\", \"Topic4\", \"Topic4\", \"Topic4\", \"Topic4\", \"Topic4\", \"Topic4\", \"Topic4\", \"Topic4\", \"Topic5\", \"Topic5\", \"Topic5\", \"Topic5\", \"Topic5\", \"Topic5\", \"Topic5\", \"Topic5\", \"Topic5\", \"Topic5\", \"Topic5\", \"Topic5\", \"Topic5\", \"Topic5\", \"Topic5\", \"Topic5\", \"Topic5\", \"Topic5\", \"Topic5\", \"Topic5\", \"Topic5\", \"Topic5\", \"Topic5\", \"Topic5\", \"Topic5\", \"Topic5\", \"Topic5\", \"Topic5\", \"Topic5\", \"Topic5\", \"Topic5\", \"Topic5\", \"Topic5\", \"Topic5\", \"Topic5\", \"Topic5\", \"Topic5\", \"Topic6\", \"Topic6\", \"Topic6\", \"Topic6\", \"Topic6\", \"Topic6\", \"Topic6\", \"Topic6\", \"Topic6\", \"Topic6\", \"Topic6\", \"Topic6\", \"Topic6\", \"Topic6\", \"Topic6\", \"Topic6\", \"Topic6\", \"Topic6\", \"Topic6\", \"Topic6\", \"Topic6\", \"Topic6\", \"Topic6\", \"Topic6\", \"Topic6\", \"Topic6\", \"Topic6\", \"Topic6\", \"Topic6\", \"Topic6\", \"Topic6\", \"Topic6\", \"Topic6\", \"Topic6\", \"Topic6\", \"Topic6\", \"Topic6\", \"Topic6\", \"Topic6\", \"Topic7\", \"Topic7\", \"Topic7\", \"Topic7\", \"Topic7\", \"Topic7\", \"Topic7\", \"Topic7\", \"Topic7\", \"Topic7\", \"Topic7\", \"Topic7\", \"Topic7\", \"Topic7\", \"Topic7\", \"Topic7\", \"Topic7\", \"Topic7\", \"Topic7\", \"Topic7\", \"Topic7\", \"Topic7\", \"Topic7\", \"Topic7\", \"Topic7\", \"Topic7\", \"Topic7\", \"Topic7\", \"Topic7\", \"Topic7\", \"Topic7\", \"Topic7\", \"Topic7\", \"Topic7\", \"Topic7\", \"Topic7\", \"Topic7\", \"Topic7\", \"Topic7\", \"Topic7\", \"Topic7\", \"Topic7\", \"Topic8\", \"Topic8\", \"Topic8\", \"Topic8\", \"Topic8\", \"Topic8\", \"Topic8\", \"Topic8\", \"Topic8\", \"Topic8\", \"Topic8\", \"Topic8\", \"Topic8\", \"Topic8\", \"Topic8\", \"Topic8\", \"Topic8\", \"Topic8\", \"Topic8\", \"Topic8\", \"Topic8\", \"Topic8\", \"Topic8\", \"Topic8\", \"Topic8\", \"Topic8\", \"Topic8\", \"Topic8\", \"Topic8\", \"Topic8\", \"Topic8\", \"Topic8\", \"Topic8\", \"Topic8\", \"Topic8\", \"Topic8\", \"Topic9\", \"Topic9\", \"Topic9\", \"Topic9\", \"Topic9\", \"Topic9\", \"Topic9\", \"Topic9\", \"Topic9\", \"Topic9\", \"Topic9\", \"Topic9\", \"Topic9\", \"Topic9\", \"Topic9\", \"Topic9\", \"Topic9\", \"Topic9\", \"Topic9\", \"Topic9\", \"Topic9\", \"Topic9\", \"Topic9\", \"Topic9\", \"Topic9\", \"Topic9\", \"Topic9\", \"Topic9\", \"Topic9\", \"Topic9\", \"Topic9\", \"Topic9\", \"Topic9\", \"Topic9\", \"Topic9\", \"Topic10\", \"Topic10\", \"Topic10\", \"Topic10\", \"Topic10\", \"Topic10\", \"Topic10\", \"Topic10\", \"Topic10\", \"Topic10\", \"Topic10\", \"Topic10\", \"Topic10\", \"Topic10\", \"Topic10\", \"Topic10\", \"Topic10\", \"Topic10\", \"Topic10\", \"Topic10\", \"Topic10\", \"Topic10\", \"Topic10\", \"Topic10\", \"Topic10\", \"Topic10\", \"Topic10\", \"Topic10\", \"Topic10\", \"Topic10\", \"Topic10\", \"Topic10\", \"Topic10\", \"Topic10\", \"Topic10\", \"Topic10\", \"Topic10\", \"Topic10\", \"Topic10\", \"Topic10\", \"Topic10\", \"Topic11\", \"Topic11\", \"Topic11\", \"Topic11\", \"Topic11\", \"Topic11\", \"Topic11\", \"Topic11\", \"Topic11\", \"Topic11\", \"Topic11\", \"Topic11\", \"Topic11\", \"Topic11\", \"Topic11\", \"Topic11\", \"Topic11\", \"Topic11\", \"Topic11\", \"Topic11\", \"Topic11\", \"Topic11\", \"Topic11\", \"Topic11\", \"Topic11\", \"Topic11\", \"Topic11\", \"Topic11\", \"Topic11\", \"Topic11\", \"Topic11\", \"Topic11\", \"Topic11\", \"Topic12\", \"Topic12\", \"Topic12\", \"Topic12\", \"Topic12\", \"Topic12\", \"Topic12\", \"Topic12\", \"Topic12\", \"Topic12\", \"Topic12\", \"Topic12\", \"Topic12\", \"Topic12\", \"Topic12\", \"Topic12\", \"Topic12\", \"Topic12\", \"Topic12\", \"Topic12\", \"Topic12\", \"Topic12\", \"Topic12\", \"Topic12\", \"Topic12\", \"Topic12\", \"Topic12\", \"Topic12\", \"Topic12\", \"Topic12\", \"Topic12\", \"Topic12\", \"Topic12\", \"Topic12\", \"Topic12\", \"Topic12\", \"Topic12\", \"Topic12\", \"Topic12\", \"Topic12\", \"Topic12\", \"Topic13\", \"Topic13\", \"Topic13\", \"Topic13\", \"Topic13\", \"Topic13\", \"Topic13\", \"Topic13\", \"Topic13\", \"Topic13\", \"Topic13\", \"Topic13\", \"Topic13\", \"Topic13\", \"Topic13\", \"Topic13\", \"Topic13\", \"Topic13\", \"Topic13\", \"Topic13\", \"Topic13\", \"Topic13\", \"Topic13\", \"Topic13\", \"Topic13\", \"Topic13\", \"Topic13\", \"Topic13\", \"Topic13\", \"Topic13\", \"Topic13\", \"Topic13\", \"Topic13\", \"Topic13\", \"Topic13\", \"Topic13\", \"Topic13\", \"Topic13\", \"Topic13\", \"Topic13\", \"Topic14\", \"Topic14\", \"Topic14\", \"Topic14\", \"Topic14\", \"Topic14\", \"Topic14\", \"Topic14\", \"Topic14\", \"Topic14\", \"Topic14\", \"Topic14\", \"Topic14\", \"Topic14\", \"Topic14\", \"Topic14\", \"Topic14\", \"Topic14\", \"Topic14\", \"Topic14\", \"Topic14\", \"Topic14\", \"Topic14\", \"Topic14\", \"Topic14\", \"Topic14\", \"Topic14\", \"Topic14\", \"Topic14\", \"Topic14\", \"Topic14\", \"Topic14\", \"Topic14\", \"Topic14\", \"Topic14\", \"Topic14\", \"Topic15\", \"Topic15\", \"Topic15\", \"Topic15\", \"Topic15\", \"Topic15\", \"Topic15\", \"Topic15\", \"Topic15\", \"Topic15\", \"Topic15\", \"Topic15\", \"Topic15\", \"Topic15\", \"Topic15\", \"Topic15\", \"Topic15\", \"Topic15\", \"Topic15\", \"Topic15\", \"Topic15\", \"Topic15\", \"Topic15\", \"Topic15\", \"Topic15\", \"Topic15\", \"Topic15\", \"Topic15\", \"Topic15\", \"Topic15\", \"Topic15\", \"Topic15\", \"Topic15\", \"Topic15\", \"Topic15\", \"Topic15\"], \"logprob\": [30.0, 29.0, 28.0, 27.0, 26.0, 25.0, 24.0, 23.0, 22.0, 21.0, 20.0, 19.0, 18.0, 17.0, 16.0, 15.0, 14.0, 13.0, 12.0, 11.0, 10.0, 9.0, 8.0, 7.0, 6.0, 5.0, 4.0, 3.0, 2.0, 1.0, -5.4042, -5.5643, -5.7072, -5.9573, -5.9883, -6.1552, -6.2191, -6.4393, -6.6628, -6.6628, -6.7278, -6.8538, -6.8769, -6.8849, -1.2848, -1.2638, -1.2638, -6.9609, -6.9609, -7.0053, -7.018, -7.0606, -7.2036, -7.3258, -7.3258, -7.491, -7.5823, -7.6793, -6.6144, -7.6964, -6.2288, -5.6761, -6.3699, -5.5824, -2.6087, -5.3431, -6.0044, -5.831, -6.6947, -6.6403, -6.5522, -6.8395, -2.3683, -2.3708, -2.3788, -2.3851, -3.8731, -4.2464, -4.2787, -5.0021, -5.06, -5.2005, -5.31, -5.7516, -6.0581, -6.1133, -6.1537, -3.0361, -1.5567, -6.3422, -6.4441, -6.5079, -6.5343, -6.5466, -6.5466, -6.5701, -6.6423, -6.6426, -6.6492, -6.7707, -2.1128, -6.9391, -3.6911, -3.7684, -5.656, -5.656, -5.1334, -3.6317, -5.3802, -3.9277, -2.2667, -2.3781, -2.8058, -2.8183, -2.8344, -2.9171, -3.1399, -3.1537, -3.2744, -3.2859, -3.3028, -4.0316, -4.1826, -4.3641, -4.3645, -4.3775, -5.0014, -5.0337, -5.0372, -5.0437, -5.0897, -5.1351, -5.3937, -5.5425, -5.5425, -5.6389, -5.6548, -5.6914, -5.6936, -2.8209, -5.2853, -5.0802, -2.8388, -3.5489, -2.9554, -3.4116, -3.6047, -4.6674, -4.6939, -4.813, -4.8612, -4.8612, -5.2461, -5.2477, -5.2605, -5.2915, -5.3093, -5.3536, -5.3606, -5.4431, -5.7052, -6.0024, -6.0371, -6.0793, -6.1183, -6.1245, -6.1754, -6.2001, -6.202, -6.2513, -6.2882, -6.3236, -6.4009, -6.4572, -0.9087, -1.217, -4.4537, -4.7285, -6.0877, -1.6157, -1.6888, -1.6888, -1.8491, -3.6993, -4.7245, -4.8016, -4.8016, -5.8071, -5.819, -5.8262, -5.9174, -6.0326, -6.0372, -6.2278, -6.2963, -6.297, -6.3001, -6.4691, -6.4774, -6.7223, -6.9956, -7.0075, -7.0264, -7.0825, -7.158, -7.2533, -7.5383, -7.6114, -7.6319, -5.7922, -5.198, -4.7958, -4.7828, -2.3395, -6.3001, -3.1643, -2.7253, -2.8036, -2.9061, -3.3787, -3.5988, -3.976, -4.0557, -4.0557, -4.3857, -4.4825, -4.608, -4.6508, -4.8935, -4.9495, -5.1407, -5.1407, -5.2113, -5.2555, -5.277, -5.3686, -5.4734, -5.481, -5.5145, -5.5546, -5.5631, -5.6476, -5.7895, -5.7895, -5.8145, -5.8383, -3.105, -3.105, -1.9841, -4.7915, -2.4666, -2.4666, -2.4981, -5.4516, -5.4277, -3.0496, -3.0826, -3.1149, -3.4928, -3.4928, -3.4965, -3.5362, -3.6767, -3.9025, -4.0786, -4.0908, -4.2133, -4.2348, -4.2348, -4.2974, -4.2974, -4.3353, -4.4782, -4.5939, -4.6776, -4.7479, -4.7532, -4.8056, -4.824, -4.8767, -4.8815, -4.9119, -5.2523, -5.3423, -5.4635, -5.4635, -2.8421, -4.4459, -2.6419, -2.4065, -4.6414, -3.8117, -4.1152, -4.4551, -3.5548, -4.3346, -4.6082, -3.064, -3.4055, -3.4055, -4.0222, -4.0878, -4.773, -4.9831, -5.0762, -5.1396, -5.1804, -5.2691, -5.315, -5.6931, -5.9753, -5.9813, -6.0336, -6.1158, -6.1214, -6.1359, -6.1808, -6.3331, -6.36, -6.4049, -6.5351, -6.5484, -6.5946, -6.6647, -3.1659, -6.7262, -6.7262, -0.4992, -3.837, -5.8828, -3.7934, -3.7934, -4.3305, -1.9055, -2.0726, -2.1148, -3.7306, -3.8676, -4.4015, -4.5833, -4.7075, -4.7256, -4.8767, -4.9674, -5.1977, -5.2771, -5.3068, -5.3316, -5.3654, -5.3884, -5.3884, -5.4441, -5.4627, -5.555, -5.6469, -5.6694, -5.7425, -5.7822, -5.8694, -5.9102, -5.9452, -5.9452, -5.9452, -1.7411, -3.8827, -5.1241, -2.213, -2.9556, -2.3327, -2.7865, -2.9466, -3.1031, -3.3584, -3.5019, -3.5652, -3.9947, -4.0393, -4.2233, -4.4246, -4.4246, -4.5326, -4.5818, -4.6628, -4.7711, -4.9288, -4.9627, -4.9894, -5.1005, -5.1434, -5.213, -5.3286, -5.3512, -5.3556, -5.4112, -5.4205, -5.4464, -5.5794, -5.6106, -1.9373, -2.2611, -4.5967, -5.1862, -5.26, -4.2172, -4.8912, -4.8912, -3.8792, -4.6456, -4.9358, -1.8648, -2.1006, -2.2633, -2.489, -2.666, -2.9371, -3.6279, -4.2398, -4.3213, -4.3213, -4.4377, -4.4423, -4.5204, -4.6194, -4.7124, -4.7317, -4.931, -4.931, -4.931, -5.0506, -5.1073, -5.2078, -5.4292, -5.4779, -5.503, -5.6076, -5.6653, -5.7444, -5.7888, -5.8845, -2.1513, -4.5506, -5.0624, -3.1206, -3.1624, -3.4529, -3.5568, -3.5619, -3.569, -3.6774, -3.8071, -3.8662, -3.8902, -4.5909, -4.6783, -5.0237, -5.0492, -5.0492, -5.0544, -5.0779, -5.0934, -5.098, -5.3683, -5.3683, -5.4225, -5.4408, -5.4408, -5.4417, -5.4753, -5.4875, -5.5322, -5.6252, -5.6583, -3.1961, -3.7526, -3.3984, -2.7856, -2.3146, -4.5689, -3.0169, -3.1146, -3.1231, -3.0379, -4.9293, -2.6945, -3.0599, -3.0599, -3.1114, -3.1993, -3.2279, -3.7381, -3.9259, -3.9351, -4.1122, -4.2378, -4.455, -4.5073, -4.524, -4.5771, -4.6381, -4.6906, -4.8746, -4.883, -5.0049, -5.2713, -5.2791, -5.2869, -5.3365, -5.3783, -5.3784, -5.4517, -5.4759, -5.5079, -5.5195, -3.1587, -4.2361, -4.9332, -2.7167, -3.1, -4.2594, -2.4059, -4.6865, -4.9616, -4.8269, -2.6229, -3.0982, -3.0982, -3.6632, -3.7638, -3.7858, -3.8465, -3.8963, -3.9694, -3.989, -4.0413, -4.0559, -4.1305, -4.2262, -4.3128, -4.4584, -4.5349, -4.6132, -4.6868, -4.7485, -4.7957, -4.8434, -5.0543, -5.0543, -5.3019, -5.3932, -5.4044, -5.4604, -5.4859, -5.4984, -2.4841, -3.3085, -3.4938, -2.1166, -2.8652, -2.7955, -1.863, -3.1917, -3.2299, -3.2299, -3.3578, -3.5493, -3.7853, -3.8205, -3.8283, -3.8587, -3.932, -4.0193, -4.1053, -4.1132, -4.3656, -4.5186, -4.529, -4.5673, -4.6763, -4.7675, -4.7675, -4.7675, -4.7675, -4.86, -4.8691, -4.8798, -4.8798, -4.8997, -4.9194, -5.1065, -3.6407, -2.3651, -4.2011, -4.1985, -4.0597, -4.8013], \"Term\": [\"celebr\", \"human\", \"person\", \"peopl\", \"text\", \"plant\", \"femal\", \"cloth\", \"girl\", \"woman\", \"blond\", \"flora\", \"furnitur\", \"jar\", \"potteri\", \"coat\", \"vase\", \"pot\", \"face\", \"outdoor\", \"room\", \"sport\", \"overcoat\", \"suit\", \"food\", \"portrait\", \"transport\", \"build\", \"natur\", \"water\", \"bench\", \"bag\", \"arm\", \"goggl\", \"contain\", \"sink\", \"bride\", \"palett\", \"handbag\", \"purs\", \"meet\", \"path\", \"jam\", \"shelf\", \"peopl\", \"human\", \"person\", \"patient\", \"massag\", \"ankl\", \"hug\", \"hors\", \"walkway\", \"sidewalk\", \"pavement\", \"vigil\", \"arctic\", \"licens\", \"make\", \"tote\", \"sunglass\", \"paint\", \"back\", \"wed\", \"text\", \"glass\", \"accessori\", \"perform\", \"apparel\", \"short\", \"bridesmaid\", \"stage\", \"jar\", \"potteri\", \"vase\", \"pot\", \"flower\", \"villa\", \"blossom\", \"cottag\", \"conif\", \"arrang\", \"window\", \"mansion\", \"fenc\", \"hedg\", \"aluminium\", \"hous\", \"plant\", \"fur\", \"yew\", \"gazebo\", \"curtain\", \"fir\", \"abi\", \"modern\", \"vine\", \"can\", \"garden\", \"tin\", \"flora\", \"lilac\", \"tree\", \"build\", \"palm\", \"arecacea\", \"ornament\", \"text\", \"art\", \"celebr\", \"furnitur\", \"room\", \"carpet\", \"indoor\", \"premier\", \"chair\", \"design\", \"interior\", \"tabl\", \"dine\", \"couch\", \"footwear\", \"shoe\", \"recept\", \"home\", \"decor\", \"wait\", \"bedroom\", \"lamp\", \"instrument\", \"boot\", \"beard\", \"linen\", \"child\", \"kid\", \"babi\", \"cafe\", \"wood\", \"newborn\", \"red\", \"hand\", \"restaur\", \"text\", \"celebr\", \"crowd\", \"audienc\", \"speech\", \"luggag\", \"suitcas\", \"parad\", \"pc\", \"laptop\", \"magazin\", \"live\", \"bike\", \"debat\", \"confer\", \"bicycl\", \"mirror\", \"ship\", \"termin\", \"valley\", \"ferri\", \"factori\", \"press\", \"canyon\", \"game\", \"station\", \"handwrit\", \"subway\", \"bathroom\", \"takeoff\", \"blackboard\", \"peak\", \"text\", \"celebr\", \"electron\", \"comput\", \"apparel\", \"femal\", \"woman\", \"girl\", \"blond\", \"phone\", \"snow\", \"cell\", \"mobil\", \"winter\", \"glacier\", \"crest\", \"iphon\", \"door\", \"lake\", \"iceberg\", \"lagoon\", \"boardwalk\", \"storm\", \"makeup\", \"doll\", \"blizzard\", \"skylight\", \"den\", \"tenni\", \"basin\", \"mous\", \"pebbl\", \"petal\", \"tornado\", \"barbi\", \"rang\", \"ice\", \"comput\", \"electron\", \"celebr\", \"weather\", \"text\", \"swimwear\", \"bikini\", \"danc\", \"hat\", \"pose\", \"pant\", \"denim\", \"jean\", \"cowboy\", \"runway\", \"maillot\", \"corset\", \"cap\", \"tango\", \"banist\", \"handrail\", \"rock\", \"bush\", \"motorcycl\", \"ikebana\", \"walk\", \"beer\", \"staircas\", \"loft\", \"market\", \"chandeli\", \"column\", \"pillar\", \"flamenco\", \"chihuahua\", \"activ\", \"leisur\", \"cloth\", \"bonsai\", \"human\", \"person\", \"peopl\", \"apart\", \"perform\", \"town\", \"urban\", \"citi\", \"vessel\", \"watercraft\", \"gown\", \"robe\", \"boat\", \"downtown\", \"lipstick\", \"high\", \"dress\", \"sceneri\", \"landscap\", \"view\", \"aerial\", \"rise\", \"brick\", \"mascara\", \"photograph\", \"patio\", \"dinghi\", \"offic\", \"perfum\", \"canal\", \"even\", \"skyscrap\", \"toast\", \"sari\", \"pier\", \"dock\", \"cosmet\", \"aftershav\", \"build\", \"text\", \"bridg\", \"transport\", \"architectur\", \"wed\", \"cloth\", \"outdoor\", \"natur\", \"music\", \"afro\", \"hairstyl\", \"aircraft\", \"airplan\", \"musician\", \"guitar\", \"cushion\", \"guitarist\", \"nail\", \"tub\", \"manicur\", \"silhouett\", \"van\", \"diagram\", \"jacuzzi\", \"headrest\", \"blanket\", \"bird\", \"bathtub\", \"worker\", \"trophi\", \"fire\", \"glider\", \"haircut\", \"domino\", \"bartend\", \"hair\", \"white\", \"board\", \"celebr\", \"perform\", \"skin\", \"leisur\", \"activ\", \"transport\", \"coat\", \"overcoat\", \"suit\", \"tuxedo\", \"mammal\", \"ivi\", \"team\", \"pet\", \"dog\", \"promontori\", \"canin\", \"grassland\", \"parti\", \"basebal\", \"monasteri\", \"yard\", \"dairi\", \"milk\", \"forest\", \"graffiti\", \"costum\", \"alphabet\", \"milkshak\", \"wine\", \"rainforest\", \"backyard\", \"cat\", \"shack\", \"shelter\", \"hut\", \"cloth\", \"anim\", \"field\", \"celebr\", \"text\", \"water\", \"sea\", \"ocean\", \"coast\", \"beach\", \"mountain\", \"pool\", \"hotel\", \"resort\", \"land\", \"plaid\", \"tartan\", \"swim\", \"countrysid\", \"draw\", \"cliff\", \"island\", \"soil\", \"heel\", \"alp\", \"planter\", \"bouquet\", \"rural\", \"sketch\", \"reef\", \"cave\", \"desert\", \"sand\", \"cabbag\", \"spa\", \"outdoor\", \"natur\", \"life\", \"roof\", \"park\", \"tree\", \"arecacea\", \"palm\", \"build\", \"anim\", \"veget\", \"face\", \"portrait\", \"vehicl\", \"car\", \"automobil\", \"smile\", \"kiss\", \"space\", \"mouth\", \"lip\", \"train\", \"militari\", \"dimpl\", \"yacht\", \"umbrella\", \"clown\", \"univers\", \"outer\", \"astronomi\", \"airlin\", \"bu\", \"uniform\", \"insect\", \"convert\", \"coup\", \"moon\", \"polic\", \"pole\", \"sailboat\", \"mosquito\", \"transport\", \"canopi\", \"book\", \"produc\", \"meal\", \"bowl\", \"fruit\", \"jacket\", \"tower\", \"plate\", \"dish\", \"blazer\", \"arch\", \"worship\", \"clock\", \"port\", \"citru\", \"grapefruit\", \"cutleri\", \"harbor\", \"bookcas\", \"fort\", \"supper\", \"dinner\", \"appl\", \"cafeteria\", \"buffet\", \"liner\", \"bell\", \"court\", \"orang\", \"parliament\", \"squash\", \"cup\", \"castl\", \"veget\", \"architectur\", \"food\", \"coffe\", \"build\", \"flora\", \"plant\", \"text\", \"restaur\", \"paper\", \"flyer\", \"brochur\", \"dessert\", \"drink\", \"beverag\", \"night\", \"alcohol\", \"cake\", \"club\", \"cream\", \"creme\", \"toy\", \"sphere\", \"ball\", \"juic\", \"sculptur\", \"bean\", \"figurin\", \"finger\", \"tie\", \"butter\", \"hole\", \"liquor\", \"screen\", \"pastri\", \"gift\", \"statu\", \"comic\", \"document\", \"art\", \"shop\", \"bread\", \"food\", \"poster\", \"accessori\", \"text\", \"life\", \"ice\", \"cup\", \"collag\", \"logo\", \"trademark\", \"underwear\", \"head\", \"lingeri\", \"sweater\", \"electr\", \"skirt\", \"devic\", \"jewelri\", \"applianc\", \"bed\", \"oven\", \"cardigan\", \"breakfast\", \"tattoo\", \"chocol\", \"miniskirt\", \"emblem\", \"hearth\", \"fireplac\", \"cooki\", \"biscuit\", \"dome\", \"kilt\", \"burger\", \"badg\", \"grain\", \"card\", \"poster\", \"ornament\", \"glass\", \"text\", \"cloth\", \"celebr\", \"sport\", \"bottl\", \"exercis\", \"work\", \"fit\", \"road\", \"blous\", \"lotion\", \"light\", \"sky\", \"deodor\", \"braid\", \"shampoo\", \"sleev\", \"invertebr\", \"ponytail\", \"word\", \"sign\", \"jet\", \"dawn\", \"sunris\", \"sunset\", \"dusk\", \"fixtur\", \"long\", \"dirt\", \"gravel\", \"street\", \"helmet\", \"spaniel\", \"cosmet\", \"text\", \"anim\", \"hair\", \"cloth\", \"red\"], \"Freq\": [4192.0, 3145.0, 3145.0, 3077.0, 4325.0, 1414.0, 825.0, 1194.0, 767.0, 767.0, 654.0, 860.0, 565.0, 578.0, 577.0, 425.0, 572.0, 569.0, 395.0, 449.0, 505.0, 325.0, 359.0, 344.0, 413.0, 312.0, 404.0, 543.0, 326.0, 275.0, 45.6729362288782, 38.917374422674534, 33.734309792363554, 26.270917825654717, 25.46758444940036, 21.553302762378074, 20.21926430320832, 16.22332631698698, 12.973483801047363, 12.973483801047363, 12.157161500743321, 10.718629877790711, 10.473656687783187, 10.390087720147715, 2810.0873903583442, 2869.7366544929328, 2869.7366544929328, 9.629868970653707, 9.629868970653707, 9.211781180147543, 9.095097490856132, 8.716018234347306, 7.554333039066073, 6.685780301449377, 6.685780301449377, 5.667726957363765, 5.173034850059678, 4.694606709717286, 13.618012380133347, 4.615327569470241, 20.025364855713725, 34.80178286717284, 17.388744639971424, 38.22020322141273, 747.7535732961825, 48.55187615133056, 25.06202000115856, 29.807734023711042, 12.566372391142421, 13.268760587452407, 14.491243852836798, 10.87305895118853, 577.9712239521613, 576.5530725500374, 571.9681987269473, 568.3584862922056, 128.34473111917137, 88.36371771473947, 85.55463915598793, 41.5038262949054, 39.16836278840233, 34.03557689980845, 30.50514865986012, 19.614400828173714, 14.436353425470648, 13.661369129948886, 13.120663554687107, 296.428356229106, 1301.2918177885745, 10.866271458280577, 9.813775152490178, 9.20690138917816, 8.967093737684259, 8.85721406920531, 8.85721406920531, 8.6520121630788, 8.049026871729675, 8.04658942006563, 7.993950810786856, 7.079454165922889, 746.2702830927235, 5.982284251673183, 153.97602685502486, 142.51797617462705, 21.58120987706531, 21.58120987706531, 36.395101095510235, 163.40141438475993, 28.435390708094882, 121.52647033514333, 564.0479384494344, 504.60194890682055, 329.00578355803185, 324.9116597077198, 319.7420238214515, 294.35376701353584, 235.56433837939713, 232.33068626185528, 205.92224024694326, 203.55747977929028, 200.15670844168875, 96.57105925194688, 83.03307961854246, 69.25371546590038, 69.22330920261165, 68.33292612127215, 36.61543864151229, 35.45287835286936, 35.32807187675425, 35.09903670350975, 33.520839179141774, 32.034640666383346, 24.733831298573303, 21.314649430639708, 21.314649430639708, 19.356035833208516, 19.051139032460508, 18.364840952766013, 18.32614883170745, 324.08578554543925, 27.567351835663235, 33.8413200736082, 318.3402745647153, 156.48800312766556, 218.96411475973113, 138.76015887848516, 114.39610146247753, 39.52654090926211, 38.49281506574085, 34.16898930172455, 32.56148772583118, 32.56148772583118, 22.159027372160683, 22.12446624571073, 21.84341650366384, 21.174707522518307, 20.801773866322808, 19.900979767170774, 19.7612830407965, 18.196957257031578, 14.001942155221041, 10.401488020083933, 10.047200267143634, 9.632062478111994, 9.26330490941329, 9.205836563919366, 8.749555000434578, 8.535576078715021, 8.51925443436349, 8.109350614610165, 7.815879466564868, 7.544020968721117, 6.983132463148034, 6.600554004580018, 1695.4440210278021, 1245.563249212122, 48.94352483356603, 37.18176929223518, 9.551513727496534, 824.8276329736609, 766.6896482132092, 766.6896482132092, 653.0906744452766, 102.67355220749265, 36.831844315507084, 34.098728676974964, 34.098728676974964, 12.475534957931186, 12.327854661310644, 12.239651907146207, 11.17209801953012, 9.95619545148728, 9.91053069163705, 8.19129165830659, 7.648828077552668, 7.643705469849805, 7.619910520888617, 6.434817388610384, 6.381431016743557, 4.995622576660068, 3.800801695721645, 3.756084613765877, 3.685450166277118, 3.4845542285729314, 3.2311484102416452, 2.937429103453148, 2.208979918953166, 2.053359221432964, 2.011640995310764, 12.662326370782415, 22.93802182512432, 34.29764322168023, 34.74596710309564, 399.9449805788908, 7.619910326792613, 175.30305842866323, 212.48887455793505, 196.4896368654823, 177.34657708744763, 110.55230938652666, 88.70685365003001, 60.83538132586971, 56.175794862311484, 56.175794862311484, 40.38571473209373, 36.66105680289436, 32.33551254774951, 30.981777964634126, 24.30596730649799, 22.98120905058816, 18.982602586840603, 18.982602586840603, 17.687941748717055, 16.923816789822638, 16.563724880534878, 15.112811804192457, 13.610203181534356, 13.506776151943113, 13.061918760547286, 12.548303488845816, 12.441870352686216, 11.434145189490264, 9.92102122427635, 9.92102122427635, 9.67593007244874, 9.448295678652586, 145.35625189799902, 145.35625189799902, 445.87284003093635, 26.91604313893551, 275.23069149036195, 275.23069149036195, 266.67738747908965, 13.90976012825278, 14.245384973058037, 144.74977732845412, 140.05427333851054, 135.59895503064763, 92.92885702594505, 92.92885702594505, 92.58428915722467, 88.97718449611953, 77.31917624205263, 61.68805144552134, 51.72717033374592, 51.1023434938718, 45.21113496933284, 44.247032416763766, 44.247032416763766, 41.56465904034334, 41.56465904034334, 40.01621912157269, 34.6889156496152, 30.898062063691434, 28.41659882084241, 26.48864006657098, 26.34779656530401, 25.00342356937974, 24.546500343517977, 23.28795177405713, 23.17587815394233, 22.482337318578434, 15.995360777355076, 14.619235663497829, 12.95004150960063, 12.95004150960063, 178.1360090759691, 35.82880646897529, 217.609115551874, 275.3604604510957, 29.466561163314935, 67.5506310170812, 49.86910945355706, 35.49922088545676, 87.33574473459736, 40.04589111761684, 30.458912938664614, 140.2593716438973, 99.68073166156078, 99.68073166156078, 53.79899006629782, 50.38552207586683, 25.394621600339804, 20.58216776410181, 18.752695291841444, 17.599978781596114, 16.896451114322627, 15.462644863686169, 14.768672815498098, 10.118909387629909, 7.630533629857423, 7.584997804251238, 7.1983171216200335, 6.630725900048419, 6.593480544517299, 6.498427270595305, 6.213358686687786, 5.335358820742652, 5.193956592146594, 4.966074486276314, 4.3595383939337005, 4.302044171373769, 4.107925658665798, 3.829812786955434, 126.66645765620308, 3.6013919054683425, 3.6013919054683425, 1823.0358672020277, 64.74748297254345, 8.370436707534079, 67.6315191938334, 67.6315191938334, 39.52631509093623, 424.1141064574157, 358.86549619837757, 344.03770315950504, 68.36992361764504, 59.618549529808725, 34.95450039231179, 29.142521421048446, 25.739958187166575, 25.277400513298097, 21.7336153334108, 19.848147191400642, 15.766475641860373, 14.56186751989321, 14.135795382431633, 13.789399169023097, 13.332022302515595, 13.028430445521293, 13.028430445521293, 12.322794971387252, 12.095493943846295, 11.02939989585009, 10.060371811675646, 9.836608446171544, 9.143645963603172, 8.787793823418305, 8.054064060396444, 7.731727088649462, 7.46573030725341, 7.46573030725341, 7.46573030725341, 499.9160243086631, 58.72097096704764, 16.970226511553722, 311.84021191926354, 148.403422932225, 274.8583836787718, 174.5860991484425, 148.76518652519988, 127.20658792209187, 98.54387993171538, 85.37341250511254, 80.13514642673711, 52.1547736034393, 49.87993070602965, 41.498872899361146, 33.930079901743255, 33.930079901743255, 30.457743656377268, 28.994432308402967, 26.73929989758553, 23.99559071970678, 20.494247493444355, 19.811452936965967, 19.289566838853112, 17.261807117226034, 16.536648257017184, 15.424859861446638, 13.73996617281086, 13.433152107381805, 13.373931475065184, 12.651156001155565, 12.533593040440746, 12.213754983604495, 10.692158441817853, 10.36426679975337, 408.16653640219005, 295.2658639482632, 28.5656847588327, 15.843174201872475, 14.715713964418724, 41.751724040309455, 21.280299246312786, 21.280299246312786, 58.53978323371779, 27.203783606900025, 20.35060673577128, 394.54679517499426, 311.66653217822704, 264.8689795568475, 211.35591725767287, 177.06883002291974, 135.0260993705938, 67.6745401015658, 36.69902367758655, 33.82685549202209, 33.82685549202209, 30.11000876800739, 29.97305316346715, 27.721040954230958, 25.107043659917416, 22.878716924580115, 22.44075470364956, 18.385042865696615, 18.385042865696615, 18.385042865696615, 16.31302139916286, 15.413283521384411, 13.940355613181438, 11.17189289814858, 10.640152255209786, 10.376846962415561, 9.345815723642495, 8.822282816327958, 8.150959141512587, 7.797326738267995, 7.085333992608447, 296.2538602014464, 26.894287440523133, 16.12190246529686, 112.32223250751731, 107.72062389810733, 80.5630200701709, 72.61080697170802, 72.24545037781648, 71.73411131104528, 64.36301131077062, 56.5341997255974, 53.28878338592247, 52.02858602296901, 25.81659766245291, 23.656954428993963, 16.747307717191457, 16.325855237696462, 16.325855237696462, 16.241769696971534, 15.863769612401422, 15.620075638625163, 15.548208446269758, 11.865687089523357, 11.865687089523357, 11.23942029832305, 11.035977169651156, 11.035977169651156, 11.02610502634747, 10.6616919893298, 10.53247037553362, 10.07155694599951, 9.177643405184742, 8.878993108869796, 104.15392482819394, 59.703891317546834, 85.07417382400571, 157.01309816754895, 251.48267965949358, 26.392748110196543, 124.59293592397673, 113.00132958394369, 112.04071479410578, 122.00409189739395, 18.40573230825729, 164.42944128993994, 114.10501510887546, 114.10501510887546, 108.37788492739898, 99.26128635930002, 96.45914871916304, 57.91336143910504, 47.99624609319936, 47.55803342425253, 39.838054177052896, 35.13674967885232, 28.275075323224343, 26.836036904800313, 26.39017830358212, 25.026225807185753, 23.546294106188917, 22.341044751346022, 18.58542511608523, 18.43071304758657, 16.315513332168166, 12.500289738871315, 12.40242775742371, 12.306535537094499, 11.711213620869971, 11.231210851264779, 11.230470702509285, 10.436933223287088, 10.187464941309823, 9.86651789998429, 9.752009414898815, 103.36679049739962, 35.19723183051021, 17.528852879483566, 160.8305227160534, 109.61808533561735, 34.38654138443288, 219.4411739502633, 22.432242296455186, 17.0376953792565, 19.49510004328399, 158.92596961011145, 98.80356499317017, 98.80356499317017, 56.15423565506442, 50.780828422428144, 49.675220718853296, 46.74791561463387, 44.47781959883985, 41.34420140001399, 40.541337294589745, 38.47464998004685, 37.9170156963953, 35.191784297442986, 31.979030327095053, 29.325217234571582, 25.352296518646583, 23.484965928503975, 21.718042109354283, 20.17584972387193, 18.969327196543844, 18.093969400013673, 17.251424516440395, 13.970503966300313, 13.970503966300313, 10.907247230767616, 9.954951274583406, 9.84479034772723, 9.308239672541308, 9.073658672353952, 8.960732750058826, 182.58188052580064, 80.06498597001017, 66.51608532783185, 263.68118975926274, 124.71937732386276, 133.71999151920548, 324.72773370155375, 86.00180916931548, 82.77153670884033, 82.77153670884033, 72.84014737914231, 60.14152517916049, 47.49884548917787, 45.85864000177814, 45.4996171707898, 44.137438543651584, 41.01660414326973, 37.5879929361341, 34.49019365636582, 34.22048818145032, 26.58622448004264, 22.815373843308553, 22.578196231587203, 21.730014866868732, 19.486032706590745, 17.7886748249393, 17.7886748249393, 17.7886748249393, 17.7886748249393, 16.21566831293295, 16.07023613692204, 15.899026411768698, 15.899026411768698, 15.58485740147701, 15.281792611417085, 12.673599568171896, 54.89004550700283, 196.54693966817948, 31.341575533226344, 31.42324547039135, 36.10046367000133, 17.197305112898515], \"Total\": [4192.0, 3145.0, 3145.0, 3077.0, 4325.0, 1414.0, 825.0, 1194.0, 767.0, 767.0, 654.0, 860.0, 565.0, 578.0, 577.0, 425.0, 572.0, 569.0, 395.0, 449.0, 505.0, 325.0, 359.0, 344.0, 413.0, 312.0, 404.0, 543.0, 326.0, 275.0, 46.62803144170412, 39.87246709613584, 34.689403984446116, 27.226010202710285, 26.422677021538377, 22.5083985584418, 21.17435726869645, 17.178418810499657, 13.928576173068468, 13.928576173068468, 13.112262437464603, 11.673723222246961, 11.428752445428946, 11.345184238555401, 3077.652740359876, 3145.855308558915, 3145.855308558915, 10.584961459832108, 10.584961459832108, 10.166874181329591, 10.050190155954658, 9.67111280197514, 8.509425774221695, 7.640872910097269, 7.640872910097269, 6.622821398484807, 6.128137826411333, 5.649700534249167, 16.43229073637604, 5.570419691378643, 24.685159456068217, 44.05591060103064, 25.428650340228526, 77.06939875793371, 4325.974642117942, 115.95227781581983, 60.33008425495845, 109.63494568467989, 23.017221563890523, 26.72193881067767, 40.903432514314055, 17.014076878990334, 578.9196803525725, 577.5015289561346, 572.9166551136651, 569.3069427006765, 129.29318745546692, 89.31217434345733, 86.50309549609997, 42.45228286309496, 40.11681936166927, 34.9840332424353, 31.45360667641161, 20.562857596339704, 15.38481002655087, 14.609825641522901, 14.069120682322216, 322.12420318063846, 1414.2067690365632, 11.81472891203251, 10.762231608676094, 10.155359500614077, 9.915551022871412, 9.805670613935852, 9.805670613935852, 9.600471535128886, 8.99748319004793, 8.995046218829566, 8.942407182717956, 8.027911052439542, 860.14584917832, 6.930740618704097, 196.59800121541605, 543.9854156581878, 43.73175935026898, 43.73175935026898, 117.33776705291393, 4325.974642117942, 132.67706788791443, 4192.6925991424105, 565.0015614727412, 505.55557167677824, 329.95940632954154, 325.8652825232698, 320.69564658723584, 295.30739002093605, 236.51796117390273, 233.2843090284756, 206.8758630235292, 204.51110253383123, 201.11033135940227, 97.52468253034857, 83.98670287746226, 70.20733821006255, 70.17693218988866, 69.28654911162064, 37.5690613901788, 36.40650109656817, 36.28169550332813, 36.05266331407052, 34.4744622883046, 32.988264144119, 25.687454129681118, 22.26827223157918, 22.26827223157918, 20.309658634814475, 20.004761891743396, 19.31846373749757, 19.279771641996373, 342.15596823694733, 36.89567897517343, 53.12645535447732, 4325.974642117942, 4192.6925991424105, 219.92191444199125, 139.71795846200584, 115.35390099731609, 40.48434066215791, 39.45061482710007, 35.126789101236646, 33.51928728248655, 33.51928728248655, 23.116827505957332, 23.082268370588984, 22.801216566453757, 22.132507077285354, 21.759574674673743, 20.85877986764436, 20.719084233433602, 19.154758322409904, 14.959742463932029, 11.359288702795334, 11.005002369942385, 10.589862365755174, 10.22110432780239, 10.163637242839163, 9.707355516271292, 9.49337614988576, 9.477053955113805, 9.067150748151732, 8.773679880957383, 8.501822245327284, 7.940932554432706, 7.5583551427598294, 4325.974642117942, 4192.6925991424105, 92.07822542211342, 72.37035299124979, 23.017221563890523, 825.7743314336974, 767.6363466222149, 767.6363466222149, 654.0373728382884, 103.62025055521953, 37.77854373948126, 35.04542702485598, 35.04542702485598, 13.422233715742435, 13.274553370292871, 13.186351477126012, 12.11879636487752, 10.902894818745246, 10.857229832996284, 9.137990273619478, 8.5955272549293, 8.590411938112123, 8.56660910971862, 7.381518109154065, 7.328130011926216, 5.942321251694831, 4.747501127687874, 4.702787167656974, 4.6321509663389735, 4.431253484763819, 4.1778475638678145, 3.8841292832696763, 3.1556790550177687, 3.0000581323516204, 2.958339764852209, 19.174858014566407, 40.84884596627917, 72.37035299124979, 92.07822542211342, 4192.6925991424105, 16.736943295273367, 4325.974642117942, 213.43530181290257, 197.4360641197394, 178.29300424368594, 111.49873655063622, 89.65328080641234, 61.781808505025204, 57.12222204292227, 57.12222204292227, 41.33214188475269, 37.6074842874654, 33.28193973524394, 31.92820542854501, 25.252394580414443, 23.927636208136903, 19.929030006364027, 19.929030006364027, 18.634370069918006, 17.87024689904469, 17.51015339092671, 16.05924095900152, 14.556630487814717, 14.453204364504407, 14.008346094349147, 13.494732108444989, 13.388298178254326, 12.38057515246017, 10.867448929439124, 10.867448929439124, 10.622357196798491, 10.394725554949435, 213.88057982969463, 213.88057982969463, 1194.601246637641, 45.29159654134525, 3145.855308558915, 3145.855308558915, 3077.652740359876, 29.119246201934626, 109.63494568467989, 145.69290915424435, 140.99740516865774, 136.54208685618642, 93.87198895170572, 93.87198895170572, 93.52742106745343, 89.92031639915902, 78.26230813911778, 62.63118324435063, 52.6703021857888, 52.045475501305305, 46.154267057351724, 45.19016425673345, 45.19016425673346, 42.507790881882734, 42.507790881882734, 40.95935088783074, 35.6320480205358, 31.841193866319504, 29.359731374956848, 27.431772348137258, 27.290928427007234, 25.946556192221134, 25.489632169345477, 24.231083839772786, 24.119009988818796, 23.4254690732806, 16.938492826288375, 15.562368392909235, 13.89317331288017, 13.89317331288017, 233.88844113320937, 41.83444291344158, 543.9854156581878, 4325.974642117942, 44.9572954444618, 404.14925765873585, 207.75111962484058, 77.06939875793371, 1194.601246637641, 449.0773535024588, 326.5897027185118, 141.2193106246357, 100.64067050668828, 100.64067050668828, 54.75892920397843, 51.345461043796114, 26.35456043028781, 21.542106617288304, 19.71263526017387, 18.55991762115016, 17.85639001997361, 16.422584263079504, 15.728611738138955, 11.078848853611015, 8.590473689650477, 8.54493706589682, 8.158256833809926, 7.590665092737907, 7.553420671588519, 7.458367325071843, 7.1732979682613385, 6.29529785089536, 6.153895439685876, 5.92601378442818, 5.31947715803643, 5.261983129873823, 5.067864783420048, 4.789751893801102, 158.96889679711416, 4.5613307505230125, 4.5613307505230125, 4192.6925991424105, 109.63494568467989, 13.195819364814955, 213.88057982969463, 213.88057982969463, 404.14925765873585, 425.05997943979327, 359.81136912231136, 344.9835760818299, 69.31579653466001, 60.56442277392313, 35.900374146023815, 30.08839480906439, 26.68583120222903, 26.223273788907004, 22.679491443755104, 20.79402019160482, 16.71234923287425, 15.507741006480382, 15.081668749812613, 14.735274257021915, 14.277895868473392, 13.974303915177053, 13.974303915177053, 13.268669349496745, 13.041367262133306, 11.975272976039449, 11.006244906460092, 10.782482170691877, 10.089519896486287, 9.733667490795751, 8.999937401285251, 8.67760016344069, 8.411604014457902, 8.411604014457902, 8.411604014457902, 1194.601246637641, 118.05325188923628, 27.135390849303764, 4192.6925991424105, 4325.974642117942, 275.79373522877, 175.52145050885863, 149.70053796111452, 128.14193923072105, 99.47923127307462, 86.30876394436098, 81.07049788199947, 53.090125058434694, 50.81528214138379, 42.434224361209225, 34.865431707922646, 34.865431707922646, 31.393095029621477, 29.92978392742711, 27.67465186686629, 24.93094207549841, 21.429598771387855, 20.746804268769473, 20.22491883709301, 18.197158476433327, 17.47200099226981, 16.360212818693373, 14.675317608571067, 14.368503908373123, 14.309282753973498, 13.586507297394684, 13.468944341447992, 13.149106292237661, 11.627511417173594, 11.299619139887174, 449.0773535024588, 326.5897027185118, 51.85970868184615, 20.107834172609884, 18.43116696947337, 196.59800121541605, 43.73175935026898, 43.73175935026898, 543.9854156581878, 118.05325188923628, 106.28591212622304, 395.48929053861525, 312.60902748547045, 265.8114749378225, 212.29841257014309, 178.01132533428537, 135.968594670629, 68.61703544423865, 37.64151899233222, 34.76935078141403, 34.76935078141403, 31.052504093999524, 30.915548496955072, 28.66353625717217, 26.049539893476965, 23.821212488156025, 23.383250293335827, 19.327538182338934, 19.327538182338934, 19.327538182338934, 17.255516818858396, 16.35577900259209, 14.882850914659054, 12.114388505188925, 11.582647514085355, 11.319342242157703, 10.288311216527639, 9.764778190176763, 9.093455304242607, 8.739822895024956, 8.027830103476333, 404.14925765873585, 33.24881863285633, 24.151955527076947, 113.2615699240697, 108.6599613892561, 81.50235766921007, 73.55014436678728, 73.18478817261867, 72.67344891528418, 65.3023487485176, 57.47353712919096, 54.22812124498296, 52.96792353638355, 26.755935160233218, 24.596292053741895, 17.68664544425206, 17.265192634474193, 17.265192634474193, 17.18110715657262, 16.803107257401837, 16.559413961941477, 16.487546137382342, 12.80502446700853, 12.80502446700853, 12.178757770967831, 11.975314610061577, 11.975314610061577, 11.965443841472167, 11.601029480156448, 11.471808100332272, 11.010894325925255, 10.116980754133655, 9.818330493045933, 124.51479253759842, 70.544087114492, 106.28591212622304, 207.75111962484058, 413.1789698698096, 38.225068662856366, 543.9854156581878, 860.14584917832, 1414.2067690365632, 4325.974642117942, 53.12645535447732, 165.36942881134377, 115.0450024909905, 115.0450024909905, 109.31787241371983, 100.20127383181386, 97.39913619127407, 58.85334950282284, 48.936233527625035, 48.498020843211904, 40.77804168139138, 36.076737046126915, 29.215062691461135, 27.776024533975903, 27.33016604453431, 25.966213464379575, 24.486281600461087, 23.281032220763922, 19.525413601793346, 19.37070050033169, 17.255500826209662, 13.440277151987166, 13.34241509310208, 13.246525093556698, 12.65120097936596, 12.171198209923476, 12.170458183354745, 11.376920731757552, 11.127452377242678, 10.806505572952968, 10.691996763174506, 132.67706788791443, 44.87484071306923, 22.408936729659633, 413.1789698698096, 293.0691768711381, 60.33008425495845, 4325.974642117942, 51.85970868184615, 40.84884596627917, 124.51479253759842, 159.86875071782023, 99.7463459795493, 99.7463459795493, 57.0970167142046, 51.72360985557967, 50.61800174491759, 47.69069677172703, 45.42060070317734, 42.2869826004607, 41.48411831397344, 39.41743101365224, 38.85979670438222, 36.134565737525385, 32.92181133838342, 30.267998284306103, 26.29507872792693, 24.427746919589797, 22.66082388143167, 21.118630816571084, 19.912108278549795, 19.036750811430185, 18.19420588838844, 14.913284983058169, 14.913284983058169, 11.850029626582028, 10.897732684798202, 10.787571995165914, 10.251020652228132, 10.016440801852058, 9.903513812641291, 293.0691768711381, 117.33776705291393, 115.95227781581983, 4325.974642117942, 1194.601246637641, 4192.6925991424105, 325.66054590822006, 86.93462130420812, 83.7043487708752, 83.7043487708752, 73.772959438041, 61.074337544809076, 48.43165797550059, 46.791452059466806, 46.432429496005696, 45.070250850219985, 41.949416229288545, 38.520805094413596, 35.42300570117341, 35.15330027929255, 27.519036750346263, 23.74818592688217, 23.511008686135348, 22.662827034147906, 20.41884493834897, 18.721486935647967, 18.721486935647967, 18.721486935647967, 18.721486935647967, 17.148480720100288, 17.003048217504023, 16.831838527039597, 16.831838527039597, 16.51766975882516, 16.214604689195607, 13.606411891574416, 233.88844113320937, 4325.974642117942, 118.05325188923628, 158.96889679711416, 1194.601246637641, 342.15596823694733], \"loglift\": [30.0, 29.0, 28.0, 27.0, 26.0, 25.0, 24.0, 23.0, 22.0, 21.0, 20.0, 19.0, 18.0, 17.0, 16.0, 15.0, 14.0, 13.0, 12.0, 11.0, 10.0, 9.0, 8.0, 7.0, 6.0, 5.0, 4.0, 3.0, 2.0, 1.0, 1.7029, 1.6994, 1.6957, 1.6879, 1.6868, 1.6803, 1.6775, 1.6664, 1.6526, 1.6526, 1.648, 1.6383, 1.6363, 1.6357, 1.6327, 1.6318, 1.6318, 1.6291, 1.6291, 1.625, 1.6238, 1.6196, 1.6046, 1.5901, 1.5901, 1.5679, 1.5542, 1.5384, 1.5358, 1.5355, 1.5144, 1.4878, 1.3436, 1.0223, -0.0317, 0.8531, 0.8451, 0.4212, 1.1184, 1.0235, 0.6859, 1.2759, 2.2199, 2.2199, 2.2199, 2.2198, 2.2141, 2.2108, 2.2105, 2.1989, 2.1976, 2.194, 2.1909, 2.1743, 2.1579, 2.1544, 2.1517, 2.1384, 2.1383, 2.1378, 2.1293, 2.1235, 2.121, 2.1198, 2.1198, 2.1175, 2.1101, 2.1101, 2.1094, 2.0958, 2.0795, 2.0743, 1.9771, 0.8821, 1.5153, 1.5153, 1.0509, -1.0547, 0.6812, -1.3195, 2.3458, 2.3456, 2.3446, 2.3445, 2.3445, 2.3442, 2.3434, 2.3434, 2.3429, 2.3428, 2.3427, 2.3377, 2.3361, 2.3338, 2.3338, 2.3336, 2.3218, 2.3209, 2.3208, 2.3207, 2.3194, 2.3181, 2.3096, 2.3037, 2.3037, 2.2994, 2.2986, 2.2969, 2.2968, 2.2932, 2.056, 1.8965, -0.2618, -0.9406, 2.6006, 2.5981, 2.5967, 2.5811, 2.5804, 2.5774, 2.576, 2.576, 2.5627, 2.5626, 2.5621, 2.5608, 2.56, 2.558, 2.5577, 2.5537, 2.5388, 2.5169, 2.514, 2.5102, 2.5066, 2.506, 2.5011, 2.4987, 2.4985, 2.4934, 2.4894, 2.4855, 2.4765, 2.4695, 1.6683, 1.3913, 1.973, 1.939, 1.7255, 2.6174, 2.6173, 2.6173, 2.6171, 2.6094, 2.5932, 2.5911, 2.5911, 2.5454, 2.5445, 2.544, 2.5372, 2.5277, 2.5273, 2.5092, 2.5018, 2.5018, 2.5014, 2.4813, 2.4802, 2.445, 2.3961, 2.3938, 2.3899, 2.3782, 2.3616, 2.3392, 2.2619, 2.2394, 2.2329, 2.2036, 2.0414, 1.8718, 1.644, 0.2688, 1.8317, -0.5873, 2.8607, 2.8604, 2.8599, 2.8567, 2.8546, 2.8498, 2.8485, 2.8485, 2.842, 2.8397, 2.8363, 2.8351, 2.827, 2.8248, 2.8165, 2.8165, 2.8131, 2.8108, 2.8096, 2.8044, 2.798, 2.7975, 2.7952, 2.7925, 2.7919, 2.7857, 2.7741, 2.7741, 2.7719, 2.7697, 2.479, 2.479, 1.8797, 2.3448, 0.429, 0.429, 0.4193, 2.1264, 0.8245, 2.9183, 2.918, 2.9178, 2.9147, 2.9147, 2.9146, 2.9142, 2.9126, 2.9096, 2.9067, 2.9065, 2.9041, 2.9037, 2.9037, 2.9023, 2.9023, 2.9015, 2.8979, 2.8947, 2.8921, 2.8898, 2.8896, 2.8877, 2.8871, 2.8851, 2.8849, 2.8837, 2.8675, 2.8622, 2.8545, 2.8545, 2.6525, 2.7698, 2.0085, 0.1704, 2.5023, 1.1359, 1.4978, 2.1496, 0.309, 0.5076, 0.5524, 2.9351, 2.9323, 2.9323, 2.9242, 2.923, 2.9048, 2.8963, 2.892, 2.8888, 2.8866, 2.8816, 2.8789, 2.8512, 2.8234, 2.8227, 2.8167, 2.8067, 2.806, 2.8041, 2.7982, 2.7764, 2.7723, 2.7652, 2.7429, 2.7405, 2.7319, 2.7182, 2.7147, 2.7056, 2.7056, 2.109, 2.4152, 2.4867, 1.7905, 1.7905, 0.6171, 2.9916, 2.9912, 2.9911, 2.9801, 2.9781, 2.9671, 2.9619, 2.9577, 2.9571, 2.9512, 2.9473, 2.9356, 2.9309, 2.9291, 2.9275, 2.9253, 2.9237, 2.9237, 2.9199, 2.9185, 2.9115, 2.904, 2.902, 2.8954, 2.8916, 2.8828, 2.8784, 2.8745, 2.8745, 2.8745, 2.1227, 2.2955, 2.5245, 0.3952, -0.3786, 2.997, 2.9951, 2.9942, 2.9931, 2.991, 2.9895, 2.9888, 2.9826, 2.9818, 2.9781, 2.9732, 2.9732, 2.9702, 2.9687, 2.966, 2.9622, 2.9558, 2.9543, 2.9531, 2.9477, 2.9454, 2.9415, 2.9346, 2.9331, 2.9328, 2.9291, 2.9284, 2.9266, 2.9166, 2.914, 2.9049, 2.8996, 2.4041, 2.762, 2.7753, 1.451, 2.2801, 2.2801, 0.7712, 1.5326, 1.3474, 3.1044, 3.1038, 3.1033, 3.1024, 3.1015, 3.0998, 3.093, 3.0814, 3.0793, 3.0793, 3.076, 3.0758, 3.0734, 3.07, 3.0664, 3.0657, 3.0568, 3.0568, 3.0568, 3.0506, 3.0475, 3.0414, 3.0258, 3.0219, 3.0199, 3.0107, 3.0053, 2.9974, 2.9927, 2.9819, 2.7962, 2.8947, 2.7026, 3.0991, 3.0987, 3.0958, 3.0946, 3.0945, 3.0944, 3.0929, 3.0909, 3.0899, 3.0895, 3.0717, 3.0685, 3.0528, 3.0515, 3.0515, 3.0512, 3.0499, 3.049, 3.0487, 3.0312, 3.0312, 3.0271, 3.0257, 3.0257, 3.0256, 3.023, 3.022, 3.0182, 3.01, 3.0068, 2.9289, 2.9406, 2.8848, 2.8274, 2.6109, 2.737, 1.6335, 1.0777, 0.5719, -0.4609, 2.0474, 3.1466, 3.1441, 3.1441, 3.1437, 3.1429, 3.1426, 3.1362, 3.133, 3.1328, 3.129, 3.1259, 3.1196, 3.1179, 3.1173, 3.1155, 3.1132, 3.1111, 3.103, 3.1026, 3.0963, 3.0798, 3.0793, 3.0787, 3.0751, 3.072, 3.072, 3.0661, 3.0641, 3.0613, 3.0603, 2.9027, 2.9094, 2.9067, 2.2088, 2.1689, 2.5902, 0.171, 2.3143, 2.2779, 1.2981, 3.2522, 3.2486, 3.2486, 3.2414, 3.2397, 3.2393, 3.2381, 3.2371, 3.2355, 3.2351, 3.2339, 3.2335, 3.2316, 3.229, 3.2264, 3.2216, 3.2187, 3.2156, 3.2124, 3.2096, 3.2073, 3.2049, 3.1928, 3.1928, 3.1752, 3.1676, 3.1666, 3.1616, 3.1592, 3.158, 2.7849, 2.8759, 2.7023, 0.4604, 0.9986, -0.1873, 3.3005, 3.2926, 3.2921, 3.2921, 3.2906, 3.288, 3.2839, 3.2832, 3.283, 3.2824, 3.2809, 3.2788, 3.2767, 3.2764, 3.2689, 3.2633, 3.2629, 3.2613, 3.2566, 3.2522, 3.2522, 3.2522, 3.2522, 3.2474, 3.2469, 3.2463, 3.2463, 3.2452, 3.2441, 3.2323, 1.8538, 0.2119, 1.9772, 1.6822, -0.1959, 0.3128]}, \"lambda.step\": 0.01, \"mdsDat\": {\"x\": [0.20749664981403682, 0.0499931230361233, -0.07553324883847494, -0.2614169145325912, -0.2073167118708771, 0.21679349405087106, 0.10187604022495554, -0.2703210549902951, -0.14263411790817654, 0.17425726216687565, 0.12534873823754403, 0.12638075938280083, 0.04471280477046669, -0.11773756745999636, 0.028100743916737295], \"Freq\": [17.841964435077504, 10.844555523089902, 9.560984531077372, 7.390222536177814, 7.290986389144859, 5.697244096592872, 5.367767048417644, 5.276658423938949, 5.009523972760464, 4.97662078154626, 4.474373247282229, 4.4716823587031485, 4.275167900917344, 3.8462431724076076, 3.6760055828660243], \"y\": [-0.29261023272985415, 0.18706869944722568, 0.024185776711733595, -0.019644630643757124, -0.007765056821180526, -0.3427573445581351, 0.10861266946448031, -0.09020716693897442, -0.09944948016607533, 0.14696071666948152, 0.060981393789981526, 0.22095601803105924, 0.10595438621634237, -0.03611547189832628, 0.03382972342600003], \"cluster\": [1, 1, 1, 1, 1, 1, 1, 1, 1, 1, 1, 1, 1, 1, 1], \"topics\": [1, 2, 3, 4, 5, 6, 7, 8, 9, 10, 11, 12, 13, 14, 15]}, \"token.table\": {\"Term\": [\"abi\", \"accessori\", \"accessori\", \"activ\", \"activ\", \"aerial\", \"afro\", \"aftershav\", \"aftershav\", \"aircraft\", \"airlin\", \"airplan\", \"alcohol\", \"alp\", \"alphabet\", \"aluminium\", \"anim\", \"anim\", \"anim\", \"ankl\", \"apart\", \"apart\", \"apparel\", \"apparel\", \"appl\", \"applianc\", \"arch\", \"architectur\", \"architectur\", \"arctic\", \"arecacea\", \"arecacea\", \"arm\", \"arrang\", \"art\", \"art\", \"astronomi\", \"audienc\", \"automobil\", \"babi\", \"back\", \"back\", \"backyard\", \"badg\", \"bag\", \"ball\", \"banist\", \"barbi\", \"bartend\", \"basebal\", \"basin\", \"bathroom\", \"bathtub\", \"beach\", \"bean\", \"beard\", \"bed\", \"bedroom\", \"beer\", \"bell\", \"bench\", \"beverag\", \"bicycl\", \"bike\", \"bikini\", \"bird\", \"biscuit\", \"blackboard\", \"blanket\", \"blazer\", \"blizzard\", \"blond\", \"blossom\", \"blous\", \"board\", \"boardwalk\", \"boat\", \"bonsai\", \"bonsai\", \"book\", \"book\", \"bookcas\", \"boot\", \"bottl\", \"bouquet\", \"bowl\", \"braid\", \"bread\", \"bread\", \"breakfast\", \"brick\", \"bride\", \"bridesmaid\", \"bridesmaid\", \"bridg\", \"bridg\", \"brochur\", \"bu\", \"buffet\", \"build\", \"build\", \"build\", \"build\", \"burger\", \"bush\", \"butter\", \"cabbag\", \"cafe\", \"cafeteria\", \"cake\", \"can\", \"canal\", \"canin\", \"canopi\", \"canopi\", \"canyon\", \"cap\", \"car\", \"card\", \"cardigan\", \"carpet\", \"castl\", \"castl\", \"cat\", \"cave\", \"celebr\", \"celebr\", \"celebr\", \"celebr\", \"celebr\", \"celebr\", \"celebr\", \"cell\", \"chair\", \"chandeli\", \"chihuahua\", \"child\", \"chocol\", \"citi\", \"citru\", \"cliff\", \"clock\", \"cloth\", \"cloth\", \"cloth\", \"cloth\", \"cloth\", \"clown\", \"club\", \"coast\", \"coat\", \"coffe\", \"coffe\", \"collag\", \"column\", \"comic\", \"comput\", \"comput\", \"confer\", \"conif\", \"contain\", \"convert\", \"cooki\", \"corset\", \"cosmet\", \"cosmet\", \"costum\", \"cottag\", \"couch\", \"countrysid\", \"coup\", \"court\", \"cowboy\", \"cream\", \"creme\", \"crest\", \"crowd\", \"cup\", \"cup\", \"curtain\", \"cushion\", \"cutleri\", \"dairi\", \"danc\", \"dawn\", \"debat\", \"decor\", \"den\", \"denim\", \"deodor\", \"desert\", \"design\", \"dessert\", \"devic\", \"diagram\", \"dimpl\", \"dine\", \"dinghi\", \"dinner\", \"dirt\", \"dish\", \"dock\", \"document\", \"dog\", \"doll\", \"dome\", \"domino\", \"door\", \"downtown\", \"draw\", \"dress\", \"drink\", \"dusk\", \"electr\", \"electron\", \"electron\", \"electron\", \"emblem\", \"even\", \"exercis\", \"face\", \"factori\", \"femal\", \"fenc\", \"ferri\", \"field\", \"field\", \"field\", \"figurin\", \"finger\", \"fir\", \"fire\", \"fireplac\", \"fit\", \"fixtur\", \"flamenco\", \"flora\", \"flora\", \"flower\", \"flyer\", \"food\", \"food\", \"footwear\", \"forest\", \"fort\", \"fruit\", \"fur\", \"furnitur\", \"game\", \"garden\", \"gazebo\", \"gift\", \"girl\", \"glacier\", \"glass\", \"glass\", \"glider\", \"goggl\", \"gown\", \"graffiti\", \"grain\", \"grapefruit\", \"grassland\", \"gravel\", \"guitar\", \"guitarist\", \"hair\", \"hair\", \"haircut\", \"hairstyl\", \"hand\", \"hand\", \"handbag\", \"handrail\", \"handwrit\", \"harbor\", \"hat\", \"head\", \"headrest\", \"hearth\", \"hedg\", \"heel\", \"helmet\", \"high\", \"hole\", \"home\", \"hors\", \"hotel\", \"hous\", \"hous\", \"hug\", \"human\", \"human\", \"hut\", \"ice\", \"ice\", \"iceberg\", \"ikebana\", \"indoor\", \"insect\", \"instrument\", \"interior\", \"invertebr\", \"iphon\", \"island\", \"ivi\", \"jacket\", \"jacuzzi\", \"jam\", \"jar\", \"jean\", \"jet\", \"jewelri\", \"juic\", \"kid\", \"kilt\", \"kiss\", \"lagoon\", \"lake\", \"lamp\", \"land\", \"landscap\", \"laptop\", \"leisur\", \"leisur\", \"licens\", \"life\", \"life\", \"light\", \"lilac\", \"linen\", \"liner\", \"lingeri\", \"lip\", \"lipstick\", \"liquor\", \"live\", \"loft\", \"logo\", \"long\", \"lotion\", \"luggag\", \"magazin\", \"maillot\", \"make\", \"make\", \"makeup\", \"mammal\", \"manicur\", \"mansion\", \"market\", \"mascara\", \"massag\", \"meal\", \"meet\", \"militari\", \"milk\", \"milkshak\", \"miniskirt\", \"mirror\", \"mobil\", \"modern\", \"monasteri\", \"moon\", \"mosquito\", \"motorcycl\", \"mountain\", \"mous\", \"mouth\", \"music\", \"musician\", \"nail\", \"natur\", \"natur\", \"newborn\", \"night\", \"ocean\", \"offic\", \"orang\", \"ornament\", \"ornament\", \"outdoor\", \"outdoor\", \"outer\", \"oven\", \"overcoat\", \"paint\", \"paint\", \"palett\", \"palm\", \"palm\", \"pant\", \"paper\", \"parad\", \"park\", \"park\", \"parliament\", \"parti\", \"pastri\", \"path\", \"patient\", \"patio\", \"pavement\", \"pc\", \"peak\", \"pebbl\", \"peopl\", \"peopl\", \"perform\", \"perform\", \"perform\", \"perfum\", \"person\", \"person\", \"pet\", \"petal\", \"phone\", \"photograph\", \"pier\", \"pillar\", \"plaid\", \"plant\", \"plant\", \"planter\", \"plate\", \"pole\", \"polic\", \"ponytail\", \"pool\", \"port\", \"portrait\", \"pose\", \"poster\", \"poster\", \"pot\", \"potteri\", \"premier\", \"press\", \"produc\", \"promontori\", \"purs\", \"rainforest\", \"rang\", \"rang\", \"recept\", \"red\", \"red\", \"reef\", \"resort\", \"restaur\", \"restaur\", \"rise\", \"road\", \"robe\", \"rock\", \"roof\", \"roof\", \"room\", \"runway\", \"rural\", \"sailboat\", \"sand\", \"sari\", \"sceneri\", \"screen\", \"sculptur\", \"sea\", \"shack\", \"shampoo\", \"shelf\", \"shelter\", \"ship\", \"shoe\", \"shop\", \"shop\", \"short\", \"short\", \"sidewalk\", \"sign\", \"silhouett\", \"sink\", \"sketch\", \"skin\", \"skin\", \"skirt\", \"sky\", \"skylight\", \"skyscrap\", \"sleev\", \"smile\", \"snow\", \"soil\", \"spa\", \"space\", \"spaniel\", \"speech\", \"sphere\", \"sport\", \"squash\", \"stage\", \"stage\", \"staircas\", \"station\", \"statu\", \"storm\", \"street\", \"subway\", \"suit\", \"suitcas\", \"sunglass\", \"sunglass\", \"sunris\", \"sunset\", \"supper\", \"sweater\", \"swim\", \"swimwear\", \"tabl\", \"takeoff\", \"tango\", \"tartan\", \"tattoo\", \"team\", \"tenni\", \"termin\", \"text\", \"text\", \"text\", \"text\", \"text\", \"text\", \"text\", \"text\", \"text\", \"text\", \"text\", \"tie\", \"tin\", \"toast\", \"tornado\", \"tote\", \"tower\", \"town\", \"toy\", \"trademark\", \"train\", \"transport\", \"transport\", \"transport\", \"tree\", \"tree\", \"trophi\", \"tub\", \"tuxedo\", \"umbrella\", \"underwear\", \"uniform\", \"univers\", \"urban\", \"valley\", \"van\", \"vase\", \"veget\", \"veget\", \"vehicl\", \"vessel\", \"view\", \"vigil\", \"villa\", \"vine\", \"wait\", \"walk\", \"walkway\", \"water\", \"watercraft\", \"weather\", \"weather\", \"wed\", \"wed\", \"wed\", \"white\", \"window\", \"wine\", \"winter\", \"woman\", \"wood\", \"word\", \"work\", \"worker\", \"worship\", \"yacht\", \"yard\", \"yew\"], \"Freq\": [0.9178362556059316, 0.4143869565033018, 0.5635662608444905, 0.6779484145566571, 0.31793442889553575, 0.9880541690982309, 0.9936340795081875, 0.8605349442440657, 0.11951874225612025, 0.9861405397254683, 0.9272396861804653, 0.97379591074957, 0.9808682961450942, 0.9342117903746491, 0.9085750939569336, 0.9240094170444098, 0.49977445818567434, 0.2287103452714103, 0.26259335938569334, 0.8852278330076677, 0.4807816762464774, 0.4807816762464774, 0.5647944937191913, 0.4344573028609164, 0.9032119865477745, 0.9778743900560535, 0.9817262321843013, 0.2406725898290733, 0.7557119320632902, 0.8159085421432214, 0.5030668860996713, 0.4802002094587771, 0.9801263813942946, 0.9718719326723689, 0.21103873069952372, 0.776321045073248, 0.9313136432682354, 0.9948613730839685, 0.9943187584700792, 0.9355154777161305, 0.66853725119283, 0.27528004460881234, 0.8888950715210027, 0.8779613567595131, 0.9781185574990318, 0.9627895894137578, 0.9533830795544311, 0.676054868261528, 0.8351163251643161, 0.9282792396679543, 0.6770093406561003, 0.9118180864295496, 0.8364353504548868, 0.9951825997553287, 0.973090782479246, 0.9700419476513988, 0.9686016501272866, 0.9613667599411042, 0.9686433296676112, 0.9481917116765793, 0.9865310324651105, 0.9856350246420418, 0.958828854175863, 0.9648607974877733, 0.9927264346250922, 0.8044656073495555, 0.9387603077326235, 0.8815085573409802, 0.9267324440607209, 0.97735268682028, 0.8414220282307915, 0.9984138936376271, 0.9941840752262715, 0.9704396249200306, 0.8769370648119194, 0.9312708235221284, 0.9838708035945742, 0.37534556735003244, 0.5961370775559339, 0.28983160357977, 0.66247223675376, 0.9662177681391878, 0.9862372824168585, 0.9892491473455941, 0.916858488714818, 0.9938362805251725, 0.9864799011044262, 0.17850021392160698, 0.8032509626472313, 0.9507482467983075, 0.9822618104866851, 0.9445387052936627, 0.34226956368761313, 0.635643475419853, 0.6450565967836139, 0.3336499638535934, 0.9909165763973768, 0.9171070358448091, 0.9185562432537576, 0.2628746945852934, 0.4007460378992585, 0.10845879007365253, 0.2297855721899418, 0.926992654554812, 0.9513019095952606, 0.8993873984780988, 0.9460321822392045, 0.9497738639839501, 0.9185562432537576, 0.9897311099596838, 0.8893784206748588, 0.9491940250005618, 0.9618149744836071, 0.8120589275108477, 0.1503812828723792, 0.8855097623974124, 0.9504049179801035, 0.9938840212961362, 0.9087683594192593, 0.9581076266624623, 0.9970923504190593, 0.14175532506034347, 0.8505319503620608, 0.9219138758783257, 0.95683163563993, 0.02909824584443762, 0.03720759304698581, 0.29718372395220716, 0.09540408473586104, 0.4348041161836867, 0.07441518609397162, 0.03196036838651345, 0.9701693740494441, 0.9955727825814201, 0.8884886093368746, 0.8658237249673861, 0.9430457729998194, 0.9708384882699189, 0.9960298918182101, 0.9267200394887036, 0.9626591697706715, 0.9757568314590256, 0.373346337328313, 0.07282764876135255, 0.41854970552501464, 0.10463742638125366, 0.030135578797801054, 0.9408443960534413, 0.9809200822474408, 0.9910884817447239, 0.997506282663472, 0.2877692672580807, 0.6801819044281908, 0.9945658503371079, 0.9201791574939664, 0.9253685136690691, 0.511259078762178, 0.469805639943623, 0.965092393301335, 0.9721608198396614, 0.9461569688650895, 0.9496965168475676, 0.9387603077326235, 0.9709283557880407, 0.7610465875849823, 0.23515484447850576, 0.9185594367668437, 0.9893460885353673, 0.9944789939338422, 0.9689344924880974, 0.8834435593577203, 0.9588723855728892, 0.9677698318062701, 0.9701542563355932, 0.9584097181548658, 0.9100318629316121, 0.9958079919214489, 0.8352421256984082, 0.15259231142567073, 0.9076651392585663, 0.9638488080985483, 0.931255468823452, 0.9302788946704607, 0.9927478688848683, 0.9614620922938462, 0.9488306013715162, 0.9814314736681716, 0.8505594357979169, 0.9803540198054792, 0.9773675937681899, 0.9651832890863682, 0.9978100556451106, 0.9879445841322976, 0.9883300324642462, 0.9362269070334427, 0.9768508584837944, 0.9975008567872412, 0.952697526195931, 0.9371321414431786, 0.9505794613165232, 0.991760779780675, 0.935711353139738, 0.9352789961966796, 0.9533515990888798, 0.8187627662494058, 0.9282677214008614, 0.7892870411788296, 0.917187606249956, 0.9899222206630183, 0.9756220287752192, 0.9749911084945316, 0.9880113916133424, 0.9614620922938462, 0.9687234276697277, 0.5321562158194266, 0.38011158272816187, 0.0868826474807227, 0.9541932845186284, 0.9536046467356019, 0.991585278647789, 0.9987628222803483, 0.944299335970349, 0.9990622965570352, 0.9099884870751744, 0.9086776780087465, 0.25796569649114176, 0.07370448471175478, 0.6264881200499157, 0.9292384650566344, 0.927240545559671, 0.9178362556059316, 0.8437374906448122, 0.9343633959231723, 0.9895224558709729, 0.9330272611990568, 0.9414106318147477, 0.8672947741509638, 0.1313730690067814, 0.9899980232453288, 0.9909165763973768, 0.607484935835647, 0.3896616520698772, 0.9946200026830613, 0.9043860905656781, 0.9704294299879517, 0.9925201456567677, 0.9310412521439435, 0.9982273297260799, 0.9271320067462621, 0.8946137026125084, 0.8862315508826434, 0.8789724597523112, 0.9991710311464341, 0.9039852163203325, 0.4225876448743186, 0.577823922583252, 0.7519536001685763, 0.9549691565682202, 0.9943607867999157, 0.920148919879206, 0.8985227565400161, 0.9267200394887036, 0.9573758767873871, 0.9505794613165232, 0.9748350230124084, 0.9698318908208893, 0.7988984169782922, 0.19500670020729965, 0.7601696739183419, 0.9936340795081875, 0.2168275587334518, 0.7588964555670813, 0.9333330154115888, 0.9533830795544311, 0.9496622096515144, 0.9522048365758027, 0.9955269757661359, 0.9860100666291448, 0.9221853308607958, 0.9455395082018045, 0.9582592115411903, 0.9394351667386432, 0.9250919333232377, 0.9799122691985188, 0.905897955520197, 0.9832290732415596, 0.9306064549430053, 0.9794665192964827, 0.918900216367819, 0.07760981557160634, 0.895505444209687, 0.9123115078406827, 0.08741660789414207, 0.8321837295203589, 0.5630514022106416, 0.41616842772090906, 0.8754660226653175, 0.9340416547889335, 0.997344661829055, 0.9080111633606928, 0.9708020651650529, 0.9944946617549025, 0.9811389927977864, 0.9076809007105693, 0.9332885889913809, 0.9749202016011987, 0.9838110049615209, 0.8580264316992559, 0.8749861411163568, 0.998411385233937, 0.9803540198054792, 0.9305129676711432, 0.9640405024578768, 0.9801406514718866, 0.9430457729998194, 0.9176220677489645, 0.991007547320518, 0.9307166114111521, 0.9210452531463348, 0.9646737704633853, 0.9662012353754649, 0.9736632013556772, 0.984507806561929, 0.6779484145566571, 0.31793442889553575, 0.8850026598205332, 0.5592009815927033, 0.4242214343117059, 0.9691502359115428, 0.8657083463501299, 0.9732377476486942, 0.9193139966838553, 0.987790870369954, 0.9778727308930574, 0.9872736217949846, 0.9485265485523418, 0.9531125644493419, 0.9633388714596723, 0.9925175606963855, 0.9410077413959562, 0.9830855418109069, 0.9880363455539578, 0.9516876826774989, 0.9614824212338072, 0.8519810308010376, 0.12171157582871966, 0.8128409239502103, 0.9906806215914907, 0.9536760300101879, 0.9726274622239326, 0.896305104668998, 0.9735815852304053, 0.944736552697719, 0.9939263609077506, 0.9151738731001429, 0.9703855004531055, 0.9302788946704607, 0.9274302374625056, 0.9470310918218556, 0.9652936285536576, 0.9701693740494441, 0.9374539539092728, 0.9501010809709545, 0.874779136301978, 0.871966634790733, 0.9708652814434476, 0.9848362566609727, 0.7180731116054954, 0.9778727308930574, 0.9913658364479865, 0.9486024275050671, 0.9520401369472957, 0.09185837688782568, 0.9032740393969525, 0.9336210165887704, 0.9855004088971706, 0.995320404517875, 0.963519004787814, 0.9081914424021766, 0.3068065884001837, 0.6817924186670749, 0.08907151449083481, 0.908529447806515, 0.9313136432682354, 0.971999981139899, 0.9977450153276409, 0.7944450477249065, 0.18158743947997863, 0.9314012061587768, 0.5030668860996713, 0.4802002094587771, 0.9873456519978432, 0.9917189723566981, 0.9679222288724084, 0.8138388646168611, 0.16276777292337222, 0.8895934685180386, 0.9672588672800115, 0.9038279277804386, 0.9422872026841422, 0.944736552697719, 0.9478060575172977, 0.9161256943234368, 0.984507806561929, 0.9261274269052203, 0.7723738787279983, 0.9130334826766132, 0.08675442700165684, 0.27363537978376656, 0.12769651056575773, 0.5928766561981609, 0.9807909284020849, 0.9123115078406827, 0.08741660789414207, 0.9742997998813789, 0.6337780126340316, 0.9940141955660589, 0.9536871997365526, 0.935711353139738, 0.9201791574939664, 0.975177943724529, 0.9199503414103399, 0.07919633992156654, 0.9729852927275681, 0.9800566323650469, 0.8797535955631246, 0.9216799219314454, 0.9684950282440207, 0.9867954692524817, 0.9611771804655466, 0.9980517917528829, 0.9927132526491366, 0.3753380044069485, 0.6244259527861052, 0.9977043267828835, 0.9991315538903573, 0.9978308199857443, 0.8805310768151667, 0.9888614476656516, 0.9700393879889134, 0.9333330154115888, 0.9246257906909688, 0.31290974855939113, 0.6779711218786808, 0.9828032476256235, 0.9469365730181445, 0.04968494364601375, 0.9085011613450766, 0.9839559654689032, 0.6399824677392972, 0.33881424762668677, 0.9765779762853672, 0.982409345921749, 0.9897652006130215, 0.9659569887504763, 0.14919558089883614, 0.7957097647937927, 0.9989010670480091, 0.9838467183068698, 0.9539827602656687, 0.915350356190159, 0.9126095518053561, 0.9638635727730575, 0.9736632013556774, 0.9037729737267306, 0.9449752825125428, 0.9970291351436141, 0.8321837295203589, 0.95982820562496, 0.8814312566221767, 0.8321837295203589, 0.939714283888463, 0.9882516774244385, 0.20055781495796737, 0.7799470581698731, 0.48649164613779455, 0.48649164613779455, 0.9161256943234368, 0.9707526764798949, 0.9026208527739434, 0.9774129395691225, 0.9047566874672568, 0.3031263076141761, 0.6062526152283522, 0.9695655135146323, 0.9762537188049674, 0.8425485097142206, 0.9391487500710708, 0.9671922616047542, 0.9928763353554156, 0.9793919070875243, 0.9640038890281695, 0.8849855801511421, 0.9829571438797966, 0.9554319025172295, 0.9882630670864994, 0.9513297488801636, 0.9979716735216485, 0.9166527859674785, 0.6465234686686553, 0.29387430394029784, 0.9280181909015008, 0.9480294320907429, 0.8986783012840848, 0.9338584144015846, 0.9686596374438, 0.8823058336854869, 0.9971489191079734, 0.9632296015294649, 0.8102033951044019, 0.16204067902088037, 0.9614620922938462, 0.9614620922938462, 0.9371321414431786, 0.9855171591425247, 0.9556241578504127, 0.9932752370357142, 0.9957662386963452, 0.9409747427261147, 0.9612315984718354, 0.975177943724529, 0.9415522469473099, 0.963826757260693, 0.8635297141797184, 0.9358449875560378, 0.1729090116981797, 0.03767937019626109, 0.0735094461497609, 0.3918192176850463, 0.04045331156040301, 0.06356948959491901, 0.03421194349108369, 0.028201737202109528, 0.05062442989559005, 0.061026710011122254, 0.04553887072799653, 0.9672419588518626, 0.8719578423670779, 0.9445940771759903, 0.6666537486166254, 0.8975984354892536, 0.9907332192797231, 0.9952440433905347, 0.9720613533795428, 0.9925175606963855, 0.9661056612112997, 0.16825467005414937, 0.09897333532597022, 0.7324026814121796, 0.7833243423022361, 0.2136339115369735, 0.8124934927810902, 0.9133763456292509, 0.9810173640001082, 0.9655259996289302, 0.9807867945238602, 0.9406799866691214, 0.9313136432682354, 0.9929260742957314, 0.8803368117177235, 0.9312641291990847, 0.9984000201329751, 0.18817169274746776, 0.799729694176738, 0.9969471786798809, 0.9907108716727593, 0.9880541690982309, 0.9059582976784942, 0.9853080013659588, 0.8891375322433231, 0.9848529250100572, 0.9617610347201799, 0.9401339423201809, 0.9971219968861453, 0.9907108716727593, 0.47798453151593445, 0.47798453151593445, 0.49306210522484695, 0.4541361495492011, 0.03892595567564581, 0.8769370648119194, 0.9855785480794548, 0.8920146936956121, 0.8940389695290174, 0.9991710311464341, 0.9317511084000741, 0.9782651313281725, 0.991585278647789, 0.7942435955256455, 0.9717470103098191, 0.9597098490887442, 0.9104983058956834, 0.9291753201016774], \"Topic\": [2, 1, 13, 6, 8, 7, 8, 7, 15, 8, 11, 8, 13, 10, 9, 2, 9, 10, 15, 1, 3, 6, 1, 4, 12, 14, 12, 7, 12, 1, 2, 10, 1, 2, 2, 13, 11, 4, 11, 3, 1, 14, 9, 14, 1, 13, 6, 5, 8, 9, 5, 4, 8, 10, 13, 3, 14, 3, 6, 12, 1, 13, 4, 4, 6, 8, 14, 4, 8, 12, 5, 5, 2, 15, 8, 5, 7, 3, 6, 3, 11, 12, 3, 15, 10, 12, 15, 7, 13, 14, 7, 1, 1, 7, 7, 12, 13, 11, 12, 2, 7, 10, 12, 14, 6, 13, 10, 3, 12, 13, 2, 7, 9, 11, 15, 4, 6, 11, 14, 14, 3, 7, 12, 9, 10, 2, 3, 4, 5, 8, 9, 14, 5, 3, 6, 6, 3, 14, 7, 12, 10, 12, 6, 7, 9, 14, 15, 11, 13, 10, 9, 3, 12, 14, 6, 13, 4, 5, 4, 2, 1, 11, 14, 6, 7, 15, 9, 2, 3, 10, 11, 12, 6, 13, 13, 5, 4, 12, 13, 2, 8, 12, 9, 6, 15, 4, 3, 5, 6, 15, 10, 3, 13, 14, 8, 11, 3, 7, 12, 15, 12, 7, 13, 9, 5, 14, 8, 5, 7, 10, 7, 13, 15, 14, 4, 5, 13, 14, 7, 15, 11, 4, 5, 2, 4, 2, 7, 9, 13, 13, 2, 8, 14, 15, 15, 6, 2, 12, 2, 13, 12, 13, 3, 9, 12, 12, 2, 3, 4, 2, 2, 13, 5, 5, 1, 14, 8, 1, 7, 9, 14, 12, 9, 15, 8, 8, 8, 15, 8, 8, 1, 3, 1, 6, 4, 12, 6, 14, 8, 14, 2, 10, 15, 7, 13, 3, 1, 10, 2, 7, 1, 1, 6, 9, 5, 13, 5, 6, 3, 11, 3, 3, 15, 5, 10, 9, 12, 8, 1, 2, 6, 15, 14, 13, 3, 14, 11, 5, 5, 3, 10, 7, 4, 6, 8, 1, 10, 13, 15, 2, 3, 12, 14, 11, 7, 13, 4, 6, 14, 15, 15, 4, 4, 6, 1, 5, 5, 9, 8, 2, 6, 7, 1, 12, 1, 11, 9, 9, 14, 4, 5, 2, 9, 11, 11, 6, 10, 5, 11, 8, 8, 8, 7, 10, 3, 13, 10, 7, 12, 2, 14, 7, 10, 11, 14, 9, 1, 3, 1, 2, 10, 6, 13, 4, 10, 13, 12, 9, 13, 1, 1, 7, 1, 4, 4, 5, 1, 6, 1, 6, 8, 7, 1, 6, 9, 5, 5, 7, 7, 6, 10, 2, 12, 10, 12, 11, 11, 15, 10, 12, 11, 6, 13, 14, 2, 2, 3, 4, 12, 9, 1, 9, 4, 5, 3, 3, 15, 10, 10, 3, 12, 7, 15, 7, 6, 2, 10, 3, 6, 10, 11, 10, 7, 7, 13, 13, 10, 9, 15, 1, 9, 4, 3, 6, 13, 1, 6, 1, 15, 8, 1, 10, 1, 8, 14, 15, 5, 7, 15, 11, 5, 10, 10, 11, 15, 4, 13, 15, 12, 1, 4, 6, 4, 13, 5, 15, 4, 9, 4, 1, 14, 15, 15, 12, 14, 10, 6, 3, 4, 6, 10, 14, 9, 5, 4, 1, 2, 3, 4, 5, 7, 9, 12, 13, 14, 15, 13, 2, 7, 5, 1, 12, 7, 13, 14, 11, 7, 8, 11, 2, 10, 8, 8, 9, 11, 14, 11, 11, 7, 4, 8, 2, 10, 12, 11, 7, 7, 1, 2, 2, 3, 6, 1, 10, 7, 5, 7, 1, 7, 9, 8, 2, 9, 5, 5, 3, 15, 15, 8, 12, 11, 9, 2]}, \"R\": 30, \"plot.opts\": {\"xlab\": \"PC1\", \"ylab\": \"PC2\"}, \"topic.order\": [9, 12, 5, 8, 11, 10, 7, 2, 14, 15, 4, 3, 13, 6, 1]};\n",
       "\n",
       "function LDAvis_load_lib(url, callback){\n",
       "  var s = document.createElement('script');\n",
       "  s.src = url;\n",
       "  s.async = true;\n",
       "  s.onreadystatechange = s.onload = callback;\n",
       "  s.onerror = function(){console.warn(\"failed to load library \" + url);};\n",
       "  document.getElementsByTagName(\"head\")[0].appendChild(s);\n",
       "}\n",
       "\n",
       "if(typeof(LDAvis) !== \"undefined\"){\n",
       "   // already loaded: just create the visualization\n",
       "   !function(LDAvis){\n",
       "       new LDAvis(\"#\" + \"ldavis_el8681545177559043346392083\", ldavis_el8681545177559043346392083_data);\n",
       "   }(LDAvis);\n",
       "}else if(typeof define === \"function\" && define.amd){\n",
       "   // require.js is available: use it to load d3/LDAvis\n",
       "   require.config({paths: {d3: \"https://cdnjs.cloudflare.com/ajax/libs/d3/3.5.5/d3.min\"}});\n",
       "   require([\"d3\"], function(d3){\n",
       "      window.d3 = d3;\n",
       "      LDAvis_load_lib(\"https://cdn.rawgit.com/bmabey/pyLDAvis/files/ldavis.v1.0.0.js\", function(){\n",
       "        new LDAvis(\"#\" + \"ldavis_el8681545177559043346392083\", ldavis_el8681545177559043346392083_data);\n",
       "      });\n",
       "    });\n",
       "}else{\n",
       "    // require.js not available: dynamically load d3 & LDAvis\n",
       "    LDAvis_load_lib(\"https://cdnjs.cloudflare.com/ajax/libs/d3/3.5.5/d3.min.js\", function(){\n",
       "         LDAvis_load_lib(\"https://cdn.rawgit.com/bmabey/pyLDAvis/files/ldavis.v1.0.0.js\", function(){\n",
       "                 new LDAvis(\"#\" + \"ldavis_el8681545177559043346392083\", ldavis_el8681545177559043346392083_data);\n",
       "            })\n",
       "         });\n",
       "}\n",
       "</script>"
      ],
      "text/plain": [
       "<IPython.core.display.HTML object>"
      ]
     },
     "execution_count": 3,
     "metadata": {},
     "output_type": "execute_result"
    }
   ],
   "source": [
    "labels_vis = pyLDAvis.gensim.prepare(model, corpus, dictionary)\n",
    "pyLDAvis.display(labels_vis)"
   ]
  },
  {
   "cell_type": "code",
   "execution_count": null,
   "metadata": {
    "collapsed": true
   },
   "outputs": [],
   "source": []
  }
 ],
 "metadata": {
  "anaconda-cloud": {},
  "kernelspec": {
   "display_name": "Python [default]",
   "language": "python",
   "name": "python3"
  },
  "language_info": {
   "codemirror_mode": {
    "name": "ipython",
    "version": 3
   },
   "file_extension": ".py",
   "mimetype": "text/x-python",
   "name": "python",
   "nbconvert_exporter": "python",
   "pygments_lexer": "ipython3",
   "version": "3.5.2"
  }
 },
 "nbformat": 4,
 "nbformat_minor": 0
}
